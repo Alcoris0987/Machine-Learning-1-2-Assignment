{
  "cells": [
    {
      "cell_type": "code",
      "execution_count": 1,
      "id": "bc57aedb",
      "metadata": {
        "colab": {
          "base_uri": "https://localhost:8080/"
        },
        "id": "bc57aedb",
        "outputId": "16bef4cc-8a6e-4893-d92e-dcc632e4882d"
      },
      "outputs": [
        {
          "output_type": "stream",
          "name": "stdout",
          "text": [
            "1.0.2\n"
          ]
        }
      ],
      "source": [
        "import pandas as pd\n",
        "import numpy as np\n",
        "import matplotlib.pyplot as plt\n",
        "%matplotlib inline\n",
        "import sklearn \n",
        "print(sklearn.__version__)\n",
        "import seaborn as sns # for better looks"
      ]
    },
    {
      "cell_type": "code",
      "source": [
        "from google.colab import drive\n",
        "drive.mount('/content/drive', force_remount=True)"
      ],
      "metadata": {
        "colab": {
          "base_uri": "https://localhost:8080/"
        },
        "id": "ArvSAuCQzGE8",
        "outputId": "bb92d3f8-d522-4463-db0b-62c1b29f1e0d"
      },
      "id": "ArvSAuCQzGE8",
      "execution_count": 2,
      "outputs": [
        {
          "output_type": "stream",
          "name": "stdout",
          "text": [
            "Mounted at /content/drive\n"
          ]
        }
      ]
    },
    {
      "cell_type": "code",
      "source": [
        "! pip install kaggle\n",
        "! mkdir ~/.kaggle\n",
        "! cp kaggle.json ~/.kaggle/\n",
        "! chmod 600 ~/.kaggle/kaggle.json"
      ],
      "metadata": {
        "colab": {
          "base_uri": "https://localhost:8080/"
        },
        "id": "WGWCfGV-x1WL",
        "outputId": "02d4ebe9-8091-47d5-d1b1-10f36451cda2"
      },
      "id": "WGWCfGV-x1WL",
      "execution_count": 3,
      "outputs": [
        {
          "output_type": "stream",
          "name": "stdout",
          "text": [
            "Requirement already satisfied: kaggle in /usr/local/lib/python3.7/dist-packages (1.5.12)\n",
            "Requirement already satisfied: tqdm in /usr/local/lib/python3.7/dist-packages (from kaggle) (4.62.3)\n",
            "Requirement already satisfied: six>=1.10 in /usr/local/lib/python3.7/dist-packages (from kaggle) (1.15.0)\n",
            "Requirement already satisfied: certifi in /usr/local/lib/python3.7/dist-packages (from kaggle) (2021.10.8)\n",
            "Requirement already satisfied: python-slugify in /usr/local/lib/python3.7/dist-packages (from kaggle) (5.0.2)\n",
            "Requirement already satisfied: urllib3 in /usr/local/lib/python3.7/dist-packages (from kaggle) (1.24.3)\n",
            "Requirement already satisfied: python-dateutil in /usr/local/lib/python3.7/dist-packages (from kaggle) (2.8.2)\n",
            "Requirement already satisfied: requests in /usr/local/lib/python3.7/dist-packages (from kaggle) (2.23.0)\n",
            "Requirement already satisfied: text-unidecode>=1.3 in /usr/local/lib/python3.7/dist-packages (from python-slugify->kaggle) (1.3)\n",
            "Requirement already satisfied: chardet<4,>=3.0.2 in /usr/local/lib/python3.7/dist-packages (from requests->kaggle) (3.0.4)\n",
            "Requirement already satisfied: idna<3,>=2.5 in /usr/local/lib/python3.7/dist-packages (from requests->kaggle) (2.10)\n"
          ]
        }
      ]
    },
    {
      "cell_type": "code",
      "source": [
        "! kaggle datasets download mastmustu/income\n",
        "! unzip income.zip"
      ],
      "metadata": {
        "colab": {
          "base_uri": "https://localhost:8080/"
        },
        "id": "0egAKniOyLPv",
        "outputId": "d79cebe4-1822-4a8f-dbff-ad5920c4eb4c"
      },
      "id": "0egAKniOyLPv",
      "execution_count": 4,
      "outputs": [
        {
          "output_type": "stream",
          "name": "stdout",
          "text": [
            "Downloading income.zip to /content\n",
            "\r  0% 0.00/590k [00:00<?, ?B/s]\n",
            "\r100% 590k/590k [00:00<00:00, 9.58MB/s]\n",
            "Archive:  income.zip\n",
            "  inflating: test.csv                \n",
            "  inflating: train.csv               \n"
          ]
        }
      ]
    },
    {
      "cell_type": "markdown",
      "source": [
        "The data already provides a seperate training and testing data.\n",
        "I will be loading both of them for their intended purposes. As shown, it is clear that both datasets are different."
      ],
      "metadata": {
        "id": "l8Sf_xzvZjbN"
      },
      "id": "l8Sf_xzvZjbN"
    },
    {
      "cell_type": "code",
      "execution_count": 5,
      "id": "ce1dffab",
      "metadata": {
        "colab": {
          "base_uri": "https://localhost:8080/"
        },
        "id": "ce1dffab",
        "outputId": "b6cc0744-40e2-4b9e-f68d-13f1c122ad9d"
      },
      "outputs": [
        {
          "output_type": "stream",
          "name": "stdout",
          "text": [
            "       age  workclass  fnlwgt  ... hours-per-week  native-country income_>50K\n",
            "0       67    Private  366425  ...             60   United-States           1\n",
            "1       17    Private  244602  ...             15   United-States           0\n",
            "2       31    Private  174201  ...             40   United-States           1\n",
            "3       58  State-gov  110199  ...             40   United-States           0\n",
            "4       25  State-gov  149248  ...             40   United-States           0\n",
            "...    ...        ...     ...  ...            ...             ...         ...\n",
            "43952   52    Private   68982  ...             50   United-States           1\n",
            "43953   19    Private  116562  ...             40   United-States           0\n",
            "43954   30    Private  197947  ...             58   United-States           0\n",
            "43955   46    Private   97883  ...             35   United-States           0\n",
            "43956   30    Private  375827  ...             40   United-States           0\n",
            "\n",
            "[43957 rows x 15 columns]\n",
            "     age         workclass  fnlwgt  ... capital-loss  hours-per-week native-country\n",
            "0     39  Self-emp-not-inc  327120  ...            0              40       Portugal\n",
            "1     32           Private  123253  ...            0              42  United-States\n",
            "2     47           Private  232628  ...            0              40  United-States\n",
            "3     19           Private  374262  ...            0              20  United-States\n",
            "4     46  Self-emp-not-inc  311231  ...            0              40  United-States\n",
            "..   ...               ...     ...  ...          ...             ...            ...\n",
            "894   27           Private  302406  ...            0              55  United-States\n",
            "895   17           Private  218124  ...            0              20  United-States\n",
            "896   24           Private  127139  ...            0              40  United-States\n",
            "897   35           Private  132879  ...            0              40  United-States\n",
            "898   37         Local-gov   44694  ...            0              45  United-States\n",
            "\n",
            "[899 rows x 14 columns]\n"
          ]
        }
      ],
      "source": [
        "df = pd.read_csv(\"train.csv\")\n",
        "test_df = pd.read_csv(\"test.csv\")\n",
        "print(df)\n",
        "print(test_df)"
      ]
    },
    {
      "cell_type": "markdown",
      "id": "5ae107a9",
      "metadata": {
        "id": "5ae107a9"
      },
      "source": [
        "Initially, the dataset is trained to predict if one's salary is greater than $50,000. Instead, I am planning to see whether gender can be predicted based on all the other informations. This also means that I have to drop the relationship category, since it has information on whether the individual is a husband or wife."
      ]
    },
    {
      "cell_type": "code",
      "source": [
        "df = df.drop(columns=['relationship'])\n",
        "test_df = test_df.drop(columns=['relationship'])"
      ],
      "metadata": {
        "id": "jt9-WhWDBwFz"
      },
      "id": "jt9-WhWDBwFz",
      "execution_count": 6,
      "outputs": []
    },
    {
      "cell_type": "code",
      "execution_count": 7,
      "id": "802472b6",
      "metadata": {
        "colab": {
          "base_uri": "https://localhost:8080/",
          "height": 510
        },
        "id": "802472b6",
        "outputId": "b0a5451c-913d-4fa1-8461-f3575a7505ac"
      },
      "outputs": [
        {
          "output_type": "execute_result",
          "data": {
            "text/html": [
              "\n",
              "  <div id=\"df-7caa9d85-76d6-4691-90f0-b8727f3a8954\">\n",
              "    <div class=\"colab-df-container\">\n",
              "      <div>\n",
              "<style scoped>\n",
              "    .dataframe tbody tr th:only-of-type {\n",
              "        vertical-align: middle;\n",
              "    }\n",
              "\n",
              "    .dataframe tbody tr th {\n",
              "        vertical-align: top;\n",
              "    }\n",
              "\n",
              "    .dataframe thead th {\n",
              "        text-align: right;\n",
              "    }\n",
              "</style>\n",
              "<table border=\"1\" class=\"dataframe\">\n",
              "  <thead>\n",
              "    <tr style=\"text-align: right;\">\n",
              "      <th></th>\n",
              "      <th>age</th>\n",
              "      <th>workclass</th>\n",
              "      <th>fnlwgt</th>\n",
              "      <th>education</th>\n",
              "      <th>educational-num</th>\n",
              "      <th>marital-status</th>\n",
              "      <th>occupation</th>\n",
              "      <th>race</th>\n",
              "      <th>gender</th>\n",
              "      <th>capital-gain</th>\n",
              "      <th>capital-loss</th>\n",
              "      <th>hours-per-week</th>\n",
              "      <th>native-country</th>\n",
              "      <th>income_&gt;50K</th>\n",
              "    </tr>\n",
              "  </thead>\n",
              "  <tbody>\n",
              "    <tr>\n",
              "      <th>count</th>\n",
              "      <td>43957.000000</td>\n",
              "      <td>41459</td>\n",
              "      <td>4.395700e+04</td>\n",
              "      <td>43957</td>\n",
              "      <td>43957.000000</td>\n",
              "      <td>43957</td>\n",
              "      <td>41451</td>\n",
              "      <td>43957</td>\n",
              "      <td>43957</td>\n",
              "      <td>43957.000000</td>\n",
              "      <td>43957.000000</td>\n",
              "      <td>43957.000000</td>\n",
              "      <td>43194</td>\n",
              "      <td>43957.000000</td>\n",
              "    </tr>\n",
              "    <tr>\n",
              "      <th>unique</th>\n",
              "      <td>NaN</td>\n",
              "      <td>8</td>\n",
              "      <td>NaN</td>\n",
              "      <td>16</td>\n",
              "      <td>NaN</td>\n",
              "      <td>7</td>\n",
              "      <td>14</td>\n",
              "      <td>5</td>\n",
              "      <td>2</td>\n",
              "      <td>NaN</td>\n",
              "      <td>NaN</td>\n",
              "      <td>NaN</td>\n",
              "      <td>41</td>\n",
              "      <td>NaN</td>\n",
              "    </tr>\n",
              "    <tr>\n",
              "      <th>top</th>\n",
              "      <td>NaN</td>\n",
              "      <td>Private</td>\n",
              "      <td>NaN</td>\n",
              "      <td>HS-grad</td>\n",
              "      <td>NaN</td>\n",
              "      <td>Married-civ-spouse</td>\n",
              "      <td>Craft-repair</td>\n",
              "      <td>White</td>\n",
              "      <td>Male</td>\n",
              "      <td>NaN</td>\n",
              "      <td>NaN</td>\n",
              "      <td>NaN</td>\n",
              "      <td>United-States</td>\n",
              "      <td>NaN</td>\n",
              "    </tr>\n",
              "    <tr>\n",
              "      <th>freq</th>\n",
              "      <td>NaN</td>\n",
              "      <td>30587</td>\n",
              "      <td>NaN</td>\n",
              "      <td>14197</td>\n",
              "      <td>NaN</td>\n",
              "      <td>20147</td>\n",
              "      <td>5519</td>\n",
              "      <td>37572</td>\n",
              "      <td>29400</td>\n",
              "      <td>NaN</td>\n",
              "      <td>NaN</td>\n",
              "      <td>NaN</td>\n",
              "      <td>39429</td>\n",
              "      <td>NaN</td>\n",
              "    </tr>\n",
              "    <tr>\n",
              "      <th>mean</th>\n",
              "      <td>38.617149</td>\n",
              "      <td>NaN</td>\n",
              "      <td>1.896730e+05</td>\n",
              "      <td>NaN</td>\n",
              "      <td>10.074118</td>\n",
              "      <td>NaN</td>\n",
              "      <td>NaN</td>\n",
              "      <td>NaN</td>\n",
              "      <td>NaN</td>\n",
              "      <td>1093.559797</td>\n",
              "      <td>88.246491</td>\n",
              "      <td>40.407694</td>\n",
              "      <td>NaN</td>\n",
              "      <td>0.239279</td>\n",
              "    </tr>\n",
              "    <tr>\n",
              "      <th>std</th>\n",
              "      <td>13.734401</td>\n",
              "      <td>NaN</td>\n",
              "      <td>1.058215e+05</td>\n",
              "      <td>NaN</td>\n",
              "      <td>2.575092</td>\n",
              "      <td>NaN</td>\n",
              "      <td>NaN</td>\n",
              "      <td>NaN</td>\n",
              "      <td>NaN</td>\n",
              "      <td>7570.536063</td>\n",
              "      <td>404.588410</td>\n",
              "      <td>12.400303</td>\n",
              "      <td>NaN</td>\n",
              "      <td>0.426648</td>\n",
              "    </tr>\n",
              "    <tr>\n",
              "      <th>min</th>\n",
              "      <td>17.000000</td>\n",
              "      <td>NaN</td>\n",
              "      <td>1.349200e+04</td>\n",
              "      <td>NaN</td>\n",
              "      <td>1.000000</td>\n",
              "      <td>NaN</td>\n",
              "      <td>NaN</td>\n",
              "      <td>NaN</td>\n",
              "      <td>NaN</td>\n",
              "      <td>0.000000</td>\n",
              "      <td>0.000000</td>\n",
              "      <td>1.000000</td>\n",
              "      <td>NaN</td>\n",
              "      <td>0.000000</td>\n",
              "    </tr>\n",
              "    <tr>\n",
              "      <th>25%</th>\n",
              "      <td>28.000000</td>\n",
              "      <td>NaN</td>\n",
              "      <td>1.174960e+05</td>\n",
              "      <td>NaN</td>\n",
              "      <td>9.000000</td>\n",
              "      <td>NaN</td>\n",
              "      <td>NaN</td>\n",
              "      <td>NaN</td>\n",
              "      <td>NaN</td>\n",
              "      <td>0.000000</td>\n",
              "      <td>0.000000</td>\n",
              "      <td>40.000000</td>\n",
              "      <td>NaN</td>\n",
              "      <td>0.000000</td>\n",
              "    </tr>\n",
              "    <tr>\n",
              "      <th>50%</th>\n",
              "      <td>37.000000</td>\n",
              "      <td>NaN</td>\n",
              "      <td>1.781000e+05</td>\n",
              "      <td>NaN</td>\n",
              "      <td>10.000000</td>\n",
              "      <td>NaN</td>\n",
              "      <td>NaN</td>\n",
              "      <td>NaN</td>\n",
              "      <td>NaN</td>\n",
              "      <td>0.000000</td>\n",
              "      <td>0.000000</td>\n",
              "      <td>40.000000</td>\n",
              "      <td>NaN</td>\n",
              "      <td>0.000000</td>\n",
              "    </tr>\n",
              "    <tr>\n",
              "      <th>75%</th>\n",
              "      <td>48.000000</td>\n",
              "      <td>NaN</td>\n",
              "      <td>2.376710e+05</td>\n",
              "      <td>NaN</td>\n",
              "      <td>12.000000</td>\n",
              "      <td>NaN</td>\n",
              "      <td>NaN</td>\n",
              "      <td>NaN</td>\n",
              "      <td>NaN</td>\n",
              "      <td>0.000000</td>\n",
              "      <td>0.000000</td>\n",
              "      <td>45.000000</td>\n",
              "      <td>NaN</td>\n",
              "      <td>0.000000</td>\n",
              "    </tr>\n",
              "    <tr>\n",
              "      <th>max</th>\n",
              "      <td>90.000000</td>\n",
              "      <td>NaN</td>\n",
              "      <td>1.490400e+06</td>\n",
              "      <td>NaN</td>\n",
              "      <td>16.000000</td>\n",
              "      <td>NaN</td>\n",
              "      <td>NaN</td>\n",
              "      <td>NaN</td>\n",
              "      <td>NaN</td>\n",
              "      <td>99999.000000</td>\n",
              "      <td>4356.000000</td>\n",
              "      <td>99.000000</td>\n",
              "      <td>NaN</td>\n",
              "      <td>1.000000</td>\n",
              "    </tr>\n",
              "  </tbody>\n",
              "</table>\n",
              "</div>\n",
              "      <button class=\"colab-df-convert\" onclick=\"convertToInteractive('df-7caa9d85-76d6-4691-90f0-b8727f3a8954')\"\n",
              "              title=\"Convert this dataframe to an interactive table.\"\n",
              "              style=\"display:none;\">\n",
              "        \n",
              "  <svg xmlns=\"http://www.w3.org/2000/svg\" height=\"24px\"viewBox=\"0 0 24 24\"\n",
              "       width=\"24px\">\n",
              "    <path d=\"M0 0h24v24H0V0z\" fill=\"none\"/>\n",
              "    <path d=\"M18.56 5.44l.94 2.06.94-2.06 2.06-.94-2.06-.94-.94-2.06-.94 2.06-2.06.94zm-11 1L8.5 8.5l.94-2.06 2.06-.94-2.06-.94L8.5 2.5l-.94 2.06-2.06.94zm10 10l.94 2.06.94-2.06 2.06-.94-2.06-.94-.94-2.06-.94 2.06-2.06.94z\"/><path d=\"M17.41 7.96l-1.37-1.37c-.4-.4-.92-.59-1.43-.59-.52 0-1.04.2-1.43.59L10.3 9.45l-7.72 7.72c-.78.78-.78 2.05 0 2.83L4 21.41c.39.39.9.59 1.41.59.51 0 1.02-.2 1.41-.59l7.78-7.78 2.81-2.81c.8-.78.8-2.07 0-2.86zM5.41 20L4 18.59l7.72-7.72 1.47 1.35L5.41 20z\"/>\n",
              "  </svg>\n",
              "      </button>\n",
              "      \n",
              "  <style>\n",
              "    .colab-df-container {\n",
              "      display:flex;\n",
              "      flex-wrap:wrap;\n",
              "      gap: 12px;\n",
              "    }\n",
              "\n",
              "    .colab-df-convert {\n",
              "      background-color: #E8F0FE;\n",
              "      border: none;\n",
              "      border-radius: 50%;\n",
              "      cursor: pointer;\n",
              "      display: none;\n",
              "      fill: #1967D2;\n",
              "      height: 32px;\n",
              "      padding: 0 0 0 0;\n",
              "      width: 32px;\n",
              "    }\n",
              "\n",
              "    .colab-df-convert:hover {\n",
              "      background-color: #E2EBFA;\n",
              "      box-shadow: 0px 1px 2px rgba(60, 64, 67, 0.3), 0px 1px 3px 1px rgba(60, 64, 67, 0.15);\n",
              "      fill: #174EA6;\n",
              "    }\n",
              "\n",
              "    [theme=dark] .colab-df-convert {\n",
              "      background-color: #3B4455;\n",
              "      fill: #D2E3FC;\n",
              "    }\n",
              "\n",
              "    [theme=dark] .colab-df-convert:hover {\n",
              "      background-color: #434B5C;\n",
              "      box-shadow: 0px 1px 3px 1px rgba(0, 0, 0, 0.15);\n",
              "      filter: drop-shadow(0px 1px 2px rgba(0, 0, 0, 0.3));\n",
              "      fill: #FFFFFF;\n",
              "    }\n",
              "  </style>\n",
              "\n",
              "      <script>\n",
              "        const buttonEl =\n",
              "          document.querySelector('#df-7caa9d85-76d6-4691-90f0-b8727f3a8954 button.colab-df-convert');\n",
              "        buttonEl.style.display =\n",
              "          google.colab.kernel.accessAllowed ? 'block' : 'none';\n",
              "\n",
              "        async function convertToInteractive(key) {\n",
              "          const element = document.querySelector('#df-7caa9d85-76d6-4691-90f0-b8727f3a8954');\n",
              "          const dataTable =\n",
              "            await google.colab.kernel.invokeFunction('convertToInteractive',\n",
              "                                                     [key], {});\n",
              "          if (!dataTable) return;\n",
              "\n",
              "          const docLinkHtml = 'Like what you see? Visit the ' +\n",
              "            '<a target=\"_blank\" href=https://colab.research.google.com/notebooks/data_table.ipynb>data table notebook</a>'\n",
              "            + ' to learn more about interactive tables.';\n",
              "          element.innerHTML = '';\n",
              "          dataTable['output_type'] = 'display_data';\n",
              "          await google.colab.output.renderOutput(dataTable, element);\n",
              "          const docLink = document.createElement('div');\n",
              "          docLink.innerHTML = docLinkHtml;\n",
              "          element.appendChild(docLink);\n",
              "        }\n",
              "      </script>\n",
              "    </div>\n",
              "  </div>\n",
              "  "
            ],
            "text/plain": [
              "                 age workclass  ...  native-country   income_>50K\n",
              "count   43957.000000     41459  ...           43194  43957.000000\n",
              "unique           NaN         8  ...              41           NaN\n",
              "top              NaN   Private  ...   United-States           NaN\n",
              "freq             NaN     30587  ...           39429           NaN\n",
              "mean       38.617149       NaN  ...             NaN      0.239279\n",
              "std        13.734401       NaN  ...             NaN      0.426648\n",
              "min        17.000000       NaN  ...             NaN      0.000000\n",
              "25%        28.000000       NaN  ...             NaN      0.000000\n",
              "50%        37.000000       NaN  ...             NaN      0.000000\n",
              "75%        48.000000       NaN  ...             NaN      0.000000\n",
              "max        90.000000       NaN  ...             NaN      1.000000\n",
              "\n",
              "[11 rows x 14 columns]"
            ]
          },
          "metadata": {},
          "execution_count": 7
        }
      ],
      "source": [
        "df.describe(include='all')"
      ]
    },
    {
      "cell_type": "markdown",
      "id": "07f31608",
      "metadata": {
        "id": "07f31608"
      },
      "source": [
        "We can already see a notable imbalance on gender ratio. Yet, relatively more reasonable than the other factors."
      ]
    },
    {
      "cell_type": "code",
      "source": [
        "plt.figure(figsize=(5,10))\n",
        "sns.countplot(data = df, x = df['gender'])"
      ],
      "metadata": {
        "colab": {
          "base_uri": "https://localhost:8080/",
          "height": 624
        },
        "id": "cMiQ-fZRxtT9",
        "outputId": "a7725fc4-7a2d-4ee8-ea79-b1fad9cf8e52"
      },
      "id": "cMiQ-fZRxtT9",
      "execution_count": 8,
      "outputs": [
        {
          "output_type": "execute_result",
          "data": {
            "text/plain": [
              "<matplotlib.axes._subplots.AxesSubplot at 0x7faa2af28410>"
            ]
          },
          "metadata": {},
          "execution_count": 8
        },
        {
          "output_type": "display_data",
          "data": {
            "image/png": "[encoded data removed]",
            "text/plain": [
              "<Figure size 360x720 with 1 Axes>"
            ]
          },
          "metadata": {
            "needs_background": "light"
          }
        }
      ]
    },
    {
      "cell_type": "code",
      "source": [
        "plt.figure(figsize=(10,10))\n",
        "sns.countplot(data = df, x = df['workclass'])"
      ],
      "metadata": {
        "colab": {
          "base_uri": "https://localhost:8080/",
          "height": 624
        },
        "id": "e-VlnIkqy2KT",
        "outputId": "aabc8018-913c-4304-e515-284996988cb8"
      },
      "id": "e-VlnIkqy2KT",
      "execution_count": 9,
      "outputs": [
        {
          "output_type": "execute_result",
          "data": {
            "text/plain": [
              "<matplotlib.axes._subplots.AxesSubplot at 0x7faa2a688290>"
            ]
          },
          "metadata": {},
          "execution_count": 9
        },
        {
          "output_type": "display_data",
          "data": {
            "image/png": "[encoded data removed]",
            "text/plain": [
              "<Figure size 720x720 with 1 Axes>"
            ]
          },
          "metadata": {
            "needs_background": "light"
          }
        }
      ]
    },
    {
      "cell_type": "code",
      "source": [
        "plt.figure(figsize=(20,10))\n",
        "sns.countplot(data = df, x = df['education'])"
      ],
      "metadata": {
        "colab": {
          "base_uri": "https://localhost:8080/",
          "height": 624
        },
        "id": "ndjeT5SBy53p",
        "outputId": "7e722d99-a5ab-4ba5-9436-35b0a9da4622"
      },
      "id": "ndjeT5SBy53p",
      "execution_count": 10,
      "outputs": [
        {
          "output_type": "execute_result",
          "data": {
            "text/plain": [
              "<matplotlib.axes._subplots.AxesSubplot at 0x7faa2a1c1a10>"
            ]
          },
          "metadata": {},
          "execution_count": 10
        },
        {
          "output_type": "display_data",
          "data": {
            "image/png": "[encoded data removed]",
            "text/plain": [
              "<Figure size 1440x720 with 1 Axes>"
            ]
          },
          "metadata": {
            "needs_background": "light"
          }
        }
      ]
    },
    {
      "cell_type": "code",
      "source": [
        "plt.figure(figsize=(15,10))\n",
        "sns.countplot(data = df, x = df['marital-status'])"
      ],
      "metadata": {
        "colab": {
          "base_uri": "https://localhost:8080/",
          "height": 624
        },
        "id": "vgvP2a7kzHVd",
        "outputId": "33f3d276-14c3-4404-89a3-a018074bf10d"
      },
      "id": "vgvP2a7kzHVd",
      "execution_count": 11,
      "outputs": [
        {
          "output_type": "execute_result",
          "data": {
            "text/plain": [
              "<matplotlib.axes._subplots.AxesSubplot at 0x7faa2af5e590>"
            ]
          },
          "metadata": {},
          "execution_count": 11
        },
        {
          "output_type": "display_data",
          "data": {
            "image/png": "[encoded data removed]",
            "text/plain": [
              "<Figure size 1080x720 with 1 Axes>"
            ]
          },
          "metadata": {
            "needs_background": "light"
          }
        }
      ]
    },
    {
      "cell_type": "code",
      "source": [
        "plt.figure(figsize=(25,10))\n",
        "sns.countplot(data = df, x = df['occupation'])"
      ],
      "metadata": {
        "colab": {
          "base_uri": "https://localhost:8080/",
          "height": 543
        },
        "id": "t8_GZu3IzRnt",
        "outputId": "64580af7-b921-413c-c6ad-86d55b303471"
      },
      "id": "t8_GZu3IzRnt",
      "execution_count": 12,
      "outputs": [
        {
          "output_type": "execute_result",
          "data": {
            "text/plain": [
              "<matplotlib.axes._subplots.AxesSubplot at 0x7faa2a03ddd0>"
            ]
          },
          "metadata": {},
          "execution_count": 12
        },
        {
          "output_type": "display_data",
          "data": {
            "image/png": "[encoded data removed]",
            "text/plain": [
              "<Figure size 1800x720 with 1 Axes>"
            ]
          },
          "metadata": {
            "needs_background": "light"
          }
        }
      ]
    },
    {
      "cell_type": "code",
      "source": [
        "plt.figure(figsize=(10,10))\n",
        "sns.countplot(data = df, x = df['race'])"
      ],
      "metadata": {
        "colab": {
          "base_uri": "https://localhost:8080/",
          "height": 624
        },
        "id": "YKzyVbQPz20x",
        "outputId": "92dac132-0941-4f9b-8953-d03b58be4b26"
      },
      "id": "YKzyVbQPz20x",
      "execution_count": 13,
      "outputs": [
        {
          "output_type": "execute_result",
          "data": {
            "text/plain": [
              "<matplotlib.axes._subplots.AxesSubplot at 0x7faa29f5fb50>"
            ]
          },
          "metadata": {},
          "execution_count": 13
        },
        {
          "output_type": "display_data",
          "data": {
            "image/png": "[encoded data removed]",
            "text/plain": [
              "<Figure size 720x720 with 1 Axes>"
            ]
          },
          "metadata": {
            "needs_background": "light"
          }
        }
      ]
    },
    {
      "cell_type": "code",
      "source": [
        "plt.figure(figsize=(100,10))\n",
        "sns.countplot(data = df, x = df['native-country'])"
      ],
      "metadata": {
        "colab": {
          "base_uri": "https://localhost:8080/",
          "height": 166
        },
        "id": "ESTd6h-A0CuV",
        "outputId": "8fa2e592-99b1-4739-a428-bac1fe91d820"
      },
      "id": "ESTd6h-A0CuV",
      "execution_count": 14,
      "outputs": [
        {
          "output_type": "execute_result",
          "data": {
            "text/plain": [
              "<matplotlib.axes._subplots.AxesSubplot at 0x7faa29fcfe10>"
            ]
          },
          "metadata": {},
          "execution_count": 14
        },
        {
          "output_type": "display_data",
          "data": {
            "image/png": "[encoded data removed]",
            "text/plain": [
              "<Figure size 7200x720 with 1 Axes>"
            ]
          },
          "metadata": {
            "needs_background": "light"
          }
        }
      ]
    },
    {
      "cell_type": "markdown",
      "source": [
        "native-country seems to show the most extreme case. I may have to get rid of / clean this if the results seem to be influenced."
      ],
      "metadata": {
        "id": "ta8KnJD00X6x"
      },
      "id": "ta8KnJD00X6x"
    },
    {
      "cell_type": "code",
      "source": [
        "pd.plotting.hist_frame(data=df, figsize=(20,10));"
      ],
      "metadata": {
        "colab": {
          "base_uri": "https://localhost:8080/",
          "height": 607
        },
        "id": "OQvpkwkKwaJp",
        "outputId": "56ca3047-eb66-4622-fd32-b34cdc6e7254"
      },
      "id": "OQvpkwkKwaJp",
      "execution_count": 15,
      "outputs": [
        {
          "output_type": "display_data",
          "data": {
            "image/png": "[encoded data removed]",
            "text/plain": [
              "<Figure size 1440x720 with 9 Axes>"
            ]
          },
          "metadata": {
            "needs_background": "light"
          }
        }
      ]
    },
    {
      "cell_type": "markdown",
      "source": [
        "To simplify the data analysis, I'll convert the values of gender with 0 and 1. "
      ],
      "metadata": {
        "id": "piY6hyWdOMdC"
      },
      "id": "piY6hyWdOMdC"
    },
    {
      "cell_type": "code",
      "source": [
        "df.gender.replace({'Male': 0,'Female': 1}, inplace=True)\n",
        "test_df.gender.replace({'Male': 0,'Female': 1}, inplace=True)\n",
        "df"
      ],
      "metadata": {
        "colab": {
          "base_uri": "https://localhost:8080/",
          "height": 659
        },
        "id": "lVUBSXO-OJg5",
        "outputId": "21953b0a-cac2-4aa4-bce5-e73e1ee8bf6f"
      },
      "id": "lVUBSXO-OJg5",
      "execution_count": 16,
      "outputs": [
        {
          "output_type": "execute_result",
          "data": {
            "text/html": [
              "\n",
              "  <div id=\"df-7d241161-5141-4c31-a02d-7a70df0b7493\">\n",
              "    <div class=\"colab-df-container\">\n",
              "      <div>\n",
              "<style scoped>\n",
              "    .dataframe tbody tr th:only-of-type {\n",
              "        vertical-align: middle;\n",
              "    }\n",
              "\n",
              "    .dataframe tbody tr th {\n",
              "        vertical-align: top;\n",
              "    }\n",
              "\n",
              "    .dataframe thead th {\n",
              "        text-align: right;\n",
              "    }\n",
              "</style>\n",
              "<table border=\"1\" class=\"dataframe\">\n",
              "  <thead>\n",
              "    <tr style=\"text-align: right;\">\n",
              "      <th></th>\n",
              "      <th>age</th>\n",
              "      <th>workclass</th>\n",
              "      <th>fnlwgt</th>\n",
              "      <th>education</th>\n",
              "      <th>educational-num</th>\n",
              "      <th>marital-status</th>\n",
              "      <th>occupation</th>\n",
              "      <th>race</th>\n",
              "      <th>gender</th>\n",
              "      <th>capital-gain</th>\n",
              "      <th>capital-loss</th>\n",
              "      <th>hours-per-week</th>\n",
              "      <th>native-country</th>\n",
              "      <th>income_&gt;50K</th>\n",
              "    </tr>\n",
              "  </thead>\n",
              "  <tbody>\n",
              "    <tr>\n",
              "      <th>0</th>\n",
              "      <td>67</td>\n",
              "      <td>Private</td>\n",
              "      <td>366425</td>\n",
              "      <td>Doctorate</td>\n",
              "      <td>16</td>\n",
              "      <td>Divorced</td>\n",
              "      <td>Exec-managerial</td>\n",
              "      <td>White</td>\n",
              "      <td>0</td>\n",
              "      <td>99999</td>\n",
              "      <td>0</td>\n",
              "      <td>60</td>\n",
              "      <td>United-States</td>\n",
              "      <td>1</td>\n",
              "    </tr>\n",
              "    <tr>\n",
              "      <th>1</th>\n",
              "      <td>17</td>\n",
              "      <td>Private</td>\n",
              "      <td>244602</td>\n",
              "      <td>12th</td>\n",
              "      <td>8</td>\n",
              "      <td>Never-married</td>\n",
              "      <td>Other-service</td>\n",
              "      <td>White</td>\n",
              "      <td>0</td>\n",
              "      <td>0</td>\n",
              "      <td>0</td>\n",
              "      <td>15</td>\n",
              "      <td>United-States</td>\n",
              "      <td>0</td>\n",
              "    </tr>\n",
              "    <tr>\n",
              "      <th>2</th>\n",
              "      <td>31</td>\n",
              "      <td>Private</td>\n",
              "      <td>174201</td>\n",
              "      <td>Bachelors</td>\n",
              "      <td>13</td>\n",
              "      <td>Married-civ-spouse</td>\n",
              "      <td>Exec-managerial</td>\n",
              "      <td>White</td>\n",
              "      <td>0</td>\n",
              "      <td>0</td>\n",
              "      <td>0</td>\n",
              "      <td>40</td>\n",
              "      <td>United-States</td>\n",
              "      <td>1</td>\n",
              "    </tr>\n",
              "    <tr>\n",
              "      <th>3</th>\n",
              "      <td>58</td>\n",
              "      <td>State-gov</td>\n",
              "      <td>110199</td>\n",
              "      <td>7th-8th</td>\n",
              "      <td>4</td>\n",
              "      <td>Married-civ-spouse</td>\n",
              "      <td>Transport-moving</td>\n",
              "      <td>White</td>\n",
              "      <td>0</td>\n",
              "      <td>0</td>\n",
              "      <td>0</td>\n",
              "      <td>40</td>\n",
              "      <td>United-States</td>\n",
              "      <td>0</td>\n",
              "    </tr>\n",
              "    <tr>\n",
              "      <th>4</th>\n",
              "      <td>25</td>\n",
              "      <td>State-gov</td>\n",
              "      <td>149248</td>\n",
              "      <td>Some-college</td>\n",
              "      <td>10</td>\n",
              "      <td>Never-married</td>\n",
              "      <td>Other-service</td>\n",
              "      <td>Black</td>\n",
              "      <td>0</td>\n",
              "      <td>0</td>\n",
              "      <td>0</td>\n",
              "      <td>40</td>\n",
              "      <td>United-States</td>\n",
              "      <td>0</td>\n",
              "    </tr>\n",
              "    <tr>\n",
              "      <th>...</th>\n",
              "      <td>...</td>\n",
              "      <td>...</td>\n",
              "      <td>...</td>\n",
              "      <td>...</td>\n",
              "      <td>...</td>\n",
              "      <td>...</td>\n",
              "      <td>...</td>\n",
              "      <td>...</td>\n",
              "      <td>...</td>\n",
              "      <td>...</td>\n",
              "      <td>...</td>\n",
              "      <td>...</td>\n",
              "      <td>...</td>\n",
              "      <td>...</td>\n",
              "    </tr>\n",
              "    <tr>\n",
              "      <th>43952</th>\n",
              "      <td>52</td>\n",
              "      <td>Private</td>\n",
              "      <td>68982</td>\n",
              "      <td>Bachelors</td>\n",
              "      <td>13</td>\n",
              "      <td>Married-civ-spouse</td>\n",
              "      <td>Exec-managerial</td>\n",
              "      <td>White</td>\n",
              "      <td>0</td>\n",
              "      <td>0</td>\n",
              "      <td>0</td>\n",
              "      <td>50</td>\n",
              "      <td>United-States</td>\n",
              "      <td>1</td>\n",
              "    </tr>\n",
              "    <tr>\n",
              "      <th>43953</th>\n",
              "      <td>19</td>\n",
              "      <td>Private</td>\n",
              "      <td>116562</td>\n",
              "      <td>HS-grad</td>\n",
              "      <td>9</td>\n",
              "      <td>Never-married</td>\n",
              "      <td>Other-service</td>\n",
              "      <td>White</td>\n",
              "      <td>1</td>\n",
              "      <td>0</td>\n",
              "      <td>0</td>\n",
              "      <td>40</td>\n",
              "      <td>United-States</td>\n",
              "      <td>0</td>\n",
              "    </tr>\n",
              "    <tr>\n",
              "      <th>43954</th>\n",
              "      <td>30</td>\n",
              "      <td>Private</td>\n",
              "      <td>197947</td>\n",
              "      <td>Some-college</td>\n",
              "      <td>10</td>\n",
              "      <td>Divorced</td>\n",
              "      <td>Sales</td>\n",
              "      <td>White</td>\n",
              "      <td>0</td>\n",
              "      <td>0</td>\n",
              "      <td>0</td>\n",
              "      <td>58</td>\n",
              "      <td>United-States</td>\n",
              "      <td>0</td>\n",
              "    </tr>\n",
              "    <tr>\n",
              "      <th>43955</th>\n",
              "      <td>46</td>\n",
              "      <td>Private</td>\n",
              "      <td>97883</td>\n",
              "      <td>Bachelors</td>\n",
              "      <td>13</td>\n",
              "      <td>Never-married</td>\n",
              "      <td>Sales</td>\n",
              "      <td>White</td>\n",
              "      <td>1</td>\n",
              "      <td>0</td>\n",
              "      <td>0</td>\n",
              "      <td>35</td>\n",
              "      <td>United-States</td>\n",
              "      <td>0</td>\n",
              "    </tr>\n",
              "    <tr>\n",
              "      <th>43956</th>\n",
              "      <td>30</td>\n",
              "      <td>Private</td>\n",
              "      <td>375827</td>\n",
              "      <td>HS-grad</td>\n",
              "      <td>9</td>\n",
              "      <td>Never-married</td>\n",
              "      <td>Handlers-cleaners</td>\n",
              "      <td>White</td>\n",
              "      <td>0</td>\n",
              "      <td>0</td>\n",
              "      <td>0</td>\n",
              "      <td>40</td>\n",
              "      <td>United-States</td>\n",
              "      <td>0</td>\n",
              "    </tr>\n",
              "  </tbody>\n",
              "</table>\n",
              "<p>43957 rows × 14 columns</p>\n",
              "</div>\n",
              "      <button class=\"colab-df-convert\" onclick=\"convertToInteractive('df-7d241161-5141-4c31-a02d-7a70df0b7493')\"\n",
              "              title=\"Convert this dataframe to an interactive table.\"\n",
              "              style=\"display:none;\">\n",
              "        \n",
              "  <svg xmlns=\"http://www.w3.org/2000/svg\" height=\"24px\"viewBox=\"0 0 24 24\"\n",
              "       width=\"24px\">\n",
              "    <path d=\"M0 0h24v24H0V0z\" fill=\"none\"/>\n",
              "    <path d=\"M18.56 5.44l.94 2.06.94-2.06 2.06-.94-2.06-.94-.94-2.06-.94 2.06-2.06.94zm-11 1L8.5 8.5l.94-2.06 2.06-.94-2.06-.94L8.5 2.5l-.94 2.06-2.06.94zm10 10l.94 2.06.94-2.06 2.06-.94-2.06-.94-.94-2.06-.94 2.06-2.06.94z\"/><path d=\"M17.41 7.96l-1.37-1.37c-.4-.4-.92-.59-1.43-.59-.52 0-1.04.2-1.43.59L10.3 9.45l-7.72 7.72c-.78.78-.78 2.05 0 2.83L4 21.41c.39.39.9.59 1.41.59.51 0 1.02-.2 1.41-.59l7.78-7.78 2.81-2.81c.8-.78.8-2.07 0-2.86zM5.41 20L4 18.59l7.72-7.72 1.47 1.35L5.41 20z\"/>\n",
              "  </svg>\n",
              "      </button>\n",
              "      \n",
              "  <style>\n",
              "    .colab-df-container {\n",
              "      display:flex;\n",
              "      flex-wrap:wrap;\n",
              "      gap: 12px;\n",
              "    }\n",
              "\n",
              "    .colab-df-convert {\n",
              "      background-color: #E8F0FE;\n",
              "      border: none;\n",
              "      border-radius: 50%;\n",
              "      cursor: pointer;\n",
              "      display: none;\n",
              "      fill: #1967D2;\n",
              "      height: 32px;\n",
              "      padding: 0 0 0 0;\n",
              "      width: 32px;\n",
              "    }\n",
              "\n",
              "    .colab-df-convert:hover {\n",
              "      background-color: #E2EBFA;\n",
              "      box-shadow: 0px 1px 2px rgba(60, 64, 67, 0.3), 0px 1px 3px 1px rgba(60, 64, 67, 0.15);\n",
              "      fill: #174EA6;\n",
              "    }\n",
              "\n",
              "    [theme=dark] .colab-df-convert {\n",
              "      background-color: #3B4455;\n",
              "      fill: #D2E3FC;\n",
              "    }\n",
              "\n",
              "    [theme=dark] .colab-df-convert:hover {\n",
              "      background-color: #434B5C;\n",
              "      box-shadow: 0px 1px 3px 1px rgba(0, 0, 0, 0.15);\n",
              "      filter: drop-shadow(0px 1px 2px rgba(0, 0, 0, 0.3));\n",
              "      fill: #FFFFFF;\n",
              "    }\n",
              "  </style>\n",
              "\n",
              "      <script>\n",
              "        const buttonEl =\n",
              "          document.querySelector('#df-7d241161-5141-4c31-a02d-7a70df0b7493 button.colab-df-convert');\n",
              "        buttonEl.style.display =\n",
              "          google.colab.kernel.accessAllowed ? 'block' : 'none';\n",
              "\n",
              "        async function convertToInteractive(key) {\n",
              "          const element = document.querySelector('#df-7d241161-5141-4c31-a02d-7a70df0b7493');\n",
              "          const dataTable =\n",
              "            await google.colab.kernel.invokeFunction('convertToInteractive',\n",
              "                                                     [key], {});\n",
              "          if (!dataTable) return;\n",
              "\n",
              "          const docLinkHtml = 'Like what you see? Visit the ' +\n",
              "            '<a target=\"_blank\" href=https://colab.research.google.com/notebooks/data_table.ipynb>data table notebook</a>'\n",
              "            + ' to learn more about interactive tables.';\n",
              "          element.innerHTML = '';\n",
              "          dataTable['output_type'] = 'display_data';\n",
              "          await google.colab.output.renderOutput(dataTable, element);\n",
              "          const docLink = document.createElement('div');\n",
              "          docLink.innerHTML = docLinkHtml;\n",
              "          element.appendChild(docLink);\n",
              "        }\n",
              "      </script>\n",
              "    </div>\n",
              "  </div>\n",
              "  "
            ],
            "text/plain": [
              "       age  workclass  fnlwgt  ... hours-per-week  native-country income_>50K\n",
              "0       67    Private  366425  ...             60   United-States           1\n",
              "1       17    Private  244602  ...             15   United-States           0\n",
              "2       31    Private  174201  ...             40   United-States           1\n",
              "3       58  State-gov  110199  ...             40   United-States           0\n",
              "4       25  State-gov  149248  ...             40   United-States           0\n",
              "...    ...        ...     ...  ...            ...             ...         ...\n",
              "43952   52    Private   68982  ...             50   United-States           1\n",
              "43953   19    Private  116562  ...             40   United-States           0\n",
              "43954   30    Private  197947  ...             58   United-States           0\n",
              "43955   46    Private   97883  ...             35   United-States           0\n",
              "43956   30    Private  375827  ...             40   United-States           0\n",
              "\n",
              "[43957 rows x 14 columns]"
            ]
          },
          "metadata": {},
          "execution_count": 16
        }
      ]
    },
    {
      "cell_type": "code",
      "source": [
        "test_df"
      ],
      "metadata": {
        "colab": {
          "base_uri": "https://localhost:8080/",
          "height": 641
        },
        "id": "l26HMYw13LyR",
        "outputId": "b0e61448-26f8-43f6-bc7a-4445f1f0a7b4"
      },
      "id": "l26HMYw13LyR",
      "execution_count": 17,
      "outputs": [
        {
          "output_type": "execute_result",
          "data": {
            "text/html": [
              "\n",
              "  <div id=\"df-6c185979-412f-433c-a884-45f563c7d334\">\n",
              "    <div class=\"colab-df-container\">\n",
              "      <div>\n",
              "<style scoped>\n",
              "    .dataframe tbody tr th:only-of-type {\n",
              "        vertical-align: middle;\n",
              "    }\n",
              "\n",
              "    .dataframe tbody tr th {\n",
              "        vertical-align: top;\n",
              "    }\n",
              "\n",
              "    .dataframe thead th {\n",
              "        text-align: right;\n",
              "    }\n",
              "</style>\n",
              "<table border=\"1\" class=\"dataframe\">\n",
              "  <thead>\n",
              "    <tr style=\"text-align: right;\">\n",
              "      <th></th>\n",
              "      <th>age</th>\n",
              "      <th>workclass</th>\n",
              "      <th>fnlwgt</th>\n",
              "      <th>education</th>\n",
              "      <th>educational-num</th>\n",
              "      <th>marital-status</th>\n",
              "      <th>occupation</th>\n",
              "      <th>race</th>\n",
              "      <th>gender</th>\n",
              "      <th>capital-gain</th>\n",
              "      <th>capital-loss</th>\n",
              "      <th>hours-per-week</th>\n",
              "      <th>native-country</th>\n",
              "    </tr>\n",
              "  </thead>\n",
              "  <tbody>\n",
              "    <tr>\n",
              "      <th>0</th>\n",
              "      <td>39</td>\n",
              "      <td>Self-emp-not-inc</td>\n",
              "      <td>327120</td>\n",
              "      <td>HS-grad</td>\n",
              "      <td>9</td>\n",
              "      <td>Married-civ-spouse</td>\n",
              "      <td>Craft-repair</td>\n",
              "      <td>White</td>\n",
              "      <td>0</td>\n",
              "      <td>0</td>\n",
              "      <td>0</td>\n",
              "      <td>40</td>\n",
              "      <td>Portugal</td>\n",
              "    </tr>\n",
              "    <tr>\n",
              "      <th>1</th>\n",
              "      <td>32</td>\n",
              "      <td>Private</td>\n",
              "      <td>123253</td>\n",
              "      <td>Assoc-acdm</td>\n",
              "      <td>12</td>\n",
              "      <td>Married-civ-spouse</td>\n",
              "      <td>Craft-repair</td>\n",
              "      <td>White</td>\n",
              "      <td>0</td>\n",
              "      <td>0</td>\n",
              "      <td>0</td>\n",
              "      <td>42</td>\n",
              "      <td>United-States</td>\n",
              "    </tr>\n",
              "    <tr>\n",
              "      <th>2</th>\n",
              "      <td>47</td>\n",
              "      <td>Private</td>\n",
              "      <td>232628</td>\n",
              "      <td>HS-grad</td>\n",
              "      <td>9</td>\n",
              "      <td>Married-civ-spouse</td>\n",
              "      <td>Craft-repair</td>\n",
              "      <td>Black</td>\n",
              "      <td>0</td>\n",
              "      <td>0</td>\n",
              "      <td>0</td>\n",
              "      <td>40</td>\n",
              "      <td>United-States</td>\n",
              "    </tr>\n",
              "    <tr>\n",
              "      <th>3</th>\n",
              "      <td>19</td>\n",
              "      <td>Private</td>\n",
              "      <td>374262</td>\n",
              "      <td>12th</td>\n",
              "      <td>8</td>\n",
              "      <td>Never-married</td>\n",
              "      <td>Handlers-cleaners</td>\n",
              "      <td>White</td>\n",
              "      <td>0</td>\n",
              "      <td>0</td>\n",
              "      <td>0</td>\n",
              "      <td>20</td>\n",
              "      <td>United-States</td>\n",
              "    </tr>\n",
              "    <tr>\n",
              "      <th>4</th>\n",
              "      <td>46</td>\n",
              "      <td>Self-emp-not-inc</td>\n",
              "      <td>311231</td>\n",
              "      <td>HS-grad</td>\n",
              "      <td>9</td>\n",
              "      <td>Married-civ-spouse</td>\n",
              "      <td>Farming-fishing</td>\n",
              "      <td>White</td>\n",
              "      <td>0</td>\n",
              "      <td>0</td>\n",
              "      <td>0</td>\n",
              "      <td>40</td>\n",
              "      <td>United-States</td>\n",
              "    </tr>\n",
              "    <tr>\n",
              "      <th>...</th>\n",
              "      <td>...</td>\n",
              "      <td>...</td>\n",
              "      <td>...</td>\n",
              "      <td>...</td>\n",
              "      <td>...</td>\n",
              "      <td>...</td>\n",
              "      <td>...</td>\n",
              "      <td>...</td>\n",
              "      <td>...</td>\n",
              "      <td>...</td>\n",
              "      <td>...</td>\n",
              "      <td>...</td>\n",
              "      <td>...</td>\n",
              "    </tr>\n",
              "    <tr>\n",
              "      <th>894</th>\n",
              "      <td>27</td>\n",
              "      <td>Private</td>\n",
              "      <td>302406</td>\n",
              "      <td>Masters</td>\n",
              "      <td>14</td>\n",
              "      <td>Married-civ-spouse</td>\n",
              "      <td>Prof-specialty</td>\n",
              "      <td>White</td>\n",
              "      <td>0</td>\n",
              "      <td>0</td>\n",
              "      <td>0</td>\n",
              "      <td>55</td>\n",
              "      <td>United-States</td>\n",
              "    </tr>\n",
              "    <tr>\n",
              "      <th>895</th>\n",
              "      <td>17</td>\n",
              "      <td>Private</td>\n",
              "      <td>218124</td>\n",
              "      <td>11th</td>\n",
              "      <td>7</td>\n",
              "      <td>Never-married</td>\n",
              "      <td>Sales</td>\n",
              "      <td>White</td>\n",
              "      <td>1</td>\n",
              "      <td>0</td>\n",
              "      <td>0</td>\n",
              "      <td>20</td>\n",
              "      <td>United-States</td>\n",
              "    </tr>\n",
              "    <tr>\n",
              "      <th>896</th>\n",
              "      <td>24</td>\n",
              "      <td>Private</td>\n",
              "      <td>127139</td>\n",
              "      <td>Some-college</td>\n",
              "      <td>10</td>\n",
              "      <td>Never-married</td>\n",
              "      <td>Adm-clerical</td>\n",
              "      <td>White</td>\n",
              "      <td>1</td>\n",
              "      <td>0</td>\n",
              "      <td>0</td>\n",
              "      <td>40</td>\n",
              "      <td>United-States</td>\n",
              "    </tr>\n",
              "    <tr>\n",
              "      <th>897</th>\n",
              "      <td>35</td>\n",
              "      <td>Private</td>\n",
              "      <td>132879</td>\n",
              "      <td>Some-college</td>\n",
              "      <td>10</td>\n",
              "      <td>Married-civ-spouse</td>\n",
              "      <td>Tech-support</td>\n",
              "      <td>White</td>\n",
              "      <td>0</td>\n",
              "      <td>0</td>\n",
              "      <td>0</td>\n",
              "      <td>40</td>\n",
              "      <td>United-States</td>\n",
              "    </tr>\n",
              "    <tr>\n",
              "      <th>898</th>\n",
              "      <td>37</td>\n",
              "      <td>Local-gov</td>\n",
              "      <td>44694</td>\n",
              "      <td>Masters</td>\n",
              "      <td>14</td>\n",
              "      <td>Married-civ-spouse</td>\n",
              "      <td>Prof-specialty</td>\n",
              "      <td>White</td>\n",
              "      <td>1</td>\n",
              "      <td>0</td>\n",
              "      <td>0</td>\n",
              "      <td>45</td>\n",
              "      <td>United-States</td>\n",
              "    </tr>\n",
              "  </tbody>\n",
              "</table>\n",
              "<p>899 rows × 13 columns</p>\n",
              "</div>\n",
              "      <button class=\"colab-df-convert\" onclick=\"convertToInteractive('df-6c185979-412f-433c-a884-45f563c7d334')\"\n",
              "              title=\"Convert this dataframe to an interactive table.\"\n",
              "              style=\"display:none;\">\n",
              "        \n",
              "  <svg xmlns=\"http://www.w3.org/2000/svg\" height=\"24px\"viewBox=\"0 0 24 24\"\n",
              "       width=\"24px\">\n",
              "    <path d=\"M0 0h24v24H0V0z\" fill=\"none\"/>\n",
              "    <path d=\"M18.56 5.44l.94 2.06.94-2.06 2.06-.94-2.06-.94-.94-2.06-.94 2.06-2.06.94zm-11 1L8.5 8.5l.94-2.06 2.06-.94-2.06-.94L8.5 2.5l-.94 2.06-2.06.94zm10 10l.94 2.06.94-2.06 2.06-.94-2.06-.94-.94-2.06-.94 2.06-2.06.94z\"/><path d=\"M17.41 7.96l-1.37-1.37c-.4-.4-.92-.59-1.43-.59-.52 0-1.04.2-1.43.59L10.3 9.45l-7.72 7.72c-.78.78-.78 2.05 0 2.83L4 21.41c.39.39.9.59 1.41.59.51 0 1.02-.2 1.41-.59l7.78-7.78 2.81-2.81c.8-.78.8-2.07 0-2.86zM5.41 20L4 18.59l7.72-7.72 1.47 1.35L5.41 20z\"/>\n",
              "  </svg>\n",
              "      </button>\n",
              "      \n",
              "  <style>\n",
              "    .colab-df-container {\n",
              "      display:flex;\n",
              "      flex-wrap:wrap;\n",
              "      gap: 12px;\n",
              "    }\n",
              "\n",
              "    .colab-df-convert {\n",
              "      background-color: #E8F0FE;\n",
              "      border: none;\n",
              "      border-radius: 50%;\n",
              "      cursor: pointer;\n",
              "      display: none;\n",
              "      fill: #1967D2;\n",
              "      height: 32px;\n",
              "      padding: 0 0 0 0;\n",
              "      width: 32px;\n",
              "    }\n",
              "\n",
              "    .colab-df-convert:hover {\n",
              "      background-color: #E2EBFA;\n",
              "      box-shadow: 0px 1px 2px rgba(60, 64, 67, 0.3), 0px 1px 3px 1px rgba(60, 64, 67, 0.15);\n",
              "      fill: #174EA6;\n",
              "    }\n",
              "\n",
              "    [theme=dark] .colab-df-convert {\n",
              "      background-color: #3B4455;\n",
              "      fill: #D2E3FC;\n",
              "    }\n",
              "\n",
              "    [theme=dark] .colab-df-convert:hover {\n",
              "      background-color: #434B5C;\n",
              "      box-shadow: 0px 1px 3px 1px rgba(0, 0, 0, 0.15);\n",
              "      filter: drop-shadow(0px 1px 2px rgba(0, 0, 0, 0.3));\n",
              "      fill: #FFFFFF;\n",
              "    }\n",
              "  </style>\n",
              "\n",
              "      <script>\n",
              "        const buttonEl =\n",
              "          document.querySelector('#df-6c185979-412f-433c-a884-45f563c7d334 button.colab-df-convert');\n",
              "        buttonEl.style.display =\n",
              "          google.colab.kernel.accessAllowed ? 'block' : 'none';\n",
              "\n",
              "        async function convertToInteractive(key) {\n",
              "          const element = document.querySelector('#df-6c185979-412f-433c-a884-45f563c7d334');\n",
              "          const dataTable =\n",
              "            await google.colab.kernel.invokeFunction('convertToInteractive',\n",
              "                                                     [key], {});\n",
              "          if (!dataTable) return;\n",
              "\n",
              "          const docLinkHtml = 'Like what you see? Visit the ' +\n",
              "            '<a target=\"_blank\" href=https://colab.research.google.com/notebooks/data_table.ipynb>data table notebook</a>'\n",
              "            + ' to learn more about interactive tables.';\n",
              "          element.innerHTML = '';\n",
              "          dataTable['output_type'] = 'display_data';\n",
              "          await google.colab.output.renderOutput(dataTable, element);\n",
              "          const docLink = document.createElement('div');\n",
              "          docLink.innerHTML = docLinkHtml;\n",
              "          element.appendChild(docLink);\n",
              "        }\n",
              "      </script>\n",
              "    </div>\n",
              "  </div>\n",
              "  "
            ],
            "text/plain": [
              "     age         workclass  fnlwgt  ... capital-loss  hours-per-week native-country\n",
              "0     39  Self-emp-not-inc  327120  ...            0              40       Portugal\n",
              "1     32           Private  123253  ...            0              42  United-States\n",
              "2     47           Private  232628  ...            0              40  United-States\n",
              "3     19           Private  374262  ...            0              20  United-States\n",
              "4     46  Self-emp-not-inc  311231  ...            0              40  United-States\n",
              "..   ...               ...     ...  ...          ...             ...            ...\n",
              "894   27           Private  302406  ...            0              55  United-States\n",
              "895   17           Private  218124  ...            0              20  United-States\n",
              "896   24           Private  127139  ...            0              40  United-States\n",
              "897   35           Private  132879  ...            0              40  United-States\n",
              "898   37         Local-gov   44694  ...            0              45  United-States\n",
              "\n",
              "[899 rows x 13 columns]"
            ]
          },
          "metadata": {},
          "execution_count": 17
        }
      ]
    },
    {
      "cell_type": "markdown",
      "source": [
        "as the meaning of fnlwgt remained unknown, I am dropping it on the train data along with native-country (which is too unbalanced with categories that doesn't even exist in the test data), and income_>50k (which doesn't exist at all in the test data). Getting rid of the income data would also make the columns identical. Education and educational-num is also redundant."
      ],
      "metadata": {
        "id": "XJCxu0nS2So5"
      },
      "id": "XJCxu0nS2So5"
    },
    {
      "cell_type": "code",
      "source": [
        "df = df.drop(['fnlwgt', 'native-country', 'income_>50K', 'educational-num'], axis=1)\n",
        "test_df = test_df.drop(['fnlwgt', 'native-country', 'educational-num'], axis=1)"
      ],
      "metadata": {
        "id": "Ipb5VeT71l-n"
      },
      "id": "Ipb5VeT71l-n",
      "execution_count": 18,
      "outputs": []
    },
    {
      "cell_type": "code",
      "source": [
        "print(df)\n",
        "print(test_df)"
      ],
      "metadata": {
        "colab": {
          "base_uri": "https://localhost:8080/"
        },
        "id": "lfIg4dVp4FRe",
        "outputId": "8ac1ba49-c580-4c59-81c6-bd42f2d9f6ce"
      },
      "id": "lfIg4dVp4FRe",
      "execution_count": 19,
      "outputs": [
        {
          "output_type": "stream",
          "name": "stdout",
          "text": [
            "       age  workclass     education  ... capital-gain capital-loss hours-per-week\n",
            "0       67    Private     Doctorate  ...        99999            0             60\n",
            "1       17    Private          12th  ...            0            0             15\n",
            "2       31    Private     Bachelors  ...            0            0             40\n",
            "3       58  State-gov       7th-8th  ...            0            0             40\n",
            "4       25  State-gov  Some-college  ...            0            0             40\n",
            "...    ...        ...           ...  ...          ...          ...            ...\n",
            "43952   52    Private     Bachelors  ...            0            0             50\n",
            "43953   19    Private       HS-grad  ...            0            0             40\n",
            "43954   30    Private  Some-college  ...            0            0             58\n",
            "43955   46    Private     Bachelors  ...            0            0             35\n",
            "43956   30    Private       HS-grad  ...            0            0             40\n",
            "\n",
            "[43957 rows x 10 columns]\n",
            "     age         workclass  ... capital-loss hours-per-week\n",
            "0     39  Self-emp-not-inc  ...            0             40\n",
            "1     32           Private  ...            0             42\n",
            "2     47           Private  ...            0             40\n",
            "3     19           Private  ...            0             20\n",
            "4     46  Self-emp-not-inc  ...            0             40\n",
            "..   ...               ...  ...          ...            ...\n",
            "894   27           Private  ...            0             55\n",
            "895   17           Private  ...            0             20\n",
            "896   24           Private  ...            0             40\n",
            "897   35           Private  ...            0             40\n",
            "898   37         Local-gov  ...            0             45\n",
            "\n",
            "[899 rows x 10 columns]\n"
          ]
        }
      ]
    },
    {
      "cell_type": "code",
      "execution_count": 20,
      "id": "a70a485d",
      "metadata": {
        "colab": {
          "base_uri": "https://localhost:8080/"
        },
        "id": "a70a485d",
        "outputId": "f2b0a9ae-fb39-4653-fdee-dc037e5a459d"
      },
      "outputs": [
        {
          "output_type": "stream",
          "name": "stdout",
          "text": [
            "          columns  total missing  ratio of missing\n",
            "0             age              0          0.000000\n",
            "1       workclass           2498          0.056828\n",
            "2       education              0          0.000000\n",
            "3  marital-status              0          0.000000\n",
            "4      occupation           2506          0.057010\n",
            "5            race              0          0.000000\n",
            "6          gender              0          0.000000\n",
            "7    capital-gain              0          0.000000\n",
            "8    capital-loss              0          0.000000\n",
            "9  hours-per-week              0          0.000000\n",
            "          columns  total missing  ratio of missing\n",
            "0             age              0               0.0\n",
            "1       workclass              0               0.0\n",
            "2       education              0               0.0\n",
            "3  marital-status              0               0.0\n",
            "4      occupation              0               0.0\n",
            "5            race              0               0.0\n",
            "6          gender              0               0.0\n",
            "7    capital-gain              0               0.0\n",
            "8    capital-loss              0               0.0\n",
            "9  hours-per-week              0               0.0\n"
          ]
        }
      ],
      "source": [
        "# look for missing values\n",
        "def detailed_isnull(df):\n",
        "    missing = df.isnull().sum().reset_index()\n",
        "    missing = missing.rename(columns={'index':'columns',0:'total missing'})\n",
        "    missing['ratio of missing'] = missing['total missing']/len(df)\n",
        "    return missing\n",
        "print(detailed_isnull(df))\n",
        "print(detailed_isnull(test_df))"
      ]
    },
    {
      "cell_type": "markdown",
      "id": "ffd002c4",
      "metadata": {
        "id": "ffd002c4"
      },
      "source": [
        "Considering how low the number/percentage of missing values are, we could drop them. Testdata has no missing values at all."
      ]
    },
    {
      "cell_type": "code",
      "execution_count": 21,
      "id": "19276bd0",
      "metadata": {
        "id": "19276bd0"
      },
      "outputs": [],
      "source": [
        "df.dropna(inplace=True,axis=0)"
      ]
    },
    {
      "cell_type": "code",
      "execution_count": 22,
      "id": "12fd7ba8",
      "metadata": {
        "colab": {
          "base_uri": "https://localhost:8080/",
          "height": 363
        },
        "id": "12fd7ba8",
        "outputId": "c6df8a47-ad11-40c2-8da5-6c2b5d1b8b31"
      },
      "outputs": [
        {
          "output_type": "execute_result",
          "data": {
            "text/html": [
              "\n",
              "  <div id=\"df-ac7750cf-1d1a-4b30-a533-0dca945e16a3\">\n",
              "    <div class=\"colab-df-container\">\n",
              "      <div>\n",
              "<style scoped>\n",
              "    .dataframe tbody tr th:only-of-type {\n",
              "        vertical-align: middle;\n",
              "    }\n",
              "\n",
              "    .dataframe tbody tr th {\n",
              "        vertical-align: top;\n",
              "    }\n",
              "\n",
              "    .dataframe thead th {\n",
              "        text-align: right;\n",
              "    }\n",
              "</style>\n",
              "<table border=\"1\" class=\"dataframe\">\n",
              "  <thead>\n",
              "    <tr style=\"text-align: right;\">\n",
              "      <th></th>\n",
              "      <th>columns</th>\n",
              "      <th>total missing</th>\n",
              "      <th>ratio of missing</th>\n",
              "    </tr>\n",
              "  </thead>\n",
              "  <tbody>\n",
              "    <tr>\n",
              "      <th>0</th>\n",
              "      <td>age</td>\n",
              "      <td>0</td>\n",
              "      <td>0.0</td>\n",
              "    </tr>\n",
              "    <tr>\n",
              "      <th>1</th>\n",
              "      <td>workclass</td>\n",
              "      <td>0</td>\n",
              "      <td>0.0</td>\n",
              "    </tr>\n",
              "    <tr>\n",
              "      <th>2</th>\n",
              "      <td>education</td>\n",
              "      <td>0</td>\n",
              "      <td>0.0</td>\n",
              "    </tr>\n",
              "    <tr>\n",
              "      <th>3</th>\n",
              "      <td>marital-status</td>\n",
              "      <td>0</td>\n",
              "      <td>0.0</td>\n",
              "    </tr>\n",
              "    <tr>\n",
              "      <th>4</th>\n",
              "      <td>occupation</td>\n",
              "      <td>0</td>\n",
              "      <td>0.0</td>\n",
              "    </tr>\n",
              "    <tr>\n",
              "      <th>5</th>\n",
              "      <td>race</td>\n",
              "      <td>0</td>\n",
              "      <td>0.0</td>\n",
              "    </tr>\n",
              "    <tr>\n",
              "      <th>6</th>\n",
              "      <td>gender</td>\n",
              "      <td>0</td>\n",
              "      <td>0.0</td>\n",
              "    </tr>\n",
              "    <tr>\n",
              "      <th>7</th>\n",
              "      <td>capital-gain</td>\n",
              "      <td>0</td>\n",
              "      <td>0.0</td>\n",
              "    </tr>\n",
              "    <tr>\n",
              "      <th>8</th>\n",
              "      <td>capital-loss</td>\n",
              "      <td>0</td>\n",
              "      <td>0.0</td>\n",
              "    </tr>\n",
              "    <tr>\n",
              "      <th>9</th>\n",
              "      <td>hours-per-week</td>\n",
              "      <td>0</td>\n",
              "      <td>0.0</td>\n",
              "    </tr>\n",
              "  </tbody>\n",
              "</table>\n",
              "</div>\n",
              "      <button class=\"colab-df-convert\" onclick=\"convertToInteractive('df-ac7750cf-1d1a-4b30-a533-0dca945e16a3')\"\n",
              "              title=\"Convert this dataframe to an interactive table.\"\n",
              "              style=\"display:none;\">\n",
              "        \n",
              "  <svg xmlns=\"http://www.w3.org/2000/svg\" height=\"24px\"viewBox=\"0 0 24 24\"\n",
              "       width=\"24px\">\n",
              "    <path d=\"M0 0h24v24H0V0z\" fill=\"none\"/>\n",
              "    <path d=\"M18.56 5.44l.94 2.06.94-2.06 2.06-.94-2.06-.94-.94-2.06-.94 2.06-2.06.94zm-11 1L8.5 8.5l.94-2.06 2.06-.94-2.06-.94L8.5 2.5l-.94 2.06-2.06.94zm10 10l.94 2.06.94-2.06 2.06-.94-2.06-.94-.94-2.06-.94 2.06-2.06.94z\"/><path d=\"M17.41 7.96l-1.37-1.37c-.4-.4-.92-.59-1.43-.59-.52 0-1.04.2-1.43.59L10.3 9.45l-7.72 7.72c-.78.78-.78 2.05 0 2.83L4 21.41c.39.39.9.59 1.41.59.51 0 1.02-.2 1.41-.59l7.78-7.78 2.81-2.81c.8-.78.8-2.07 0-2.86zM5.41 20L4 18.59l7.72-7.72 1.47 1.35L5.41 20z\"/>\n",
              "  </svg>\n",
              "      </button>\n",
              "      \n",
              "  <style>\n",
              "    .colab-df-container {\n",
              "      display:flex;\n",
              "      flex-wrap:wrap;\n",
              "      gap: 12px;\n",
              "    }\n",
              "\n",
              "    .colab-df-convert {\n",
              "      background-color: #E8F0FE;\n",
              "      border: none;\n",
              "      border-radius: 50%;\n",
              "      cursor: pointer;\n",
              "      display: none;\n",
              "      fill: #1967D2;\n",
              "      height: 32px;\n",
              "      padding: 0 0 0 0;\n",
              "      width: 32px;\n",
              "    }\n",
              "\n",
              "    .colab-df-convert:hover {\n",
              "      background-color: #E2EBFA;\n",
              "      box-shadow: 0px 1px 2px rgba(60, 64, 67, 0.3), 0px 1px 3px 1px rgba(60, 64, 67, 0.15);\n",
              "      fill: #174EA6;\n",
              "    }\n",
              "\n",
              "    [theme=dark] .colab-df-convert {\n",
              "      background-color: #3B4455;\n",
              "      fill: #D2E3FC;\n",
              "    }\n",
              "\n",
              "    [theme=dark] .colab-df-convert:hover {\n",
              "      background-color: #434B5C;\n",
              "      box-shadow: 0px 1px 3px 1px rgba(0, 0, 0, 0.15);\n",
              "      filter: drop-shadow(0px 1px 2px rgba(0, 0, 0, 0.3));\n",
              "      fill: #FFFFFF;\n",
              "    }\n",
              "  </style>\n",
              "\n",
              "      <script>\n",
              "        const buttonEl =\n",
              "          document.querySelector('#df-ac7750cf-1d1a-4b30-a533-0dca945e16a3 button.colab-df-convert');\n",
              "        buttonEl.style.display =\n",
              "          google.colab.kernel.accessAllowed ? 'block' : 'none';\n",
              "\n",
              "        async function convertToInteractive(key) {\n",
              "          const element = document.querySelector('#df-ac7750cf-1d1a-4b30-a533-0dca945e16a3');\n",
              "          const dataTable =\n",
              "            await google.colab.kernel.invokeFunction('convertToInteractive',\n",
              "                                                     [key], {});\n",
              "          if (!dataTable) return;\n",
              "\n",
              "          const docLinkHtml = 'Like what you see? Visit the ' +\n",
              "            '<a target=\"_blank\" href=https://colab.research.google.com/notebooks/data_table.ipynb>data table notebook</a>'\n",
              "            + ' to learn more about interactive tables.';\n",
              "          element.innerHTML = '';\n",
              "          dataTable['output_type'] = 'display_data';\n",
              "          await google.colab.output.renderOutput(dataTable, element);\n",
              "          const docLink = document.createElement('div');\n",
              "          docLink.innerHTML = docLinkHtml;\n",
              "          element.appendChild(docLink);\n",
              "        }\n",
              "      </script>\n",
              "    </div>\n",
              "  </div>\n",
              "  "
            ],
            "text/plain": [
              "          columns  total missing  ratio of missing\n",
              "0             age              0               0.0\n",
              "1       workclass              0               0.0\n",
              "2       education              0               0.0\n",
              "3  marital-status              0               0.0\n",
              "4      occupation              0               0.0\n",
              "5            race              0               0.0\n",
              "6          gender              0               0.0\n",
              "7    capital-gain              0               0.0\n",
              "8    capital-loss              0               0.0\n",
              "9  hours-per-week              0               0.0"
            ]
          },
          "metadata": {},
          "execution_count": 22
        }
      ],
      "source": [
        "detailed_isnull(df)"
      ]
    },
    {
      "cell_type": "markdown",
      "source": [
        "Turn the values that are categorical to numerical."
      ],
      "metadata": {
        "id": "zom8fkhgKXCC"
      },
      "id": "zom8fkhgKXCC"
    },
    {
      "cell_type": "code",
      "source": [
        "df.info()\n",
        "# Pick the ones with Dtype object. Those will be the columns"
      ],
      "metadata": {
        "colab": {
          "base_uri": "https://localhost:8080/"
        },
        "id": "IZs3IQghKYkF",
        "outputId": "4a288cca-ec75-4e56-b154-ffe64f8e8215"
      },
      "id": "IZs3IQghKYkF",
      "execution_count": 23,
      "outputs": [
        {
          "output_type": "stream",
          "name": "stdout",
          "text": [
            "<class 'pandas.core.frame.DataFrame'>\n",
            "Int64Index: 41451 entries, 0 to 43956\n",
            "Data columns (total 10 columns):\n",
            " #   Column          Non-Null Count  Dtype \n",
            "---  ------          --------------  ----- \n",
            " 0   age             41451 non-null  int64 \n",
            " 1   workclass       41451 non-null  object\n",
            " 2   education       41451 non-null  object\n",
            " 3   marital-status  41451 non-null  object\n",
            " 4   occupation      41451 non-null  object\n",
            " 5   race            41451 non-null  object\n",
            " 6   gender          41451 non-null  int64 \n",
            " 7   capital-gain    41451 non-null  int64 \n",
            " 8   capital-loss    41451 non-null  int64 \n",
            " 9   hours-per-week  41451 non-null  int64 \n",
            "dtypes: int64(5), object(5)\n",
            "memory usage: 3.5+ MB\n"
          ]
        }
      ]
    },
    {
      "cell_type": "code",
      "source": [
        "obj_columns = ['workclass','education','marital-status','occupation','race']\n",
        "new_df = pd.get_dummies(df, columns = obj_columns) #dummies does the conversion to numeric values\n",
        "new_test_df = pd.get_dummies(test_df, columns = obj_columns)"
      ],
      "metadata": {
        "id": "CmGnhy1g-xEb"
      },
      "id": "CmGnhy1g-xEb",
      "execution_count": 24,
      "outputs": []
    },
    {
      "cell_type": "code",
      "source": [
        "new_test_df"
      ],
      "metadata": {
        "colab": {
          "base_uri": "https://localhost:8080/",
          "height": 522
        },
        "id": "TZK3DSBr4iUl",
        "outputId": "b65a8366-74c6-4f69-a89f-8a0183b21ca9"
      },
      "id": "TZK3DSBr4iUl",
      "execution_count": 25,
      "outputs": [
        {
          "output_type": "execute_result",
          "data": {
            "text/html": [
              "\n",
              "  <div id=\"df-8f5c2b26-8285-43aa-90b0-89308811e825\">\n",
              "    <div class=\"colab-df-container\">\n",
              "      <div>\n",
              "<style scoped>\n",
              "    .dataframe tbody tr th:only-of-type {\n",
              "        vertical-align: middle;\n",
              "    }\n",
              "\n",
              "    .dataframe tbody tr th {\n",
              "        vertical-align: top;\n",
              "    }\n",
              "\n",
              "    .dataframe thead th {\n",
              "        text-align: right;\n",
              "    }\n",
              "</style>\n",
              "<table border=\"1\" class=\"dataframe\">\n",
              "  <thead>\n",
              "    <tr style=\"text-align: right;\">\n",
              "      <th></th>\n",
              "      <th>age</th>\n",
              "      <th>gender</th>\n",
              "      <th>capital-gain</th>\n",
              "      <th>capital-loss</th>\n",
              "      <th>hours-per-week</th>\n",
              "      <th>workclass_Federal-gov</th>\n",
              "      <th>workclass_Local-gov</th>\n",
              "      <th>workclass_Private</th>\n",
              "      <th>workclass_Self-emp-inc</th>\n",
              "      <th>workclass_Self-emp-not-inc</th>\n",
              "      <th>workclass_State-gov</th>\n",
              "      <th>education_10th</th>\n",
              "      <th>education_11th</th>\n",
              "      <th>education_12th</th>\n",
              "      <th>education_1st-4th</th>\n",
              "      <th>education_5th-6th</th>\n",
              "      <th>education_7th-8th</th>\n",
              "      <th>education_9th</th>\n",
              "      <th>education_Assoc-acdm</th>\n",
              "      <th>education_Assoc-voc</th>\n",
              "      <th>education_Bachelors</th>\n",
              "      <th>education_Doctorate</th>\n",
              "      <th>education_HS-grad</th>\n",
              "      <th>education_Masters</th>\n",
              "      <th>education_Preschool</th>\n",
              "      <th>education_Prof-school</th>\n",
              "      <th>education_Some-college</th>\n",
              "      <th>marital-status_Divorced</th>\n",
              "      <th>marital-status_Married-AF-spouse</th>\n",
              "      <th>marital-status_Married-civ-spouse</th>\n",
              "      <th>marital-status_Married-spouse-absent</th>\n",
              "      <th>marital-status_Never-married</th>\n",
              "      <th>marital-status_Separated</th>\n",
              "      <th>marital-status_Widowed</th>\n",
              "      <th>occupation_Adm-clerical</th>\n",
              "      <th>occupation_Armed-Forces</th>\n",
              "      <th>occupation_Craft-repair</th>\n",
              "      <th>occupation_Exec-managerial</th>\n",
              "      <th>occupation_Farming-fishing</th>\n",
              "      <th>occupation_Handlers-cleaners</th>\n",
              "      <th>occupation_Machine-op-inspct</th>\n",
              "      <th>occupation_Other-service</th>\n",
              "      <th>occupation_Priv-house-serv</th>\n",
              "      <th>occupation_Prof-specialty</th>\n",
              "      <th>occupation_Protective-serv</th>\n",
              "      <th>occupation_Sales</th>\n",
              "      <th>occupation_Tech-support</th>\n",
              "      <th>occupation_Transport-moving</th>\n",
              "      <th>race_Amer-Indian-Eskimo</th>\n",
              "      <th>race_Asian-Pac-Islander</th>\n",
              "      <th>race_Black</th>\n",
              "      <th>race_Other</th>\n",
              "      <th>race_White</th>\n",
              "    </tr>\n",
              "  </thead>\n",
              "  <tbody>\n",
              "    <tr>\n",
              "      <th>0</th>\n",
              "      <td>39</td>\n",
              "      <td>0</td>\n",
              "      <td>0</td>\n",
              "      <td>0</td>\n",
              "      <td>40</td>\n",
              "      <td>0</td>\n",
              "      <td>0</td>\n",
              "      <td>0</td>\n",
              "      <td>0</td>\n",
              "      <td>1</td>\n",
              "      <td>0</td>\n",
              "      <td>0</td>\n",
              "      <td>0</td>\n",
              "      <td>0</td>\n",
              "      <td>0</td>\n",
              "      <td>0</td>\n",
              "      <td>0</td>\n",
              "      <td>0</td>\n",
              "      <td>0</td>\n",
              "      <td>0</td>\n",
              "      <td>0</td>\n",
              "      <td>0</td>\n",
              "      <td>1</td>\n",
              "      <td>0</td>\n",
              "      <td>0</td>\n",
              "      <td>0</td>\n",
              "      <td>0</td>\n",
              "      <td>0</td>\n",
              "      <td>0</td>\n",
              "      <td>1</td>\n",
              "      <td>0</td>\n",
              "      <td>0</td>\n",
              "      <td>0</td>\n",
              "      <td>0</td>\n",
              "      <td>0</td>\n",
              "      <td>0</td>\n",
              "      <td>1</td>\n",
              "      <td>0</td>\n",
              "      <td>0</td>\n",
              "      <td>0</td>\n",
              "      <td>0</td>\n",
              "      <td>0</td>\n",
              "      <td>0</td>\n",
              "      <td>0</td>\n",
              "      <td>0</td>\n",
              "      <td>0</td>\n",
              "      <td>0</td>\n",
              "      <td>0</td>\n",
              "      <td>0</td>\n",
              "      <td>0</td>\n",
              "      <td>0</td>\n",
              "      <td>0</td>\n",
              "      <td>1</td>\n",
              "    </tr>\n",
              "    <tr>\n",
              "      <th>1</th>\n",
              "      <td>32</td>\n",
              "      <td>0</td>\n",
              "      <td>0</td>\n",
              "      <td>0</td>\n",
              "      <td>42</td>\n",
              "      <td>0</td>\n",
              "      <td>0</td>\n",
              "      <td>1</td>\n",
              "      <td>0</td>\n",
              "      <td>0</td>\n",
              "      <td>0</td>\n",
              "      <td>0</td>\n",
              "      <td>0</td>\n",
              "      <td>0</td>\n",
              "      <td>0</td>\n",
              "      <td>0</td>\n",
              "      <td>0</td>\n",
              "      <td>0</td>\n",
              "      <td>1</td>\n",
              "      <td>0</td>\n",
              "      <td>0</td>\n",
              "      <td>0</td>\n",
              "      <td>0</td>\n",
              "      <td>0</td>\n",
              "      <td>0</td>\n",
              "      <td>0</td>\n",
              "      <td>0</td>\n",
              "      <td>0</td>\n",
              "      <td>0</td>\n",
              "      <td>1</td>\n",
              "      <td>0</td>\n",
              "      <td>0</td>\n",
              "      <td>0</td>\n",
              "      <td>0</td>\n",
              "      <td>0</td>\n",
              "      <td>0</td>\n",
              "      <td>1</td>\n",
              "      <td>0</td>\n",
              "      <td>0</td>\n",
              "      <td>0</td>\n",
              "      <td>0</td>\n",
              "      <td>0</td>\n",
              "      <td>0</td>\n",
              "      <td>0</td>\n",
              "      <td>0</td>\n",
              "      <td>0</td>\n",
              "      <td>0</td>\n",
              "      <td>0</td>\n",
              "      <td>0</td>\n",
              "      <td>0</td>\n",
              "      <td>0</td>\n",
              "      <td>0</td>\n",
              "      <td>1</td>\n",
              "    </tr>\n",
              "    <tr>\n",
              "      <th>2</th>\n",
              "      <td>47</td>\n",
              "      <td>0</td>\n",
              "      <td>0</td>\n",
              "      <td>0</td>\n",
              "      <td>40</td>\n",
              "      <td>0</td>\n",
              "      <td>0</td>\n",
              "      <td>1</td>\n",
              "      <td>0</td>\n",
              "      <td>0</td>\n",
              "      <td>0</td>\n",
              "      <td>0</td>\n",
              "      <td>0</td>\n",
              "      <td>0</td>\n",
              "      <td>0</td>\n",
              "      <td>0</td>\n",
              "      <td>0</td>\n",
              "      <td>0</td>\n",
              "      <td>0</td>\n",
              "      <td>0</td>\n",
              "      <td>0</td>\n",
              "      <td>0</td>\n",
              "      <td>1</td>\n",
              "      <td>0</td>\n",
              "      <td>0</td>\n",
              "      <td>0</td>\n",
              "      <td>0</td>\n",
              "      <td>0</td>\n",
              "      <td>0</td>\n",
              "      <td>1</td>\n",
              "      <td>0</td>\n",
              "      <td>0</td>\n",
              "      <td>0</td>\n",
              "      <td>0</td>\n",
              "      <td>0</td>\n",
              "      <td>0</td>\n",
              "      <td>1</td>\n",
              "      <td>0</td>\n",
              "      <td>0</td>\n",
              "      <td>0</td>\n",
              "      <td>0</td>\n",
              "      <td>0</td>\n",
              "      <td>0</td>\n",
              "      <td>0</td>\n",
              "      <td>0</td>\n",
              "      <td>0</td>\n",
              "      <td>0</td>\n",
              "      <td>0</td>\n",
              "      <td>0</td>\n",
              "      <td>0</td>\n",
              "      <td>1</td>\n",
              "      <td>0</td>\n",
              "      <td>0</td>\n",
              "    </tr>\n",
              "    <tr>\n",
              "      <th>3</th>\n",
              "      <td>19</td>\n",
              "      <td>0</td>\n",
              "      <td>0</td>\n",
              "      <td>0</td>\n",
              "      <td>20</td>\n",
              "      <td>0</td>\n",
              "      <td>0</td>\n",
              "      <td>1</td>\n",
              "      <td>0</td>\n",
              "      <td>0</td>\n",
              "      <td>0</td>\n",
              "      <td>0</td>\n",
              "      <td>0</td>\n",
              "      <td>1</td>\n",
              "      <td>0</td>\n",
              "      <td>0</td>\n",
              "      <td>0</td>\n",
              "      <td>0</td>\n",
              "      <td>0</td>\n",
              "      <td>0</td>\n",
              "      <td>0</td>\n",
              "      <td>0</td>\n",
              "      <td>0</td>\n",
              "      <td>0</td>\n",
              "      <td>0</td>\n",
              "      <td>0</td>\n",
              "      <td>0</td>\n",
              "      <td>0</td>\n",
              "      <td>0</td>\n",
              "      <td>0</td>\n",
              "      <td>0</td>\n",
              "      <td>1</td>\n",
              "      <td>0</td>\n",
              "      <td>0</td>\n",
              "      <td>0</td>\n",
              "      <td>0</td>\n",
              "      <td>0</td>\n",
              "      <td>0</td>\n",
              "      <td>0</td>\n",
              "      <td>1</td>\n",
              "      <td>0</td>\n",
              "      <td>0</td>\n",
              "      <td>0</td>\n",
              "      <td>0</td>\n",
              "      <td>0</td>\n",
              "      <td>0</td>\n",
              "      <td>0</td>\n",
              "      <td>0</td>\n",
              "      <td>0</td>\n",
              "      <td>0</td>\n",
              "      <td>0</td>\n",
              "      <td>0</td>\n",
              "      <td>1</td>\n",
              "    </tr>\n",
              "    <tr>\n",
              "      <th>4</th>\n",
              "      <td>46</td>\n",
              "      <td>0</td>\n",
              "      <td>0</td>\n",
              "      <td>0</td>\n",
              "      <td>40</td>\n",
              "      <td>0</td>\n",
              "      <td>0</td>\n",
              "      <td>0</td>\n",
              "      <td>0</td>\n",
              "      <td>1</td>\n",
              "      <td>0</td>\n",
              "      <td>0</td>\n",
              "      <td>0</td>\n",
              "      <td>0</td>\n",
              "      <td>0</td>\n",
              "      <td>0</td>\n",
              "      <td>0</td>\n",
              "      <td>0</td>\n",
              "      <td>0</td>\n",
              "      <td>0</td>\n",
              "      <td>0</td>\n",
              "      <td>0</td>\n",
              "      <td>1</td>\n",
              "      <td>0</td>\n",
              "      <td>0</td>\n",
              "      <td>0</td>\n",
              "      <td>0</td>\n",
              "      <td>0</td>\n",
              "      <td>0</td>\n",
              "      <td>1</td>\n",
              "      <td>0</td>\n",
              "      <td>0</td>\n",
              "      <td>0</td>\n",
              "      <td>0</td>\n",
              "      <td>0</td>\n",
              "      <td>0</td>\n",
              "      <td>0</td>\n",
              "      <td>0</td>\n",
              "      <td>1</td>\n",
              "      <td>0</td>\n",
              "      <td>0</td>\n",
              "      <td>0</td>\n",
              "      <td>0</td>\n",
              "      <td>0</td>\n",
              "      <td>0</td>\n",
              "      <td>0</td>\n",
              "      <td>0</td>\n",
              "      <td>0</td>\n",
              "      <td>0</td>\n",
              "      <td>0</td>\n",
              "      <td>0</td>\n",
              "      <td>0</td>\n",
              "      <td>1</td>\n",
              "    </tr>\n",
              "    <tr>\n",
              "      <th>...</th>\n",
              "      <td>...</td>\n",
              "      <td>...</td>\n",
              "      <td>...</td>\n",
              "      <td>...</td>\n",
              "      <td>...</td>\n",
              "      <td>...</td>\n",
              "      <td>...</td>\n",
              "      <td>...</td>\n",
              "      <td>...</td>\n",
              "      <td>...</td>\n",
              "      <td>...</td>\n",
              "      <td>...</td>\n",
              "      <td>...</td>\n",
              "      <td>...</td>\n",
              "      <td>...</td>\n",
              "      <td>...</td>\n",
              "      <td>...</td>\n",
              "      <td>...</td>\n",
              "      <td>...</td>\n",
              "      <td>...</td>\n",
              "      <td>...</td>\n",
              "      <td>...</td>\n",
              "      <td>...</td>\n",
              "      <td>...</td>\n",
              "      <td>...</td>\n",
              "      <td>...</td>\n",
              "      <td>...</td>\n",
              "      <td>...</td>\n",
              "      <td>...</td>\n",
              "      <td>...</td>\n",
              "      <td>...</td>\n",
              "      <td>...</td>\n",
              "      <td>...</td>\n",
              "      <td>...</td>\n",
              "      <td>...</td>\n",
              "      <td>...</td>\n",
              "      <td>...</td>\n",
              "      <td>...</td>\n",
              "      <td>...</td>\n",
              "      <td>...</td>\n",
              "      <td>...</td>\n",
              "      <td>...</td>\n",
              "      <td>...</td>\n",
              "      <td>...</td>\n",
              "      <td>...</td>\n",
              "      <td>...</td>\n",
              "      <td>...</td>\n",
              "      <td>...</td>\n",
              "      <td>...</td>\n",
              "      <td>...</td>\n",
              "      <td>...</td>\n",
              "      <td>...</td>\n",
              "      <td>...</td>\n",
              "    </tr>\n",
              "    <tr>\n",
              "      <th>894</th>\n",
              "      <td>27</td>\n",
              "      <td>0</td>\n",
              "      <td>0</td>\n",
              "      <td>0</td>\n",
              "      <td>55</td>\n",
              "      <td>0</td>\n",
              "      <td>0</td>\n",
              "      <td>1</td>\n",
              "      <td>0</td>\n",
              "      <td>0</td>\n",
              "      <td>0</td>\n",
              "      <td>0</td>\n",
              "      <td>0</td>\n",
              "      <td>0</td>\n",
              "      <td>0</td>\n",
              "      <td>0</td>\n",
              "      <td>0</td>\n",
              "      <td>0</td>\n",
              "      <td>0</td>\n",
              "      <td>0</td>\n",
              "      <td>0</td>\n",
              "      <td>0</td>\n",
              "      <td>0</td>\n",
              "      <td>1</td>\n",
              "      <td>0</td>\n",
              "      <td>0</td>\n",
              "      <td>0</td>\n",
              "      <td>0</td>\n",
              "      <td>0</td>\n",
              "      <td>1</td>\n",
              "      <td>0</td>\n",
              "      <td>0</td>\n",
              "      <td>0</td>\n",
              "      <td>0</td>\n",
              "      <td>0</td>\n",
              "      <td>0</td>\n",
              "      <td>0</td>\n",
              "      <td>0</td>\n",
              "      <td>0</td>\n",
              "      <td>0</td>\n",
              "      <td>0</td>\n",
              "      <td>0</td>\n",
              "      <td>0</td>\n",
              "      <td>1</td>\n",
              "      <td>0</td>\n",
              "      <td>0</td>\n",
              "      <td>0</td>\n",
              "      <td>0</td>\n",
              "      <td>0</td>\n",
              "      <td>0</td>\n",
              "      <td>0</td>\n",
              "      <td>0</td>\n",
              "      <td>1</td>\n",
              "    </tr>\n",
              "    <tr>\n",
              "      <th>895</th>\n",
              "      <td>17</td>\n",
              "      <td>1</td>\n",
              "      <td>0</td>\n",
              "      <td>0</td>\n",
              "      <td>20</td>\n",
              "      <td>0</td>\n",
              "      <td>0</td>\n",
              "      <td>1</td>\n",
              "      <td>0</td>\n",
              "      <td>0</td>\n",
              "      <td>0</td>\n",
              "      <td>0</td>\n",
              "      <td>1</td>\n",
              "      <td>0</td>\n",
              "      <td>0</td>\n",
              "      <td>0</td>\n",
              "      <td>0</td>\n",
              "      <td>0</td>\n",
              "      <td>0</td>\n",
              "      <td>0</td>\n",
              "      <td>0</td>\n",
              "      <td>0</td>\n",
              "      <td>0</td>\n",
              "      <td>0</td>\n",
              "      <td>0</td>\n",
              "      <td>0</td>\n",
              "      <td>0</td>\n",
              "      <td>0</td>\n",
              "      <td>0</td>\n",
              "      <td>0</td>\n",
              "      <td>0</td>\n",
              "      <td>1</td>\n",
              "      <td>0</td>\n",
              "      <td>0</td>\n",
              "      <td>0</td>\n",
              "      <td>0</td>\n",
              "      <td>0</td>\n",
              "      <td>0</td>\n",
              "      <td>0</td>\n",
              "      <td>0</td>\n",
              "      <td>0</td>\n",
              "      <td>0</td>\n",
              "      <td>0</td>\n",
              "      <td>0</td>\n",
              "      <td>0</td>\n",
              "      <td>1</td>\n",
              "      <td>0</td>\n",
              "      <td>0</td>\n",
              "      <td>0</td>\n",
              "      <td>0</td>\n",
              "      <td>0</td>\n",
              "      <td>0</td>\n",
              "      <td>1</td>\n",
              "    </tr>\n",
              "    <tr>\n",
              "      <th>896</th>\n",
              "      <td>24</td>\n",
              "      <td>1</td>\n",
              "      <td>0</td>\n",
              "      <td>0</td>\n",
              "      <td>40</td>\n",
              "      <td>0</td>\n",
              "      <td>0</td>\n",
              "      <td>1</td>\n",
              "      <td>0</td>\n",
              "      <td>0</td>\n",
              "      <td>0</td>\n",
              "      <td>0</td>\n",
              "      <td>0</td>\n",
              "      <td>0</td>\n",
              "      <td>0</td>\n",
              "      <td>0</td>\n",
              "      <td>0</td>\n",
              "      <td>0</td>\n",
              "      <td>0</td>\n",
              "      <td>0</td>\n",
              "      <td>0</td>\n",
              "      <td>0</td>\n",
              "      <td>0</td>\n",
              "      <td>0</td>\n",
              "      <td>0</td>\n",
              "      <td>0</td>\n",
              "      <td>1</td>\n",
              "      <td>0</td>\n",
              "      <td>0</td>\n",
              "      <td>0</td>\n",
              "      <td>0</td>\n",
              "      <td>1</td>\n",
              "      <td>0</td>\n",
              "      <td>0</td>\n",
              "      <td>1</td>\n",
              "      <td>0</td>\n",
              "      <td>0</td>\n",
              "      <td>0</td>\n",
              "      <td>0</td>\n",
              "      <td>0</td>\n",
              "      <td>0</td>\n",
              "      <td>0</td>\n",
              "      <td>0</td>\n",
              "      <td>0</td>\n",
              "      <td>0</td>\n",
              "      <td>0</td>\n",
              "      <td>0</td>\n",
              "      <td>0</td>\n",
              "      <td>0</td>\n",
              "      <td>0</td>\n",
              "      <td>0</td>\n",
              "      <td>0</td>\n",
              "      <td>1</td>\n",
              "    </tr>\n",
              "    <tr>\n",
              "      <th>897</th>\n",
              "      <td>35</td>\n",
              "      <td>0</td>\n",
              "      <td>0</td>\n",
              "      <td>0</td>\n",
              "      <td>40</td>\n",
              "      <td>0</td>\n",
              "      <td>0</td>\n",
              "      <td>1</td>\n",
              "      <td>0</td>\n",
              "      <td>0</td>\n",
              "      <td>0</td>\n",
              "      <td>0</td>\n",
              "      <td>0</td>\n",
              "      <td>0</td>\n",
              "      <td>0</td>\n",
              "      <td>0</td>\n",
              "      <td>0</td>\n",
              "      <td>0</td>\n",
              "      <td>0</td>\n",
              "      <td>0</td>\n",
              "      <td>0</td>\n",
              "      <td>0</td>\n",
              "      <td>0</td>\n",
              "      <td>0</td>\n",
              "      <td>0</td>\n",
              "      <td>0</td>\n",
              "      <td>1</td>\n",
              "      <td>0</td>\n",
              "      <td>0</td>\n",
              "      <td>1</td>\n",
              "      <td>0</td>\n",
              "      <td>0</td>\n",
              "      <td>0</td>\n",
              "      <td>0</td>\n",
              "      <td>0</td>\n",
              "      <td>0</td>\n",
              "      <td>0</td>\n",
              "      <td>0</td>\n",
              "      <td>0</td>\n",
              "      <td>0</td>\n",
              "      <td>0</td>\n",
              "      <td>0</td>\n",
              "      <td>0</td>\n",
              "      <td>0</td>\n",
              "      <td>0</td>\n",
              "      <td>0</td>\n",
              "      <td>1</td>\n",
              "      <td>0</td>\n",
              "      <td>0</td>\n",
              "      <td>0</td>\n",
              "      <td>0</td>\n",
              "      <td>0</td>\n",
              "      <td>1</td>\n",
              "    </tr>\n",
              "    <tr>\n",
              "      <th>898</th>\n",
              "      <td>37</td>\n",
              "      <td>1</td>\n",
              "      <td>0</td>\n",
              "      <td>0</td>\n",
              "      <td>45</td>\n",
              "      <td>0</td>\n",
              "      <td>1</td>\n",
              "      <td>0</td>\n",
              "      <td>0</td>\n",
              "      <td>0</td>\n",
              "      <td>0</td>\n",
              "      <td>0</td>\n",
              "      <td>0</td>\n",
              "      <td>0</td>\n",
              "      <td>0</td>\n",
              "      <td>0</td>\n",
              "      <td>0</td>\n",
              "      <td>0</td>\n",
              "      <td>0</td>\n",
              "      <td>0</td>\n",
              "      <td>0</td>\n",
              "      <td>0</td>\n",
              "      <td>0</td>\n",
              "      <td>1</td>\n",
              "      <td>0</td>\n",
              "      <td>0</td>\n",
              "      <td>0</td>\n",
              "      <td>0</td>\n",
              "      <td>0</td>\n",
              "      <td>1</td>\n",
              "      <td>0</td>\n",
              "      <td>0</td>\n",
              "      <td>0</td>\n",
              "      <td>0</td>\n",
              "      <td>0</td>\n",
              "      <td>0</td>\n",
              "      <td>0</td>\n",
              "      <td>0</td>\n",
              "      <td>0</td>\n",
              "      <td>0</td>\n",
              "      <td>0</td>\n",
              "      <td>0</td>\n",
              "      <td>0</td>\n",
              "      <td>1</td>\n",
              "      <td>0</td>\n",
              "      <td>0</td>\n",
              "      <td>0</td>\n",
              "      <td>0</td>\n",
              "      <td>0</td>\n",
              "      <td>0</td>\n",
              "      <td>0</td>\n",
              "      <td>0</td>\n",
              "      <td>1</td>\n",
              "    </tr>\n",
              "  </tbody>\n",
              "</table>\n",
              "<p>899 rows × 53 columns</p>\n",
              "</div>\n",
              "      <button class=\"colab-df-convert\" onclick=\"convertToInteractive('df-8f5c2b26-8285-43aa-90b0-89308811e825')\"\n",
              "              title=\"Convert this dataframe to an interactive table.\"\n",
              "              style=\"display:none;\">\n",
              "        \n",
              "  <svg xmlns=\"http://www.w3.org/2000/svg\" height=\"24px\"viewBox=\"0 0 24 24\"\n",
              "       width=\"24px\">\n",
              "    <path d=\"M0 0h24v24H0V0z\" fill=\"none\"/>\n",
              "    <path d=\"M18.56 5.44l.94 2.06.94-2.06 2.06-.94-2.06-.94-.94-2.06-.94 2.06-2.06.94zm-11 1L8.5 8.5l.94-2.06 2.06-.94-2.06-.94L8.5 2.5l-.94 2.06-2.06.94zm10 10l.94 2.06.94-2.06 2.06-.94-2.06-.94-.94-2.06-.94 2.06-2.06.94z\"/><path d=\"M17.41 7.96l-1.37-1.37c-.4-.4-.92-.59-1.43-.59-.52 0-1.04.2-1.43.59L10.3 9.45l-7.72 7.72c-.78.78-.78 2.05 0 2.83L4 21.41c.39.39.9.59 1.41.59.51 0 1.02-.2 1.41-.59l7.78-7.78 2.81-2.81c.8-.78.8-2.07 0-2.86zM5.41 20L4 18.59l7.72-7.72 1.47 1.35L5.41 20z\"/>\n",
              "  </svg>\n",
              "      </button>\n",
              "      \n",
              "  <style>\n",
              "    .colab-df-container {\n",
              "      display:flex;\n",
              "      flex-wrap:wrap;\n",
              "      gap: 12px;\n",
              "    }\n",
              "\n",
              "    .colab-df-convert {\n",
              "      background-color: #E8F0FE;\n",
              "      border: none;\n",
              "      border-radius: 50%;\n",
              "      cursor: pointer;\n",
              "      display: none;\n",
              "      fill: #1967D2;\n",
              "      height: 32px;\n",
              "      padding: 0 0 0 0;\n",
              "      width: 32px;\n",
              "    }\n",
              "\n",
              "    .colab-df-convert:hover {\n",
              "      background-color: #E2EBFA;\n",
              "      box-shadow: 0px 1px 2px rgba(60, 64, 67, 0.3), 0px 1px 3px 1px rgba(60, 64, 67, 0.15);\n",
              "      fill: #174EA6;\n",
              "    }\n",
              "\n",
              "    [theme=dark] .colab-df-convert {\n",
              "      background-color: #3B4455;\n",
              "      fill: #D2E3FC;\n",
              "    }\n",
              "\n",
              "    [theme=dark] .colab-df-convert:hover {\n",
              "      background-color: #434B5C;\n",
              "      box-shadow: 0px 1px 3px 1px rgba(0, 0, 0, 0.15);\n",
              "      filter: drop-shadow(0px 1px 2px rgba(0, 0, 0, 0.3));\n",
              "      fill: #FFFFFF;\n",
              "    }\n",
              "  </style>\n",
              "\n",
              "      <script>\n",
              "        const buttonEl =\n",
              "          document.querySelector('#df-8f5c2b26-8285-43aa-90b0-89308811e825 button.colab-df-convert');\n",
              "        buttonEl.style.display =\n",
              "          google.colab.kernel.accessAllowed ? 'block' : 'none';\n",
              "\n",
              "        async function convertToInteractive(key) {\n",
              "          const element = document.querySelector('#df-8f5c2b26-8285-43aa-90b0-89308811e825');\n",
              "          const dataTable =\n",
              "            await google.colab.kernel.invokeFunction('convertToInteractive',\n",
              "                                                     [key], {});\n",
              "          if (!dataTable) return;\n",
              "\n",
              "          const docLinkHtml = 'Like what you see? Visit the ' +\n",
              "            '<a target=\"_blank\" href=https://colab.research.google.com/notebooks/data_table.ipynb>data table notebook</a>'\n",
              "            + ' to learn more about interactive tables.';\n",
              "          element.innerHTML = '';\n",
              "          dataTable['output_type'] = 'display_data';\n",
              "          await google.colab.output.renderOutput(dataTable, element);\n",
              "          const docLink = document.createElement('div');\n",
              "          docLink.innerHTML = docLinkHtml;\n",
              "          element.appendChild(docLink);\n",
              "        }\n",
              "      </script>\n",
              "    </div>\n",
              "  </div>\n",
              "  "
            ],
            "text/plain": [
              "     age  gender  capital-gain  ...  race_Black  race_Other  race_White\n",
              "0     39       0             0  ...           0           0           1\n",
              "1     32       0             0  ...           0           0           1\n",
              "2     47       0             0  ...           1           0           0\n",
              "3     19       0             0  ...           0           0           1\n",
              "4     46       0             0  ...           0           0           1\n",
              "..   ...     ...           ...  ...         ...         ...         ...\n",
              "894   27       0             0  ...           0           0           1\n",
              "895   17       1             0  ...           0           0           1\n",
              "896   24       1             0  ...           0           0           1\n",
              "897   35       0             0  ...           0           0           1\n",
              "898   37       1             0  ...           0           0           1\n",
              "\n",
              "[899 rows x 53 columns]"
            ]
          },
          "metadata": {},
          "execution_count": 25
        }
      ]
    },
    {
      "cell_type": "code",
      "source": [
        "new_df = new_df.drop(['workclass_Without-pay'], axis=1)\n",
        "new_df"
      ],
      "metadata": {
        "colab": {
          "base_uri": "https://localhost:8080/",
          "height": 522
        },
        "id": "Z1FHybfa4ko2",
        "outputId": "bd9b94fd-6498-4547-f1a4-54ad71e299ec"
      },
      "id": "Z1FHybfa4ko2",
      "execution_count": 26,
      "outputs": [
        {
          "output_type": "execute_result",
          "data": {
            "text/html": [
              "\n",
              "  <div id=\"df-81da4473-6d82-4a10-a190-ab7d2e5b7ad7\">\n",
              "    <div class=\"colab-df-container\">\n",
              "      <div>\n",
              "<style scoped>\n",
              "    .dataframe tbody tr th:only-of-type {\n",
              "        vertical-align: middle;\n",
              "    }\n",
              "\n",
              "    .dataframe tbody tr th {\n",
              "        vertical-align: top;\n",
              "    }\n",
              "\n",
              "    .dataframe thead th {\n",
              "        text-align: right;\n",
              "    }\n",
              "</style>\n",
              "<table border=\"1\" class=\"dataframe\">\n",
              "  <thead>\n",
              "    <tr style=\"text-align: right;\">\n",
              "      <th></th>\n",
              "      <th>age</th>\n",
              "      <th>gender</th>\n",
              "      <th>capital-gain</th>\n",
              "      <th>capital-loss</th>\n",
              "      <th>hours-per-week</th>\n",
              "      <th>workclass_Federal-gov</th>\n",
              "      <th>workclass_Local-gov</th>\n",
              "      <th>workclass_Private</th>\n",
              "      <th>workclass_Self-emp-inc</th>\n",
              "      <th>workclass_Self-emp-not-inc</th>\n",
              "      <th>workclass_State-gov</th>\n",
              "      <th>education_10th</th>\n",
              "      <th>education_11th</th>\n",
              "      <th>education_12th</th>\n",
              "      <th>education_1st-4th</th>\n",
              "      <th>education_5th-6th</th>\n",
              "      <th>education_7th-8th</th>\n",
              "      <th>education_9th</th>\n",
              "      <th>education_Assoc-acdm</th>\n",
              "      <th>education_Assoc-voc</th>\n",
              "      <th>education_Bachelors</th>\n",
              "      <th>education_Doctorate</th>\n",
              "      <th>education_HS-grad</th>\n",
              "      <th>education_Masters</th>\n",
              "      <th>education_Preschool</th>\n",
              "      <th>education_Prof-school</th>\n",
              "      <th>education_Some-college</th>\n",
              "      <th>marital-status_Divorced</th>\n",
              "      <th>marital-status_Married-AF-spouse</th>\n",
              "      <th>marital-status_Married-civ-spouse</th>\n",
              "      <th>marital-status_Married-spouse-absent</th>\n",
              "      <th>marital-status_Never-married</th>\n",
              "      <th>marital-status_Separated</th>\n",
              "      <th>marital-status_Widowed</th>\n",
              "      <th>occupation_Adm-clerical</th>\n",
              "      <th>occupation_Armed-Forces</th>\n",
              "      <th>occupation_Craft-repair</th>\n",
              "      <th>occupation_Exec-managerial</th>\n",
              "      <th>occupation_Farming-fishing</th>\n",
              "      <th>occupation_Handlers-cleaners</th>\n",
              "      <th>occupation_Machine-op-inspct</th>\n",
              "      <th>occupation_Other-service</th>\n",
              "      <th>occupation_Priv-house-serv</th>\n",
              "      <th>occupation_Prof-specialty</th>\n",
              "      <th>occupation_Protective-serv</th>\n",
              "      <th>occupation_Sales</th>\n",
              "      <th>occupation_Tech-support</th>\n",
              "      <th>occupation_Transport-moving</th>\n",
              "      <th>race_Amer-Indian-Eskimo</th>\n",
              "      <th>race_Asian-Pac-Islander</th>\n",
              "      <th>race_Black</th>\n",
              "      <th>race_Other</th>\n",
              "      <th>race_White</th>\n",
              "    </tr>\n",
              "  </thead>\n",
              "  <tbody>\n",
              "    <tr>\n",
              "      <th>0</th>\n",
              "      <td>67</td>\n",
              "      <td>0</td>\n",
              "      <td>99999</td>\n",
              "      <td>0</td>\n",
              "      <td>60</td>\n",
              "      <td>0</td>\n",
              "      <td>0</td>\n",
              "      <td>1</td>\n",
              "      <td>0</td>\n",
              "      <td>0</td>\n",
              "      <td>0</td>\n",
              "      <td>0</td>\n",
              "      <td>0</td>\n",
              "      <td>0</td>\n",
              "      <td>0</td>\n",
              "      <td>0</td>\n",
              "      <td>0</td>\n",
              "      <td>0</td>\n",
              "      <td>0</td>\n",
              "      <td>0</td>\n",
              "      <td>0</td>\n",
              "      <td>1</td>\n",
              "      <td>0</td>\n",
              "      <td>0</td>\n",
              "      <td>0</td>\n",
              "      <td>0</td>\n",
              "      <td>0</td>\n",
              "      <td>1</td>\n",
              "      <td>0</td>\n",
              "      <td>0</td>\n",
              "      <td>0</td>\n",
              "      <td>0</td>\n",
              "      <td>0</td>\n",
              "      <td>0</td>\n",
              "      <td>0</td>\n",
              "      <td>0</td>\n",
              "      <td>0</td>\n",
              "      <td>1</td>\n",
              "      <td>0</td>\n",
              "      <td>0</td>\n",
              "      <td>0</td>\n",
              "      <td>0</td>\n",
              "      <td>0</td>\n",
              "      <td>0</td>\n",
              "      <td>0</td>\n",
              "      <td>0</td>\n",
              "      <td>0</td>\n",
              "      <td>0</td>\n",
              "      <td>0</td>\n",
              "      <td>0</td>\n",
              "      <td>0</td>\n",
              "      <td>0</td>\n",
              "      <td>1</td>\n",
              "    </tr>\n",
              "    <tr>\n",
              "      <th>1</th>\n",
              "      <td>17</td>\n",
              "      <td>0</td>\n",
              "      <td>0</td>\n",
              "      <td>0</td>\n",
              "      <td>15</td>\n",
              "      <td>0</td>\n",
              "      <td>0</td>\n",
              "      <td>1</td>\n",
              "      <td>0</td>\n",
              "      <td>0</td>\n",
              "      <td>0</td>\n",
              "      <td>0</td>\n",
              "      <td>0</td>\n",
              "      <td>1</td>\n",
              "      <td>0</td>\n",
              "      <td>0</td>\n",
              "      <td>0</td>\n",
              "      <td>0</td>\n",
              "      <td>0</td>\n",
              "      <td>0</td>\n",
              "      <td>0</td>\n",
              "      <td>0</td>\n",
              "      <td>0</td>\n",
              "      <td>0</td>\n",
              "      <td>0</td>\n",
              "      <td>0</td>\n",
              "      <td>0</td>\n",
              "      <td>0</td>\n",
              "      <td>0</td>\n",
              "      <td>0</td>\n",
              "      <td>0</td>\n",
              "      <td>1</td>\n",
              "      <td>0</td>\n",
              "      <td>0</td>\n",
              "      <td>0</td>\n",
              "      <td>0</td>\n",
              "      <td>0</td>\n",
              "      <td>0</td>\n",
              "      <td>0</td>\n",
              "      <td>0</td>\n",
              "      <td>0</td>\n",
              "      <td>1</td>\n",
              "      <td>0</td>\n",
              "      <td>0</td>\n",
              "      <td>0</td>\n",
              "      <td>0</td>\n",
              "      <td>0</td>\n",
              "      <td>0</td>\n",
              "      <td>0</td>\n",
              "      <td>0</td>\n",
              "      <td>0</td>\n",
              "      <td>0</td>\n",
              "      <td>1</td>\n",
              "    </tr>\n",
              "    <tr>\n",
              "      <th>2</th>\n",
              "      <td>31</td>\n",
              "      <td>0</td>\n",
              "      <td>0</td>\n",
              "      <td>0</td>\n",
              "      <td>40</td>\n",
              "      <td>0</td>\n",
              "      <td>0</td>\n",
              "      <td>1</td>\n",
              "      <td>0</td>\n",
              "      <td>0</td>\n",
              "      <td>0</td>\n",
              "      <td>0</td>\n",
              "      <td>0</td>\n",
              "      <td>0</td>\n",
              "      <td>0</td>\n",
              "      <td>0</td>\n",
              "      <td>0</td>\n",
              "      <td>0</td>\n",
              "      <td>0</td>\n",
              "      <td>0</td>\n",
              "      <td>1</td>\n",
              "      <td>0</td>\n",
              "      <td>0</td>\n",
              "      <td>0</td>\n",
              "      <td>0</td>\n",
              "      <td>0</td>\n",
              "      <td>0</td>\n",
              "      <td>0</td>\n",
              "      <td>0</td>\n",
              "      <td>1</td>\n",
              "      <td>0</td>\n",
              "      <td>0</td>\n",
              "      <td>0</td>\n",
              "      <td>0</td>\n",
              "      <td>0</td>\n",
              "      <td>0</td>\n",
              "      <td>0</td>\n",
              "      <td>1</td>\n",
              "      <td>0</td>\n",
              "      <td>0</td>\n",
              "      <td>0</td>\n",
              "      <td>0</td>\n",
              "      <td>0</td>\n",
              "      <td>0</td>\n",
              "      <td>0</td>\n",
              "      <td>0</td>\n",
              "      <td>0</td>\n",
              "      <td>0</td>\n",
              "      <td>0</td>\n",
              "      <td>0</td>\n",
              "      <td>0</td>\n",
              "      <td>0</td>\n",
              "      <td>1</td>\n",
              "    </tr>\n",
              "    <tr>\n",
              "      <th>3</th>\n",
              "      <td>58</td>\n",
              "      <td>0</td>\n",
              "      <td>0</td>\n",
              "      <td>0</td>\n",
              "      <td>40</td>\n",
              "      <td>0</td>\n",
              "      <td>0</td>\n",
              "      <td>0</td>\n",
              "      <td>0</td>\n",
              "      <td>0</td>\n",
              "      <td>1</td>\n",
              "      <td>0</td>\n",
              "      <td>0</td>\n",
              "      <td>0</td>\n",
              "      <td>0</td>\n",
              "      <td>0</td>\n",
              "      <td>1</td>\n",
              "      <td>0</td>\n",
              "      <td>0</td>\n",
              "      <td>0</td>\n",
              "      <td>0</td>\n",
              "      <td>0</td>\n",
              "      <td>0</td>\n",
              "      <td>0</td>\n",
              "      <td>0</td>\n",
              "      <td>0</td>\n",
              "      <td>0</td>\n",
              "      <td>0</td>\n",
              "      <td>0</td>\n",
              "      <td>1</td>\n",
              "      <td>0</td>\n",
              "      <td>0</td>\n",
              "      <td>0</td>\n",
              "      <td>0</td>\n",
              "      <td>0</td>\n",
              "      <td>0</td>\n",
              "      <td>0</td>\n",
              "      <td>0</td>\n",
              "      <td>0</td>\n",
              "      <td>0</td>\n",
              "      <td>0</td>\n",
              "      <td>0</td>\n",
              "      <td>0</td>\n",
              "      <td>0</td>\n",
              "      <td>0</td>\n",
              "      <td>0</td>\n",
              "      <td>0</td>\n",
              "      <td>1</td>\n",
              "      <td>0</td>\n",
              "      <td>0</td>\n",
              "      <td>0</td>\n",
              "      <td>0</td>\n",
              "      <td>1</td>\n",
              "    </tr>\n",
              "    <tr>\n",
              "      <th>4</th>\n",
              "      <td>25</td>\n",
              "      <td>0</td>\n",
              "      <td>0</td>\n",
              "      <td>0</td>\n",
              "      <td>40</td>\n",
              "      <td>0</td>\n",
              "      <td>0</td>\n",
              "      <td>0</td>\n",
              "      <td>0</td>\n",
              "      <td>0</td>\n",
              "      <td>1</td>\n",
              "      <td>0</td>\n",
              "      <td>0</td>\n",
              "      <td>0</td>\n",
              "      <td>0</td>\n",
              "      <td>0</td>\n",
              "      <td>0</td>\n",
              "      <td>0</td>\n",
              "      <td>0</td>\n",
              "      <td>0</td>\n",
              "      <td>0</td>\n",
              "      <td>0</td>\n",
              "      <td>0</td>\n",
              "      <td>0</td>\n",
              "      <td>0</td>\n",
              "      <td>0</td>\n",
              "      <td>1</td>\n",
              "      <td>0</td>\n",
              "      <td>0</td>\n",
              "      <td>0</td>\n",
              "      <td>0</td>\n",
              "      <td>1</td>\n",
              "      <td>0</td>\n",
              "      <td>0</td>\n",
              "      <td>0</td>\n",
              "      <td>0</td>\n",
              "      <td>0</td>\n",
              "      <td>0</td>\n",
              "      <td>0</td>\n",
              "      <td>0</td>\n",
              "      <td>0</td>\n",
              "      <td>1</td>\n",
              "      <td>0</td>\n",
              "      <td>0</td>\n",
              "      <td>0</td>\n",
              "      <td>0</td>\n",
              "      <td>0</td>\n",
              "      <td>0</td>\n",
              "      <td>0</td>\n",
              "      <td>0</td>\n",
              "      <td>1</td>\n",
              "      <td>0</td>\n",
              "      <td>0</td>\n",
              "    </tr>\n",
              "    <tr>\n",
              "      <th>...</th>\n",
              "      <td>...</td>\n",
              "      <td>...</td>\n",
              "      <td>...</td>\n",
              "      <td>...</td>\n",
              "      <td>...</td>\n",
              "      <td>...</td>\n",
              "      <td>...</td>\n",
              "      <td>...</td>\n",
              "      <td>...</td>\n",
              "      <td>...</td>\n",
              "      <td>...</td>\n",
              "      <td>...</td>\n",
              "      <td>...</td>\n",
              "      <td>...</td>\n",
              "      <td>...</td>\n",
              "      <td>...</td>\n",
              "      <td>...</td>\n",
              "      <td>...</td>\n",
              "      <td>...</td>\n",
              "      <td>...</td>\n",
              "      <td>...</td>\n",
              "      <td>...</td>\n",
              "      <td>...</td>\n",
              "      <td>...</td>\n",
              "      <td>...</td>\n",
              "      <td>...</td>\n",
              "      <td>...</td>\n",
              "      <td>...</td>\n",
              "      <td>...</td>\n",
              "      <td>...</td>\n",
              "      <td>...</td>\n",
              "      <td>...</td>\n",
              "      <td>...</td>\n",
              "      <td>...</td>\n",
              "      <td>...</td>\n",
              "      <td>...</td>\n",
              "      <td>...</td>\n",
              "      <td>...</td>\n",
              "      <td>...</td>\n",
              "      <td>...</td>\n",
              "      <td>...</td>\n",
              "      <td>...</td>\n",
              "      <td>...</td>\n",
              "      <td>...</td>\n",
              "      <td>...</td>\n",
              "      <td>...</td>\n",
              "      <td>...</td>\n",
              "      <td>...</td>\n",
              "      <td>...</td>\n",
              "      <td>...</td>\n",
              "      <td>...</td>\n",
              "      <td>...</td>\n",
              "      <td>...</td>\n",
              "    </tr>\n",
              "    <tr>\n",
              "      <th>43952</th>\n",
              "      <td>52</td>\n",
              "      <td>0</td>\n",
              "      <td>0</td>\n",
              "      <td>0</td>\n",
              "      <td>50</td>\n",
              "      <td>0</td>\n",
              "      <td>0</td>\n",
              "      <td>1</td>\n",
              "      <td>0</td>\n",
              "      <td>0</td>\n",
              "      <td>0</td>\n",
              "      <td>0</td>\n",
              "      <td>0</td>\n",
              "      <td>0</td>\n",
              "      <td>0</td>\n",
              "      <td>0</td>\n",
              "      <td>0</td>\n",
              "      <td>0</td>\n",
              "      <td>0</td>\n",
              "      <td>0</td>\n",
              "      <td>1</td>\n",
              "      <td>0</td>\n",
              "      <td>0</td>\n",
              "      <td>0</td>\n",
              "      <td>0</td>\n",
              "      <td>0</td>\n",
              "      <td>0</td>\n",
              "      <td>0</td>\n",
              "      <td>0</td>\n",
              "      <td>1</td>\n",
              "      <td>0</td>\n",
              "      <td>0</td>\n",
              "      <td>0</td>\n",
              "      <td>0</td>\n",
              "      <td>0</td>\n",
              "      <td>0</td>\n",
              "      <td>0</td>\n",
              "      <td>1</td>\n",
              "      <td>0</td>\n",
              "      <td>0</td>\n",
              "      <td>0</td>\n",
              "      <td>0</td>\n",
              "      <td>0</td>\n",
              "      <td>0</td>\n",
              "      <td>0</td>\n",
              "      <td>0</td>\n",
              "      <td>0</td>\n",
              "      <td>0</td>\n",
              "      <td>0</td>\n",
              "      <td>0</td>\n",
              "      <td>0</td>\n",
              "      <td>0</td>\n",
              "      <td>1</td>\n",
              "    </tr>\n",
              "    <tr>\n",
              "      <th>43953</th>\n",
              "      <td>19</td>\n",
              "      <td>1</td>\n",
              "      <td>0</td>\n",
              "      <td>0</td>\n",
              "      <td>40</td>\n",
              "      <td>0</td>\n",
              "      <td>0</td>\n",
              "      <td>1</td>\n",
              "      <td>0</td>\n",
              "      <td>0</td>\n",
              "      <td>0</td>\n",
              "      <td>0</td>\n",
              "      <td>0</td>\n",
              "      <td>0</td>\n",
              "      <td>0</td>\n",
              "      <td>0</td>\n",
              "      <td>0</td>\n",
              "      <td>0</td>\n",
              "      <td>0</td>\n",
              "      <td>0</td>\n",
              "      <td>0</td>\n",
              "      <td>0</td>\n",
              "      <td>1</td>\n",
              "      <td>0</td>\n",
              "      <td>0</td>\n",
              "      <td>0</td>\n",
              "      <td>0</td>\n",
              "      <td>0</td>\n",
              "      <td>0</td>\n",
              "      <td>0</td>\n",
              "      <td>0</td>\n",
              "      <td>1</td>\n",
              "      <td>0</td>\n",
              "      <td>0</td>\n",
              "      <td>0</td>\n",
              "      <td>0</td>\n",
              "      <td>0</td>\n",
              "      <td>0</td>\n",
              "      <td>0</td>\n",
              "      <td>0</td>\n",
              "      <td>0</td>\n",
              "      <td>1</td>\n",
              "      <td>0</td>\n",
              "      <td>0</td>\n",
              "      <td>0</td>\n",
              "      <td>0</td>\n",
              "      <td>0</td>\n",
              "      <td>0</td>\n",
              "      <td>0</td>\n",
              "      <td>0</td>\n",
              "      <td>0</td>\n",
              "      <td>0</td>\n",
              "      <td>1</td>\n",
              "    </tr>\n",
              "    <tr>\n",
              "      <th>43954</th>\n",
              "      <td>30</td>\n",
              "      <td>0</td>\n",
              "      <td>0</td>\n",
              "      <td>0</td>\n",
              "      <td>58</td>\n",
              "      <td>0</td>\n",
              "      <td>0</td>\n",
              "      <td>1</td>\n",
              "      <td>0</td>\n",
              "      <td>0</td>\n",
              "      <td>0</td>\n",
              "      <td>0</td>\n",
              "      <td>0</td>\n",
              "      <td>0</td>\n",
              "      <td>0</td>\n",
              "      <td>0</td>\n",
              "      <td>0</td>\n",
              "      <td>0</td>\n",
              "      <td>0</td>\n",
              "      <td>0</td>\n",
              "      <td>0</td>\n",
              "      <td>0</td>\n",
              "      <td>0</td>\n",
              "      <td>0</td>\n",
              "      <td>0</td>\n",
              "      <td>0</td>\n",
              "      <td>1</td>\n",
              "      <td>1</td>\n",
              "      <td>0</td>\n",
              "      <td>0</td>\n",
              "      <td>0</td>\n",
              "      <td>0</td>\n",
              "      <td>0</td>\n",
              "      <td>0</td>\n",
              "      <td>0</td>\n",
              "      <td>0</td>\n",
              "      <td>0</td>\n",
              "      <td>0</td>\n",
              "      <td>0</td>\n",
              "      <td>0</td>\n",
              "      <td>0</td>\n",
              "      <td>0</td>\n",
              "      <td>0</td>\n",
              "      <td>0</td>\n",
              "      <td>0</td>\n",
              "      <td>1</td>\n",
              "      <td>0</td>\n",
              "      <td>0</td>\n",
              "      <td>0</td>\n",
              "      <td>0</td>\n",
              "      <td>0</td>\n",
              "      <td>0</td>\n",
              "      <td>1</td>\n",
              "    </tr>\n",
              "    <tr>\n",
              "      <th>43955</th>\n",
              "      <td>46</td>\n",
              "      <td>1</td>\n",
              "      <td>0</td>\n",
              "      <td>0</td>\n",
              "      <td>35</td>\n",
              "      <td>0</td>\n",
              "      <td>0</td>\n",
              "      <td>1</td>\n",
              "      <td>0</td>\n",
              "      <td>0</td>\n",
              "      <td>0</td>\n",
              "      <td>0</td>\n",
              "      <td>0</td>\n",
              "      <td>0</td>\n",
              "      <td>0</td>\n",
              "      <td>0</td>\n",
              "      <td>0</td>\n",
              "      <td>0</td>\n",
              "      <td>0</td>\n",
              "      <td>0</td>\n",
              "      <td>1</td>\n",
              "      <td>0</td>\n",
              "      <td>0</td>\n",
              "      <td>0</td>\n",
              "      <td>0</td>\n",
              "      <td>0</td>\n",
              "      <td>0</td>\n",
              "      <td>0</td>\n",
              "      <td>0</td>\n",
              "      <td>0</td>\n",
              "      <td>0</td>\n",
              "      <td>1</td>\n",
              "      <td>0</td>\n",
              "      <td>0</td>\n",
              "      <td>0</td>\n",
              "      <td>0</td>\n",
              "      <td>0</td>\n",
              "      <td>0</td>\n",
              "      <td>0</td>\n",
              "      <td>0</td>\n",
              "      <td>0</td>\n",
              "      <td>0</td>\n",
              "      <td>0</td>\n",
              "      <td>0</td>\n",
              "      <td>0</td>\n",
              "      <td>1</td>\n",
              "      <td>0</td>\n",
              "      <td>0</td>\n",
              "      <td>0</td>\n",
              "      <td>0</td>\n",
              "      <td>0</td>\n",
              "      <td>0</td>\n",
              "      <td>1</td>\n",
              "    </tr>\n",
              "    <tr>\n",
              "      <th>43956</th>\n",
              "      <td>30</td>\n",
              "      <td>0</td>\n",
              "      <td>0</td>\n",
              "      <td>0</td>\n",
              "      <td>40</td>\n",
              "      <td>0</td>\n",
              "      <td>0</td>\n",
              "      <td>1</td>\n",
              "      <td>0</td>\n",
              "      <td>0</td>\n",
              "      <td>0</td>\n",
              "      <td>0</td>\n",
              "      <td>0</td>\n",
              "      <td>0</td>\n",
              "      <td>0</td>\n",
              "      <td>0</td>\n",
              "      <td>0</td>\n",
              "      <td>0</td>\n",
              "      <td>0</td>\n",
              "      <td>0</td>\n",
              "      <td>0</td>\n",
              "      <td>0</td>\n",
              "      <td>1</td>\n",
              "      <td>0</td>\n",
              "      <td>0</td>\n",
              "      <td>0</td>\n",
              "      <td>0</td>\n",
              "      <td>0</td>\n",
              "      <td>0</td>\n",
              "      <td>0</td>\n",
              "      <td>0</td>\n",
              "      <td>1</td>\n",
              "      <td>0</td>\n",
              "      <td>0</td>\n",
              "      <td>0</td>\n",
              "      <td>0</td>\n",
              "      <td>0</td>\n",
              "      <td>0</td>\n",
              "      <td>0</td>\n",
              "      <td>1</td>\n",
              "      <td>0</td>\n",
              "      <td>0</td>\n",
              "      <td>0</td>\n",
              "      <td>0</td>\n",
              "      <td>0</td>\n",
              "      <td>0</td>\n",
              "      <td>0</td>\n",
              "      <td>0</td>\n",
              "      <td>0</td>\n",
              "      <td>0</td>\n",
              "      <td>0</td>\n",
              "      <td>0</td>\n",
              "      <td>1</td>\n",
              "    </tr>\n",
              "  </tbody>\n",
              "</table>\n",
              "<p>41451 rows × 53 columns</p>\n",
              "</div>\n",
              "      <button class=\"colab-df-convert\" onclick=\"convertToInteractive('df-81da4473-6d82-4a10-a190-ab7d2e5b7ad7')\"\n",
              "              title=\"Convert this dataframe to an interactive table.\"\n",
              "              style=\"display:none;\">\n",
              "        \n",
              "  <svg xmlns=\"http://www.w3.org/2000/svg\" height=\"24px\"viewBox=\"0 0 24 24\"\n",
              "       width=\"24px\">\n",
              "    <path d=\"M0 0h24v24H0V0z\" fill=\"none\"/>\n",
              "    <path d=\"M18.56 5.44l.94 2.06.94-2.06 2.06-.94-2.06-.94-.94-2.06-.94 2.06-2.06.94zm-11 1L8.5 8.5l.94-2.06 2.06-.94-2.06-.94L8.5 2.5l-.94 2.06-2.06.94zm10 10l.94 2.06.94-2.06 2.06-.94-2.06-.94-.94-2.06-.94 2.06-2.06.94z\"/><path d=\"M17.41 7.96l-1.37-1.37c-.4-.4-.92-.59-1.43-.59-.52 0-1.04.2-1.43.59L10.3 9.45l-7.72 7.72c-.78.78-.78 2.05 0 2.83L4 21.41c.39.39.9.59 1.41.59.51 0 1.02-.2 1.41-.59l7.78-7.78 2.81-2.81c.8-.78.8-2.07 0-2.86zM5.41 20L4 18.59l7.72-7.72 1.47 1.35L5.41 20z\"/>\n",
              "  </svg>\n",
              "      </button>\n",
              "      \n",
              "  <style>\n",
              "    .colab-df-container {\n",
              "      display:flex;\n",
              "      flex-wrap:wrap;\n",
              "      gap: 12px;\n",
              "    }\n",
              "\n",
              "    .colab-df-convert {\n",
              "      background-color: #E8F0FE;\n",
              "      border: none;\n",
              "      border-radius: 50%;\n",
              "      cursor: pointer;\n",
              "      display: none;\n",
              "      fill: #1967D2;\n",
              "      height: 32px;\n",
              "      padding: 0 0 0 0;\n",
              "      width: 32px;\n",
              "    }\n",
              "\n",
              "    .colab-df-convert:hover {\n",
              "      background-color: #E2EBFA;\n",
              "      box-shadow: 0px 1px 2px rgba(60, 64, 67, 0.3), 0px 1px 3px 1px rgba(60, 64, 67, 0.15);\n",
              "      fill: #174EA6;\n",
              "    }\n",
              "\n",
              "    [theme=dark] .colab-df-convert {\n",
              "      background-color: #3B4455;\n",
              "      fill: #D2E3FC;\n",
              "    }\n",
              "\n",
              "    [theme=dark] .colab-df-convert:hover {\n",
              "      background-color: #434B5C;\n",
              "      box-shadow: 0px 1px 3px 1px rgba(0, 0, 0, 0.15);\n",
              "      filter: drop-shadow(0px 1px 2px rgba(0, 0, 0, 0.3));\n",
              "      fill: #FFFFFF;\n",
              "    }\n",
              "  </style>\n",
              "\n",
              "      <script>\n",
              "        const buttonEl =\n",
              "          document.querySelector('#df-81da4473-6d82-4a10-a190-ab7d2e5b7ad7 button.colab-df-convert');\n",
              "        buttonEl.style.display =\n",
              "          google.colab.kernel.accessAllowed ? 'block' : 'none';\n",
              "\n",
              "        async function convertToInteractive(key) {\n",
              "          const element = document.querySelector('#df-81da4473-6d82-4a10-a190-ab7d2e5b7ad7');\n",
              "          const dataTable =\n",
              "            await google.colab.kernel.invokeFunction('convertToInteractive',\n",
              "                                                     [key], {});\n",
              "          if (!dataTable) return;\n",
              "\n",
              "          const docLinkHtml = 'Like what you see? Visit the ' +\n",
              "            '<a target=\"_blank\" href=https://colab.research.google.com/notebooks/data_table.ipynb>data table notebook</a>'\n",
              "            + ' to learn more about interactive tables.';\n",
              "          element.innerHTML = '';\n",
              "          dataTable['output_type'] = 'display_data';\n",
              "          await google.colab.output.renderOutput(dataTable, element);\n",
              "          const docLink = document.createElement('div');\n",
              "          docLink.innerHTML = docLinkHtml;\n",
              "          element.appendChild(docLink);\n",
              "        }\n",
              "      </script>\n",
              "    </div>\n",
              "  </div>\n",
              "  "
            ],
            "text/plain": [
              "       age  gender  capital-gain  ...  race_Black  race_Other  race_White\n",
              "0       67       0         99999  ...           0           0           1\n",
              "1       17       0             0  ...           0           0           1\n",
              "2       31       0             0  ...           0           0           1\n",
              "3       58       0             0  ...           0           0           1\n",
              "4       25       0             0  ...           1           0           0\n",
              "...    ...     ...           ...  ...         ...         ...         ...\n",
              "43952   52       0             0  ...           0           0           1\n",
              "43953   19       1             0  ...           0           0           1\n",
              "43954   30       0             0  ...           0           0           1\n",
              "43955   46       1             0  ...           0           0           1\n",
              "43956   30       0             0  ...           0           0           1\n",
              "\n",
              "[41451 rows x 53 columns]"
            ]
          },
          "metadata": {},
          "execution_count": 26
        }
      ]
    },
    {
      "cell_type": "code",
      "source": [
        "from sklearn import set_config #visualizer\n",
        "set_config(display='diagram')\n",
        "from sklearn.pipeline import make_pipeline"
      ],
      "metadata": {
        "id": "x9zE7cUT1IQ3"
      },
      "id": "x9zE7cUT1IQ3",
      "execution_count": 27,
      "outputs": []
    },
    {
      "cell_type": "markdown",
      "source": [
        "Since the data provided has already distinguished test and train data, I am not using train_test_split. Also, the test data lacked the column workclass_Without-pay which is why I dropped it."
      ],
      "metadata": {
        "id": "Fn8wzWPnVTcd"
      },
      "id": "Fn8wzWPnVTcd"
    },
    {
      "cell_type": "code",
      "source": [
        "# from sklearn.model_selection import train_test_split\n",
        "X_test = new_test_df.drop(['gender'], axis=1)\n",
        "y_test = new_test_df.gender\n",
        "print(X_test.shape, y_test.shape)\n",
        "# X_train, X_test, y_train, y_test = train_test_split(X, y, test_size=.20, shuffle=True, random_state=42)\n",
        "X_train = new_df.drop(['gender'], axis=1)\n",
        "y_train = new_df.gender\n",
        "X_train.shape, X_test.shape, y_train.shape, y_test.shape\n",
        "# X_val = new_test_df.drop(['gender', 'fnlwgt'], axis=1)\n",
        "# y_val = new_test_df.gender\n",
        "# X_val.shape, y_val.shape"
      ],
      "metadata": {
        "colab": {
          "base_uri": "https://localhost:8080/"
        },
        "id": "PrSZ-vC9zya9",
        "outputId": "9fc2a2ac-aba1-45c0-bc99-5d1fe673173e"
      },
      "id": "PrSZ-vC9zya9",
      "execution_count": 28,
      "outputs": [
        {
          "output_type": "stream",
          "name": "stdout",
          "text": [
            "(899, 52) (899,)\n"
          ]
        },
        {
          "output_type": "execute_result",
          "data": {
            "text/plain": [
              "((41451, 52), (899, 52), (41451,), (899,))"
            ]
          },
          "metadata": {},
          "execution_count": 28
        }
      ]
    },
    {
      "cell_type": "code",
      "source": [
        "from sklearn.preprocessing import StandardScaler\n",
        "from sklearn.linear_model import SGDClassifier, LogisticRegression\n",
        "from sklearn.model_selection import GridSearchCV, cross_val_score\n",
        "from sklearn.model_selection import KFold\n",
        "from sklearn.metrics import classification_report, confusion_matrix, plot_confusion_matrix"
      ],
      "metadata": {
        "id": "t4GRuHZN3V39"
      },
      "id": "t4GRuHZN3V39",
      "execution_count": 29,
      "outputs": []
    },
    {
      "cell_type": "code",
      "source": [
        "scaler = StandardScaler()\n",
        "clf = SGDClassifier(random_state=42)"
      ],
      "metadata": {
        "id": "ZgJF6Njq9ato"
      },
      "id": "ZgJF6Njq9ato",
      "execution_count": 30,
      "outputs": []
    },
    {
      "cell_type": "code",
      "source": [
        "from sklearn.compose import make_column_transformer"
      ],
      "metadata": {
        "id": "0B5rEyk_Ouoi"
      },
      "id": "0B5rEyk_Ouoi",
      "execution_count": 31,
      "outputs": []
    },
    {
      "cell_type": "code",
      "source": [
        "from sklearn import svm"
      ],
      "metadata": {
        "id": "OYacjDa8BAFC"
      },
      "id": "OYacjDa8BAFC",
      "execution_count": 32,
      "outputs": []
    },
    {
      "cell_type": "markdown",
      "source": [
        "I will start with Logistic Regression"
      ],
      "metadata": {
        "id": "OnJFnqxUNpm5"
      },
      "id": "OnJFnqxUNpm5"
    },
    {
      "cell_type": "code",
      "source": [
        "pipe = make_pipeline(scaler, LogisticRegression(random_state=42))\n",
        "pipe.fit(X_train, y_train)\n",
        "logreg_predictions = pipe.predict(X_test)\n",
        "print(classification_report(y_test, logreg_predictions))"
      ],
      "metadata": {
        "colab": {
          "base_uri": "https://localhost:8080/"
        },
        "id": "YMJ6QqaxRJSK",
        "outputId": "8b76ad45-8657-4242-b74a-5456b09c8be1"
      },
      "id": "YMJ6QqaxRJSK",
      "execution_count": 33,
      "outputs": [
        {
          "output_type": "stream",
          "name": "stdout",
          "text": [
            "              precision    recall  f1-score   support\n",
            "\n",
            "           0       0.85      0.84      0.84       606\n",
            "           1       0.67      0.68      0.68       293\n",
            "\n",
            "    accuracy                           0.79       899\n",
            "   macro avg       0.76      0.76      0.76       899\n",
            "weighted avg       0.79      0.79      0.79       899\n",
            "\n"
          ]
        }
      ]
    },
    {
      "cell_type": "markdown",
      "source": [
        "Baseline comparison to see if the system actually learned something,"
      ],
      "metadata": {
        "id": "LXld8p9aV5rU"
      },
      "id": "LXld8p9aV5rU"
    },
    {
      "cell_type": "code",
      "source": [
        "from sklearn.dummy import DummyClassifier\n",
        "dummy1 = DummyClassifier(strategy=\"most_frequent\")\n",
        "dummy2 = DummyClassifier(strategy=\"stratified\")\n"
      ],
      "metadata": {
        "id": "tqUUNLcnWc5-"
      },
      "id": "tqUUNLcnWc5-",
      "execution_count": 34,
      "outputs": []
    },
    {
      "cell_type": "code",
      "source": [
        "dummy1.fit(X_train, y_train)\n",
        "dummy1.score(X_train, y_train)"
      ],
      "metadata": {
        "colab": {
          "base_uri": "https://localhost:8080/"
        },
        "id": "G_GYX-UDk-z4",
        "outputId": "93473fa8-d0b9-4320-dd78-e1f6c52a907f"
      },
      "id": "G_GYX-UDk-z4",
      "execution_count": 35,
      "outputs": [
        {
          "output_type": "execute_result",
          "data": {
            "text/plain": [
              "0.6759064920026054"
            ]
          },
          "metadata": {},
          "execution_count": 35
        }
      ]
    },
    {
      "cell_type": "code",
      "source": [
        "dummy2.fit(X_train, y_train)\n",
        "dummy2.score(X_train, y_train)"
      ],
      "metadata": {
        "colab": {
          "base_uri": "https://localhost:8080/"
        },
        "id": "y05wvSDjlAl8",
        "outputId": "c30780a0-7b36-4d1a-aff2-e4a9cf2d6088"
      },
      "id": "y05wvSDjlAl8",
      "execution_count": 36,
      "outputs": [
        {
          "output_type": "execute_result",
          "data": {
            "text/plain": [
              "0.558756121685846"
            ]
          },
          "metadata": {},
          "execution_count": 36
        }
      ]
    },
    {
      "cell_type": "markdown",
      "source": [
        "The results are better than the baseline"
      ],
      "metadata": {
        "id": "MAQiJ0nXm5Qz"
      },
      "id": "MAQiJ0nXm5Qz"
    },
    {
      "cell_type": "code",
      "source": [
        "param_grid = [{\n",
        "    'logisticregression__C': [0.01, 0.1, 1.0, 10, 100, 1000],\n",
        "    }]\n",
        "\n",
        "gs = GridSearchCV(pipe, param_grid, cv=10, scoring='f1_macro', n_jobs=-1, verbose=1, refit=True)\n",
        "gs.fit(X_train, y_train)"
      ],
      "metadata": {
        "colab": {
          "base_uri": "https://localhost:8080/",
          "height": 144
        },
        "id": "mG4aBRcxnFPc",
        "outputId": "f30f411c-9c98-4064-a7e0-0446615c7ee4"
      },
      "id": "mG4aBRcxnFPc",
      "execution_count": 37,
      "outputs": [
        {
          "output_type": "stream",
          "name": "stdout",
          "text": [
            "Fitting 10 folds for each of 6 candidates, totalling 60 fits\n"
          ]
        },
        {
          "output_type": "execute_result",
          "data": {
            "text/html": [
              "<style>#sk-9b52e035-e17a-4eae-9cdb-c8fd869e2a34 {color: black;background-color: white;}#sk-9b52e035-e17a-4eae-9cdb-c8fd869e2a34 pre{padding: 0;}#sk-9b52e035-e17a-4eae-9cdb-c8fd869e2a34 div.sk-toggleable {background-color: white;}#sk-9b52e035-e17a-4eae-9cdb-c8fd869e2a34 label.sk-toggleable__label {cursor: pointer;display: block;width: 100%;margin-bottom: 0;padding: 0.3em;box-sizing: border-box;text-align: center;}#sk-9b52e035-e17a-4eae-9cdb-c8fd869e2a34 label.sk-toggleable__label-arrow:before {content: \"▸\";float: left;margin-right: 0.25em;color: #696969;}#sk-9b52e035-e17a-4eae-9cdb-c8fd869e2a34 label.sk-toggleable__label-arrow:hover:before {color: black;}#sk-9b52e035-e17a-4eae-9cdb-c8fd869e2a34 div.sk-estimator:hover label.sk-toggleable__label-arrow:before {color: black;}#sk-9b52e035-e17a-4eae-9cdb-c8fd869e2a34 div.sk-toggleable__content {max-height: 0;max-width: 0;overflow: hidden;text-align: left;background-color: #f0f8ff;}#sk-9b52e035-e17a-4eae-9cdb-c8fd869e2a34 div.sk-toggleable__content pre {margin: 0.2em;color: black;border-radius: 0.25em;background-color: #f0f8ff;}#sk-9b52e035-e17a-4eae-9cdb-c8fd869e2a34 input.sk-toggleable__control:checked~div.sk-toggleable__content {max-height: 200px;max-width: 100%;overflow: auto;}#sk-9b52e035-e17a-4eae-9cdb-c8fd869e2a34 input.sk-toggleable__control:checked~label.sk-toggleable__label-arrow:before {content: \"▾\";}#sk-9b52e035-e17a-4eae-9cdb-c8fd869e2a34 div.sk-estimator input.sk-toggleable__control:checked~label.sk-toggleable__label {background-color: #d4ebff;}#sk-9b52e035-e17a-4eae-9cdb-c8fd869e2a34 div.sk-label input.sk-toggleable__control:checked~label.sk-toggleable__label {background-color: #d4ebff;}#sk-9b52e035-e17a-4eae-9cdb-c8fd869e2a34 input.sk-hidden--visually {border: 0;clip: rect(1px 1px 1px 1px);clip: rect(1px, 1px, 1px, 1px);height: 1px;margin: -1px;overflow: hidden;padding: 0;position: absolute;width: 1px;}#sk-9b52e035-e17a-4eae-9cdb-c8fd869e2a34 div.sk-estimator {font-family: monospace;background-color: #f0f8ff;border: 1px dotted black;border-radius: 0.25em;box-sizing: border-box;margin-bottom: 0.5em;}#sk-9b52e035-e17a-4eae-9cdb-c8fd869e2a34 div.sk-estimator:hover {background-color: #d4ebff;}#sk-9b52e035-e17a-4eae-9cdb-c8fd869e2a34 div.sk-parallel-item::after {content: \"\";width: 100%;border-bottom: 1px solid gray;flex-grow: 1;}#sk-9b52e035-e17a-4eae-9cdb-c8fd869e2a34 div.sk-label:hover label.sk-toggleable__label {background-color: #d4ebff;}#sk-9b52e035-e17a-4eae-9cdb-c8fd869e2a34 div.sk-serial::before {content: \"\";position: absolute;border-left: 1px solid gray;box-sizing: border-box;top: 2em;bottom: 0;left: 50%;}#sk-9b52e035-e17a-4eae-9cdb-c8fd869e2a34 div.sk-serial {display: flex;flex-direction: column;align-items: center;background-color: white;padding-right: 0.2em;padding-left: 0.2em;}#sk-9b52e035-e17a-4eae-9cdb-c8fd869e2a34 div.sk-item {z-index: 1;}#sk-9b52e035-e17a-4eae-9cdb-c8fd869e2a34 div.sk-parallel {display: flex;align-items: stretch;justify-content: center;background-color: white;}#sk-9b52e035-e17a-4eae-9cdb-c8fd869e2a34 div.sk-parallel::before {content: \"\";position: absolute;border-left: 1px solid gray;box-sizing: border-box;top: 2em;bottom: 0;left: 50%;}#sk-9b52e035-e17a-4eae-9cdb-c8fd869e2a34 div.sk-parallel-item {display: flex;flex-direction: column;position: relative;background-color: white;}#sk-9b52e035-e17a-4eae-9cdb-c8fd869e2a34 div.sk-parallel-item:first-child::after {align-self: flex-end;width: 50%;}#sk-9b52e035-e17a-4eae-9cdb-c8fd869e2a34 div.sk-parallel-item:last-child::after {align-self: flex-start;width: 50%;}#sk-9b52e035-e17a-4eae-9cdb-c8fd869e2a34 div.sk-parallel-item:only-child::after {width: 0;}#sk-9b52e035-e17a-4eae-9cdb-c8fd869e2a34 div.sk-dashed-wrapped {border: 1px dashed gray;margin: 0 0.4em 0.5em 0.4em;box-sizing: border-box;padding-bottom: 0.4em;background-color: white;position: relative;}#sk-9b52e035-e17a-4eae-9cdb-c8fd869e2a34 div.sk-label label {font-family: monospace;font-weight: bold;background-color: white;display: inline-block;line-height: 1.2em;}#sk-9b52e035-e17a-4eae-9cdb-c8fd869e2a34 div.sk-label-container {position: relative;z-index: 2;text-align: center;}#sk-9b52e035-e17a-4eae-9cdb-c8fd869e2a34 div.sk-container {/* jupyter's `normalize.less` sets `[hidden] { display: none; }` but bootstrap.min.css set `[hidden] { display: none !important; }` so we also need the `!important` here to be able to override the default hidden behavior on the sphinx rendered scikit-learn.org. See: https://github.com/scikit-learn/scikit-learn/issues/21755 */display: inline-block !important;position: relative;}#sk-9b52e035-e17a-4eae-9cdb-c8fd869e2a34 div.sk-text-repr-fallback {display: none;}</style><div id=\"sk-9b52e035-e17a-4eae-9cdb-c8fd869e2a34\" class=\"sk-top-container\"><div class=\"sk-text-repr-fallback\"><pre>GridSearchCV(cv=10,\n",
              "             estimator=Pipeline(steps=[(&#x27;standardscaler&#x27;, StandardScaler()),\n",
              "                                       (&#x27;logisticregression&#x27;,\n",
              "                                        LogisticRegression(random_state=42))]),\n",
              "             n_jobs=-1,\n",
              "             param_grid=[{&#x27;logisticregression__C&#x27;: [0.01, 0.1, 1.0, 10, 100,\n",
              "                                                    1000]}],\n",
              "             scoring=&#x27;f1_macro&#x27;, verbose=1)</pre><b>Please rerun this cell to show the HTML repr or trust the notebook.</b></div><div class=\"sk-container\" hidden><div class=\"sk-item sk-dashed-wrapped\"><div class=\"sk-label-container\"><div class=\"sk-label sk-toggleable\"><input class=\"sk-toggleable__control sk-hidden--visually\" id=\"218cfea3-2a96-43e8-9b12-ff0dd465c622\" type=\"checkbox\" ><label for=\"218cfea3-2a96-43e8-9b12-ff0dd465c622\" class=\"sk-toggleable__label sk-toggleable__label-arrow\">GridSearchCV</label><div class=\"sk-toggleable__content\"><pre>GridSearchCV(cv=10,\n",
              "             estimator=Pipeline(steps=[(&#x27;standardscaler&#x27;, StandardScaler()),\n",
              "                                       (&#x27;logisticregression&#x27;,\n",
              "                                        LogisticRegression(random_state=42))]),\n",
              "             n_jobs=-1,\n",
              "             param_grid=[{&#x27;logisticregression__C&#x27;: [0.01, 0.1, 1.0, 10, 100,\n",
              "                                                    1000]}],\n",
              "             scoring=&#x27;f1_macro&#x27;, verbose=1)</pre></div></div></div><div class=\"sk-parallel\"><div class=\"sk-parallel-item\"><div class=\"sk-item\"><div class=\"sk-serial\"><div class=\"sk-item\"><div class=\"sk-serial\"><div class=\"sk-item\"><div class=\"sk-estimator sk-toggleable\"><input class=\"sk-toggleable__control sk-hidden--visually\" id=\"4c5eed71-f0ac-4edb-aa5f-ee791eba9b87\" type=\"checkbox\" ><label for=\"4c5eed71-f0ac-4edb-aa5f-ee791eba9b87\" class=\"sk-toggleable__label sk-toggleable__label-arrow\">StandardScaler</label><div class=\"sk-toggleable__content\"><pre>StandardScaler()</pre></div></div></div><div class=\"sk-item\"><div class=\"sk-estimator sk-toggleable\"><input class=\"sk-toggleable__control sk-hidden--visually\" id=\"256b7ef5-019f-4c13-ad90-0804514e62f9\" type=\"checkbox\" ><label for=\"256b7ef5-019f-4c13-ad90-0804514e62f9\" class=\"sk-toggleable__label sk-toggleable__label-arrow\">LogisticRegression</label><div class=\"sk-toggleable__content\"><pre>LogisticRegression(random_state=42)</pre></div></div></div></div></div></div></div></div></div></div></div></div>"
            ],
            "text/plain": [
              "GridSearchCV(cv=10,\n",
              "             estimator=Pipeline(steps=[('standardscaler', StandardScaler()),\n",
              "                                       ('logisticregression',\n",
              "                                        LogisticRegression(random_state=42))]),\n",
              "             n_jobs=-1,\n",
              "             param_grid=[{'logisticregression__C': [0.01, 0.1, 1.0, 10, 100,\n",
              "                                                    1000]}],\n",
              "             scoring='f1_macro', verbose=1)"
            ]
          },
          "metadata": {},
          "execution_count": 37
        }
      ]
    },
    {
      "cell_type": "code",
      "source": [
        "gs.best_score_"
      ],
      "metadata": {
        "colab": {
          "base_uri": "https://localhost:8080/"
        },
        "id": "GlISaIvToQlI",
        "outputId": "54e7d2db-fa75-4a2b-a6d0-2307782144d5"
      },
      "id": "GlISaIvToQlI",
      "execution_count": 38,
      "outputs": [
        {
          "output_type": "execute_result",
          "data": {
            "text/plain": [
              "0.7640931504077902"
            ]
          },
          "metadata": {},
          "execution_count": 38
        }
      ]
    },
    {
      "cell_type": "code",
      "source": [
        "predictions = gs.predict(X_test)\n",
        "print(classification_report(y_test, predictions))"
      ],
      "metadata": {
        "colab": {
          "base_uri": "https://localhost:8080/"
        },
        "id": "htCdhB1kobGf",
        "outputId": "9f8a1720-7a8c-4504-d684-3b27ad901030"
      },
      "id": "htCdhB1kobGf",
      "execution_count": 39,
      "outputs": [
        {
          "output_type": "stream",
          "name": "stdout",
          "text": [
            "              precision    recall  f1-score   support\n",
            "\n",
            "           0       0.85      0.84      0.84       606\n",
            "           1       0.67      0.68      0.68       293\n",
            "\n",
            "    accuracy                           0.79       899\n",
            "   macro avg       0.76      0.76      0.76       899\n",
            "weighted avg       0.79      0.79      0.79       899\n",
            "\n"
          ]
        }
      ]
    },
    {
      "cell_type": "markdown",
      "source": [
        "Next I will try K-NN Classification."
      ],
      "metadata": {
        "id": "d2aFGZrTc2SR"
      },
      "id": "d2aFGZrTc2SR"
    },
    {
      "cell_type": "code",
      "source": [
        "X_test = new_test_df.drop(['gender'], axis=1)\n",
        "y_test = new_test_df.gender\n",
        "X_train = new_df.drop(['gender'], axis=1)\n",
        "y_train = new_df.gender"
      ],
      "metadata": {
        "id": "CFNms1C2d-5Y"
      },
      "id": "CFNms1C2d-5Y",
      "execution_count": 42,
      "outputs": []
    },
    {
      "cell_type": "code",
      "source": [
        "X_train = scaler.fit_transform(X_train)\n",
        "X_test = scaler.transform(X_test)"
      ],
      "metadata": {
        "id": "tWT9BDyJaM5_"
      },
      "id": "tWT9BDyJaM5_",
      "execution_count": 43,
      "outputs": []
    },
    {
      "cell_type": "code",
      "source": [
        "from sklearn.neighbors import KNeighborsClassifier"
      ],
      "metadata": {
        "id": "ewKsLq-Dc5P5"
      },
      "id": "ewKsLq-Dc5P5",
      "execution_count": 44,
      "outputs": []
    },
    {
      "cell_type": "code",
      "source": [
        "knn = KNeighborsClassifier(n_neighbors=5)\n",
        "knn.fit(X_train, y_train)\n",
        "\n",
        "y_pred = knn.predict(X_test)"
      ],
      "metadata": {
        "id": "WwGkUxY7c9lD"
      },
      "id": "WwGkUxY7c9lD",
      "execution_count": 45,
      "outputs": []
    },
    {
      "cell_type": "code",
      "source": [
        "from sklearn.metrics import accuracy_score, confusion_matrix\n",
        "from sklearn.metrics import plot_confusion_matrix\n",
        "ac = classification_report(y_test, y_pred)"
      ],
      "metadata": {
        "colab": {
          "base_uri": "https://localhost:8080/"
        },
        "id": "jAKF2YRXbms5",
        "outputId": "5e6abde7-caf5-4a8d-93f5-1fa76bcf7d74"
      },
      "id": "jAKF2YRXbms5",
      "execution_count": 46,
      "outputs": [
        {
          "output_type": "execute_result",
          "data": {
            "text/plain": [
              "array([[505, 101],\n",
              "       [114, 179]])"
            ]
          },
          "metadata": {},
          "execution_count": 46
        }
      ]
    },
    {
      "cell_type": "code",
      "source": [
        "print(ac)"
      ],
      "metadata": {
        "colab": {
          "base_uri": "https://localhost:8080/"
        },
        "id": "WG1vM9uapgBd",
        "outputId": "914a6080-4c3a-497d-ad76-ef42e2b8c290"
      },
      "id": "WG1vM9uapgBd",
      "execution_count": 47,
      "outputs": [
        {
          "output_type": "stream",
          "name": "stdout",
          "text": [
            "              precision    recall  f1-score   support\n",
            "\n",
            "           0       0.82      0.83      0.82       606\n",
            "           1       0.64      0.61      0.62       293\n",
            "\n",
            "    accuracy                           0.76       899\n",
            "   macro avg       0.73      0.72      0.72       899\n",
            "weighted avg       0.76      0.76      0.76       899\n",
            "\n"
          ]
        }
      ]
    },
    {
      "cell_type": "markdown",
      "source": [
        "The final classical model will be Support Vector Machine"
      ],
      "metadata": {
        "id": "Hf9sYpblq_Tq"
      },
      "id": "Hf9sYpblq_Tq"
    },
    {
      "cell_type": "code",
      "source": [
        "from sklearn.svm import SVC"
      ],
      "metadata": {
        "id": "KjmSWTGDq-wg"
      },
      "id": "KjmSWTGDq-wg",
      "execution_count": 48,
      "outputs": []
    },
    {
      "cell_type": "code",
      "source": [
        "svm_pipe = make_pipeline(StandardScaler(), SVC())"
      ],
      "metadata": {
        "id": "Sk_s-wB0U3dM"
      },
      "id": "Sk_s-wB0U3dM",
      "execution_count": 49,
      "outputs": []
    },
    {
      "cell_type": "code",
      "source": [
        "X_test = new_test_df.drop(['gender'], axis=1)\n",
        "y_test = new_test_df.gender\n",
        "X_train = new_df.drop(['gender'], axis=1)\n",
        "y_train = new_df.gender\n",
        "svm_pipe.fit(X_train, y_train)"
      ],
      "metadata": {
        "colab": {
          "base_uri": "https://localhost:8080/",
          "height": 125
        },
        "id": "OiaAtQKQ4GZ0",
        "outputId": "34bcdf36-9919-43bb-855c-03971c40f9e6"
      },
      "id": "OiaAtQKQ4GZ0",
      "execution_count": 50,
      "outputs": [
        {
          "output_type": "execute_result",
          "data": {
            "text/html": [
              "<style>#sk-787ee999-219c-40cb-926a-3d85434a70a8 {color: black;background-color: white;}#sk-787ee999-219c-40cb-926a-3d85434a70a8 pre{padding: 0;}#sk-787ee999-219c-40cb-926a-3d85434a70a8 div.sk-toggleable {background-color: white;}#sk-787ee999-219c-40cb-926a-3d85434a70a8 label.sk-toggleable__label {cursor: pointer;display: block;width: 100%;margin-bottom: 0;padding: 0.3em;box-sizing: border-box;text-align: center;}#sk-787ee999-219c-40cb-926a-3d85434a70a8 label.sk-toggleable__label-arrow:before {content: \"▸\";float: left;margin-right: 0.25em;color: #696969;}#sk-787ee999-219c-40cb-926a-3d85434a70a8 label.sk-toggleable__label-arrow:hover:before {color: black;}#sk-787ee999-219c-40cb-926a-3d85434a70a8 div.sk-estimator:hover label.sk-toggleable__label-arrow:before {color: black;}#sk-787ee999-219c-40cb-926a-3d85434a70a8 div.sk-toggleable__content {max-height: 0;max-width: 0;overflow: hidden;text-align: left;background-color: #f0f8ff;}#sk-787ee999-219c-40cb-926a-3d85434a70a8 div.sk-toggleable__content pre {margin: 0.2em;color: black;border-radius: 0.25em;background-color: #f0f8ff;}#sk-787ee999-219c-40cb-926a-3d85434a70a8 input.sk-toggleable__control:checked~div.sk-toggleable__content {max-height: 200px;max-width: 100%;overflow: auto;}#sk-787ee999-219c-40cb-926a-3d85434a70a8 input.sk-toggleable__control:checked~label.sk-toggleable__label-arrow:before {content: \"▾\";}#sk-787ee999-219c-40cb-926a-3d85434a70a8 div.sk-estimator input.sk-toggleable__control:checked~label.sk-toggleable__label {background-color: #d4ebff;}#sk-787ee999-219c-40cb-926a-3d85434a70a8 div.sk-label input.sk-toggleable__control:checked~label.sk-toggleable__label {background-color: #d4ebff;}#sk-787ee999-219c-40cb-926a-3d85434a70a8 input.sk-hidden--visually {border: 0;clip: rect(1px 1px 1px 1px);clip: rect(1px, 1px, 1px, 1px);height: 1px;margin: -1px;overflow: hidden;padding: 0;position: absolute;width: 1px;}#sk-787ee999-219c-40cb-926a-3d85434a70a8 div.sk-estimator {font-family: monospace;background-color: #f0f8ff;border: 1px dotted black;border-radius: 0.25em;box-sizing: border-box;margin-bottom: 0.5em;}#sk-787ee999-219c-40cb-926a-3d85434a70a8 div.sk-estimator:hover {background-color: #d4ebff;}#sk-787ee999-219c-40cb-926a-3d85434a70a8 div.sk-parallel-item::after {content: \"\";width: 100%;border-bottom: 1px solid gray;flex-grow: 1;}#sk-787ee999-219c-40cb-926a-3d85434a70a8 div.sk-label:hover label.sk-toggleable__label {background-color: #d4ebff;}#sk-787ee999-219c-40cb-926a-3d85434a70a8 div.sk-serial::before {content: \"\";position: absolute;border-left: 1px solid gray;box-sizing: border-box;top: 2em;bottom: 0;left: 50%;}#sk-787ee999-219c-40cb-926a-3d85434a70a8 div.sk-serial {display: flex;flex-direction: column;align-items: center;background-color: white;padding-right: 0.2em;padding-left: 0.2em;}#sk-787ee999-219c-40cb-926a-3d85434a70a8 div.sk-item {z-index: 1;}#sk-787ee999-219c-40cb-926a-3d85434a70a8 div.sk-parallel {display: flex;align-items: stretch;justify-content: center;background-color: white;}#sk-787ee999-219c-40cb-926a-3d85434a70a8 div.sk-parallel::before {content: \"\";position: absolute;border-left: 1px solid gray;box-sizing: border-box;top: 2em;bottom: 0;left: 50%;}#sk-787ee999-219c-40cb-926a-3d85434a70a8 div.sk-parallel-item {display: flex;flex-direction: column;position: relative;background-color: white;}#sk-787ee999-219c-40cb-926a-3d85434a70a8 div.sk-parallel-item:first-child::after {align-self: flex-end;width: 50%;}#sk-787ee999-219c-40cb-926a-3d85434a70a8 div.sk-parallel-item:last-child::after {align-self: flex-start;width: 50%;}#sk-787ee999-219c-40cb-926a-3d85434a70a8 div.sk-parallel-item:only-child::after {width: 0;}#sk-787ee999-219c-40cb-926a-3d85434a70a8 div.sk-dashed-wrapped {border: 1px dashed gray;margin: 0 0.4em 0.5em 0.4em;box-sizing: border-box;padding-bottom: 0.4em;background-color: white;position: relative;}#sk-787ee999-219c-40cb-926a-3d85434a70a8 div.sk-label label {font-family: monospace;font-weight: bold;background-color: white;display: inline-block;line-height: 1.2em;}#sk-787ee999-219c-40cb-926a-3d85434a70a8 div.sk-label-container {position: relative;z-index: 2;text-align: center;}#sk-787ee999-219c-40cb-926a-3d85434a70a8 div.sk-container {/* jupyter's `normalize.less` sets `[hidden] { display: none; }` but bootstrap.min.css set `[hidden] { display: none !important; }` so we also need the `!important` here to be able to override the default hidden behavior on the sphinx rendered scikit-learn.org. See: https://github.com/scikit-learn/scikit-learn/issues/21755 */display: inline-block !important;position: relative;}#sk-787ee999-219c-40cb-926a-3d85434a70a8 div.sk-text-repr-fallback {display: none;}</style><div id=\"sk-787ee999-219c-40cb-926a-3d85434a70a8\" class=\"sk-top-container\"><div class=\"sk-text-repr-fallback\"><pre>Pipeline(steps=[(&#x27;standardscaler&#x27;, StandardScaler()), (&#x27;svc&#x27;, SVC())])</pre><b>Please rerun this cell to show the HTML repr or trust the notebook.</b></div><div class=\"sk-container\" hidden><div class=\"sk-item sk-dashed-wrapped\"><div class=\"sk-label-container\"><div class=\"sk-label sk-toggleable\"><input class=\"sk-toggleable__control sk-hidden--visually\" id=\"ea241fed-63f1-4c8b-bfd3-3c10ab09b107\" type=\"checkbox\" ><label for=\"ea241fed-63f1-4c8b-bfd3-3c10ab09b107\" class=\"sk-toggleable__label sk-toggleable__label-arrow\">Pipeline</label><div class=\"sk-toggleable__content\"><pre>Pipeline(steps=[(&#x27;standardscaler&#x27;, StandardScaler()), (&#x27;svc&#x27;, SVC())])</pre></div></div></div><div class=\"sk-serial\"><div class=\"sk-item\"><div class=\"sk-estimator sk-toggleable\"><input class=\"sk-toggleable__control sk-hidden--visually\" id=\"a1e83fa1-cc31-45b2-8004-59ae8db743e3\" type=\"checkbox\" ><label for=\"a1e83fa1-cc31-45b2-8004-59ae8db743e3\" class=\"sk-toggleable__label sk-toggleable__label-arrow\">StandardScaler</label><div class=\"sk-toggleable__content\"><pre>StandardScaler()</pre></div></div></div><div class=\"sk-item\"><div class=\"sk-estimator sk-toggleable\"><input class=\"sk-toggleable__control sk-hidden--visually\" id=\"4b8befda-2771-48aa-a732-d83154b95762\" type=\"checkbox\" ><label for=\"4b8befda-2771-48aa-a732-d83154b95762\" class=\"sk-toggleable__label sk-toggleable__label-arrow\">SVC</label><div class=\"sk-toggleable__content\"><pre>SVC()</pre></div></div></div></div></div></div></div>"
            ],
            "text/plain": [
              "Pipeline(steps=[('standardscaler', StandardScaler()), ('svc', SVC())])"
            ]
          },
          "metadata": {},
          "execution_count": 50
        }
      ]
    },
    {
      "cell_type": "code",
      "source": [
        "predictions = svm_pipe.predict(X_test)\n",
        "print(classification_report(y_test, predictions))"
      ],
      "metadata": {
        "colab": {
          "base_uri": "https://localhost:8080/"
        },
        "id": "oV2-MWvVWGu5",
        "outputId": "30a6985e-eec6-496d-b9a6-10e47052ab24"
      },
      "id": "oV2-MWvVWGu5",
      "execution_count": 51,
      "outputs": [
        {
          "output_type": "stream",
          "name": "stdout",
          "text": [
            "              precision    recall  f1-score   support\n",
            "\n",
            "           0       0.85      0.83      0.84       606\n",
            "           1       0.66      0.70      0.68       293\n",
            "\n",
            "    accuracy                           0.78       899\n",
            "   macro avg       0.75      0.76      0.76       899\n",
            "weighted avg       0.79      0.78      0.78       899\n",
            "\n"
          ]
        }
      ]
    },
    {
      "cell_type": "markdown",
      "source": [
        "I will now move on to neural methods. I will start by doing binary classification with a shallow model."
      ],
      "metadata": {
        "id": "fZKyU3_VZFOb"
      },
      "id": "fZKyU3_VZFOb"
    },
    {
      "cell_type": "code",
      "source": [
        "import tensorflow as tf\n",
        "import tensorflow.keras as keras\n",
        "import matplotlib.pyplot as plt\n",
        "import numpy as np\n",
        "import seaborn as sns\n",
        "\n",
        "# to get reproducible results:\n",
        "np.random.seed(1234)\n",
        "tf.random.set_seed(1234)"
      ],
      "metadata": {
        "id": "Fp0eYvJqNZ0N"
      },
      "id": "Fp0eYvJqNZ0N",
      "execution_count": 198,
      "outputs": []
    },
    {
      "cell_type": "code",
      "source": [
        "X_test = new_test_df.drop(['gender'], axis=1)\n",
        "y_test = new_test_df.gender\n",
        "X_train = new_df.drop(['gender'], axis=1)\n",
        "y_train = new_df.gender"
      ],
      "metadata": {
        "id": "RmS-pHPQkqpd"
      },
      "id": "RmS-pHPQkqpd",
      "execution_count": 218,
      "outputs": []
    },
    {
      "cell_type": "code",
      "source": [
        "from sklearn.model_selection import train_test_split\n",
        "X_train, X_dev, y_train, y_dev = train_test_split(X_train, y_train, test_size=899, stratify=y_train)"
      ],
      "metadata": {
        "id": "e5JyFF0gCNN_"
      },
      "id": "e5JyFF0gCNN_",
      "execution_count": 219,
      "outputs": []
    },
    {
      "cell_type": "code",
      "source": [
        "y_train = np.asarray(y_train).astype('float32')\n",
        "y_dev = np.asarray(y_dev).astype('float32')\n",
        "y_test = np.asarray(y_test).astype('float32')\n",
        "\n",
        "print(y_train.shape)\n",
        "print(y_dev.shape)\n",
        "print(y_test.shape)\n",
        "\n",
        "print(X_train.shape)\n",
        "print(X_dev.shape)\n",
        "print(X_test.shape)"
      ],
      "metadata": {
        "colab": {
          "base_uri": "https://localhost:8080/"
        },
        "id": "TqVxOXQTlufH",
        "outputId": "c80fc671-18cd-493f-fa6e-f1731ff4c0fc"
      },
      "id": "TqVxOXQTlufH",
      "execution_count": 206,
      "outputs": [
        {
          "output_type": "stream",
          "name": "stdout",
          "text": [
            "(40552,)\n",
            "(899,)\n",
            "(899,)\n",
            "(40552, 52)\n",
            "(899, 52)\n",
            "(899, 52)\n"
          ]
        }
      ]
    },
    {
      "cell_type": "code",
      "source": [
        "model = keras.models.Sequential()\n",
        "model.add(keras.layers.Input(shape=(52,)))\n",
        "model.add(keras.layers.Dense(1, activation='sigmoid'))"
      ],
      "metadata": {
        "id": "ZvITb4IV5WWy"
      },
      "id": "ZvITb4IV5WWy",
      "execution_count": 207,
      "outputs": []
    },
    {
      "cell_type": "code",
      "source": [
        "sgd = keras.optimizers.SGD(learning_rate=0.01)\n",
        "model.compile(optimizer=sgd,\n",
        "              loss='binary_crossentropy',\n",
        "              metrics=['accuracy'])\n",
        "num_epochs = 50\n",
        "history = model.fit(X_train, y_train, epochs=num_epochs,\n",
        "                    validation_data=(X_dev, y_dev), batch_size=100)"
      ],
      "metadata": {
        "colab": {
          "base_uri": "https://localhost:8080/"
        },
        "id": "gGSeS5TM5osJ",
        "outputId": "307f98a6-2466-4099-a7f0-e15912e8fe3e"
      },
      "id": "gGSeS5TM5osJ",
      "execution_count": 208,
      "outputs": [
        {
          "output_type": "stream",
          "name": "stdout",
          "text": [
            "Epoch 1/50\n",
            "406/406 [==============================] - 1s 2ms/step - loss: 2040.9170 - accuracy: 0.5811 - val_loss: 200.0854 - val_accuracy: 0.4527\n",
            "Epoch 2/50\n",
            "406/406 [==============================] - 1s 1ms/step - loss: 1903.9514 - accuracy: 0.5881 - val_loss: 6441.8252 - val_accuracy: 0.6763\n",
            "Epoch 3/50\n",
            "406/406 [==============================] - 1s 1ms/step - loss: 1727.9657 - accuracy: 0.5949 - val_loss: 5820.2676 - val_accuracy: 0.6352\n",
            "Epoch 4/50\n",
            "406/406 [==============================] - 1s 1ms/step - loss: 1593.0569 - accuracy: 0.6037 - val_loss: 1085.3182 - val_accuracy: 0.6919\n",
            "Epoch 5/50\n",
            "406/406 [==============================] - 1s 1ms/step - loss: 1567.9403 - accuracy: 0.6135 - val_loss: 3565.5989 - val_accuracy: 0.6930\n",
            "Epoch 6/50\n",
            "406/406 [==============================] - 1s 1ms/step - loss: 1659.2085 - accuracy: 0.6152 - val_loss: 3869.9280 - val_accuracy: 0.3938\n",
            "Epoch 7/50\n",
            "406/406 [==============================] - 1s 1ms/step - loss: 1986.3538 - accuracy: 0.6343 - val_loss: 1664.2653 - val_accuracy: 0.6796\n",
            "Epoch 8/50\n",
            "406/406 [==============================] - 1s 1ms/step - loss: 1608.0804 - accuracy: 0.6305 - val_loss: 761.8050 - val_accuracy: 0.6885\n",
            "Epoch 9/50\n",
            "406/406 [==============================] - 1s 1ms/step - loss: 1644.8116 - accuracy: 0.6416 - val_loss: 755.7148 - val_accuracy: 0.7063\n",
            "Epoch 10/50\n",
            "406/406 [==============================] - 1s 1ms/step - loss: 1683.5479 - accuracy: 0.6471 - val_loss: 4657.2935 - val_accuracy: 0.6685\n",
            "Epoch 11/50\n",
            "406/406 [==============================] - 1s 1ms/step - loss: 2052.1782 - accuracy: 0.6480 - val_loss: 274.3953 - val_accuracy: 0.3637\n",
            "Epoch 12/50\n",
            "406/406 [==============================] - 1s 1ms/step - loss: 2033.1031 - accuracy: 0.6496 - val_loss: 228.8384 - val_accuracy: 0.6986\n",
            "Epoch 13/50\n",
            "406/406 [==============================] - 1s 1ms/step - loss: 2020.8549 - accuracy: 0.6646 - val_loss: 1622.8167 - val_accuracy: 0.7531\n",
            "Epoch 14/50\n",
            "406/406 [==============================] - 1s 1ms/step - loss: 1855.2172 - accuracy: 0.6688 - val_loss: 159.4207 - val_accuracy: 0.6652\n",
            "Epoch 15/50\n",
            "406/406 [==============================] - 1s 1ms/step - loss: 1796.9988 - accuracy: 0.6615 - val_loss: 3131.6653 - val_accuracy: 0.6607\n",
            "Epoch 16/50\n",
            "406/406 [==============================] - 1s 1ms/step - loss: 1672.4490 - accuracy: 0.6749 - val_loss: 1587.2889 - val_accuracy: 0.7542\n",
            "Epoch 17/50\n",
            "406/406 [==============================] - 1s 1ms/step - loss: 1805.9706 - accuracy: 0.6736 - val_loss: 66.5560 - val_accuracy: 0.7531\n",
            "Epoch 18/50\n",
            "406/406 [==============================] - 1s 1ms/step - loss: 1841.6936 - accuracy: 0.6863 - val_loss: 1127.1602 - val_accuracy: 0.5117\n",
            "Epoch 19/50\n",
            "406/406 [==============================] - 1s 1ms/step - loss: 1729.9424 - accuracy: 0.6787 - val_loss: 4872.7563 - val_accuracy: 0.7508\n",
            "Epoch 20/50\n",
            "406/406 [==============================] - 1s 1ms/step - loss: 1640.2607 - accuracy: 0.6775 - val_loss: 2281.1890 - val_accuracy: 0.5239\n",
            "Epoch 21/50\n",
            "406/406 [==============================] - 1s 1ms/step - loss: 1450.4270 - accuracy: 0.6843 - val_loss: 2421.4336 - val_accuracy: 0.7275\n",
            "Epoch 22/50\n",
            "406/406 [==============================] - 1s 1ms/step - loss: 2105.5452 - accuracy: 0.6859 - val_loss: 1676.9011 - val_accuracy: 0.7063\n",
            "Epoch 23/50\n",
            "406/406 [==============================] - 1s 1ms/step - loss: 1784.9335 - accuracy: 0.6906 - val_loss: 2513.1379 - val_accuracy: 0.7386\n",
            "Epoch 24/50\n",
            "406/406 [==============================] - 1s 1ms/step - loss: 1866.3260 - accuracy: 0.6927 - val_loss: 762.7925 - val_accuracy: 0.7553\n",
            "Epoch 25/50\n",
            "406/406 [==============================] - 1s 1ms/step - loss: 1835.9777 - accuracy: 0.6916 - val_loss: 77.4614 - val_accuracy: 0.6819\n",
            "Epoch 26/50\n",
            "406/406 [==============================] - 1s 1ms/step - loss: 1674.4666 - accuracy: 0.6923 - val_loss: 228.4812 - val_accuracy: 0.5818\n",
            "Epoch 27/50\n",
            "406/406 [==============================] - 1s 1ms/step - loss: 1923.8031 - accuracy: 0.6853 - val_loss: 1646.3348 - val_accuracy: 0.7553\n",
            "Epoch 28/50\n",
            "406/406 [==============================] - 1s 1ms/step - loss: 1828.9221 - accuracy: 0.7076 - val_loss: 11753.7061 - val_accuracy: 0.7208\n",
            "Epoch 29/50\n",
            "406/406 [==============================] - 1s 1ms/step - loss: 2084.2222 - accuracy: 0.6997 - val_loss: 194.9573 - val_accuracy: 0.6552\n",
            "Epoch 30/50\n",
            "406/406 [==============================] - 1s 1ms/step - loss: 1878.4598 - accuracy: 0.6971 - val_loss: 6554.3809 - val_accuracy: 0.7586\n",
            "Epoch 31/50\n",
            "406/406 [==============================] - 1s 1ms/step - loss: 1901.7919 - accuracy: 0.7083 - val_loss: 1140.6750 - val_accuracy: 0.4994\n",
            "Epoch 32/50\n",
            "406/406 [==============================] - 1s 1ms/step - loss: 1925.9392 - accuracy: 0.6961 - val_loss: 3845.4324 - val_accuracy: 0.6841\n",
            "Epoch 33/50\n",
            "406/406 [==============================] - 1s 1ms/step - loss: 1634.6490 - accuracy: 0.7041 - val_loss: 752.7873 - val_accuracy: 0.7553\n",
            "Epoch 34/50\n",
            "406/406 [==============================] - 1s 1ms/step - loss: 2147.7466 - accuracy: 0.7088 - val_loss: 899.9813 - val_accuracy: 0.7063\n",
            "Epoch 35/50\n",
            "406/406 [==============================] - 1s 1ms/step - loss: 1538.1606 - accuracy: 0.7059 - val_loss: 20593.6133 - val_accuracy: 0.6385\n",
            "Epoch 36/50\n",
            "406/406 [==============================] - 1s 1ms/step - loss: 1896.5518 - accuracy: 0.7044 - val_loss: 781.9048 - val_accuracy: 0.6819\n",
            "Epoch 37/50\n",
            "406/406 [==============================] - 1s 1ms/step - loss: 2077.6018 - accuracy: 0.7073 - val_loss: 452.1533 - val_accuracy: 0.6485\n",
            "Epoch 38/50\n",
            "406/406 [==============================] - 1s 1ms/step - loss: 2032.1221 - accuracy: 0.7031 - val_loss: 260.7301 - val_accuracy: 0.6830\n",
            "Epoch 39/50\n",
            "406/406 [==============================] - 1s 1ms/step - loss: 1857.6516 - accuracy: 0.7088 - val_loss: 3212.3804 - val_accuracy: 0.6474\n",
            "Epoch 40/50\n",
            "406/406 [==============================] - 1s 1ms/step - loss: 1904.3632 - accuracy: 0.7106 - val_loss: 23.8124 - val_accuracy: 0.5962\n",
            "Epoch 41/50\n",
            "406/406 [==============================] - 1s 1ms/step - loss: 1667.3484 - accuracy: 0.7062 - val_loss: 4090.1033 - val_accuracy: 0.7564\n",
            "Epoch 42/50\n",
            "406/406 [==============================] - 1s 1ms/step - loss: 1578.3364 - accuracy: 0.7121 - val_loss: 2445.0752 - val_accuracy: 0.6863\n",
            "Epoch 43/50\n",
            "406/406 [==============================] - 1s 1ms/step - loss: 1852.8744 - accuracy: 0.7096 - val_loss: 2140.3088 - val_accuracy: 0.7308\n",
            "Epoch 44/50\n",
            "406/406 [==============================] - 1s 1ms/step - loss: 1564.1283 - accuracy: 0.7139 - val_loss: 2001.2211 - val_accuracy: 0.6997\n",
            "Epoch 45/50\n",
            "406/406 [==============================] - 1s 1ms/step - loss: 1614.5660 - accuracy: 0.7228 - val_loss: 3203.7256 - val_accuracy: 0.7052\n",
            "Epoch 46/50\n",
            "406/406 [==============================] - 1s 1ms/step - loss: 1779.8810 - accuracy: 0.7105 - val_loss: 2127.5283 - val_accuracy: 0.7308\n",
            "Epoch 47/50\n",
            "406/406 [==============================] - 1s 1ms/step - loss: 2123.0652 - accuracy: 0.7246 - val_loss: 2086.2285 - val_accuracy: 0.6863\n",
            "Epoch 48/50\n",
            "406/406 [==============================] - 1s 1ms/step - loss: 1843.7905 - accuracy: 0.7132 - val_loss: 309.9268 - val_accuracy: 0.7375\n",
            "Epoch 49/50\n",
            "406/406 [==============================] - 1s 1ms/step - loss: 1475.9901 - accuracy: 0.7188 - val_loss: 369.3614 - val_accuracy: 0.7219\n",
            "Epoch 50/50\n",
            "406/406 [==============================] - 1s 1ms/step - loss: 1767.3230 - accuracy: 0.7173 - val_loss: 1542.7756 - val_accuracy: 0.7475\n"
          ]
        }
      ]
    },
    {
      "cell_type": "code",
      "source": [
        "epochs = range(1, num_epochs + 1)\n",
        "train_loss = history.history['loss']\n",
        "dev_loss = history.history['val_loss']\n",
        "\n",
        "plt.plot(epochs, train_loss, 'b', label='train')\n",
        "plt.plot(epochs, dev_loss, 'r', label='dev')\n",
        "plt.title('Loss curves')\n",
        "plt.xlabel('Epochs')\n",
        "plt.legend()\n",
        "plt.ylabel('Binary Crossentropy')"
      ],
      "metadata": {
        "colab": {
          "base_uri": "https://localhost:8080/",
          "height": 313
        },
        "id": "hKXMuyAw6DO2",
        "outputId": "14631f6b-5bbc-4a52-fcd1-4e3d71ef11df"
      },
      "id": "hKXMuyAw6DO2",
      "execution_count": 209,
      "outputs": [
        {
          "output_type": "execute_result",
          "data": {
            "text/plain": [
              "Text(0, 0.5, 'Binary Crossentropy')"
            ]
          },
          "metadata": {},
          "execution_count": 209
        },
        {
          "output_type": "display_data",
          "data": {
            "image/png": "[encoded data removed]",
            "text/plain": [
              "<Figure size 432x288 with 1 Axes>"
            ]
          },
          "metadata": {
            "needs_background": "light"
          }
        }
      ]
    },
    {
      "cell_type": "code",
      "source": [
        "plt.plot(epochs, history.history['accuracy'], 'b', label='train')\n",
        "plt.plot(epochs, history.history['val_accuracy'], 'r', label='dev')"
      ],
      "metadata": {
        "colab": {
          "base_uri": "https://localhost:8080/",
          "height": 283
        },
        "id": "zTPKIaKVaLd1",
        "outputId": "dab63809-f8a8-461d-8c07-8f47b5b3860c"
      },
      "id": "zTPKIaKVaLd1",
      "execution_count": 210,
      "outputs": [
        {
          "output_type": "execute_result",
          "data": {
            "text/plain": [
              "[<matplotlib.lines.Line2D at 0x7fa9b11228d0>]"
            ]
          },
          "metadata": {},
          "execution_count": 210
        },
        {
          "output_type": "display_data",
          "data": {
            "image/png": "[encoded data removed]",
            "text/plain": [
              "<Figure size 432x288 with 1 Axes>"
            ]
          },
          "metadata": {
            "needs_background": "light"
          }
        }
      ]
    },
    {
      "cell_type": "code",
      "source": [
        "from sklearn.metrics import classification_report\n",
        "predictions = [1. if x > 0.5 else 0. for x in model.predict(X_test)]\n",
        "print(classification_report(predictions, y_test))"
      ],
      "metadata": {
        "colab": {
          "base_uri": "https://localhost:8080/"
        },
        "id": "_Et4-Dt0atZq",
        "outputId": "b322b49a-3f8c-4653-8b21-f04874fc0c38"
      },
      "id": "_Et4-Dt0atZq",
      "execution_count": 211,
      "outputs": [
        {
          "output_type": "stream",
          "name": "stdout",
          "text": [
            "              precision    recall  f1-score   support\n",
            "\n",
            "         0.0       0.69      0.87      0.77       480\n",
            "         1.0       0.79      0.55      0.65       419\n",
            "\n",
            "    accuracy                           0.72       899\n",
            "   macro avg       0.74      0.71      0.71       899\n",
            "weighted avg       0.74      0.72      0.72       899\n",
            "\n"
          ]
        }
      ]
    },
    {
      "cell_type": "markdown",
      "source": [
        "As shown, the result is extremely bad. I will try to see if using a hidden layer can ease things up."
      ],
      "metadata": {
        "id": "eCgWh7nP286i"
      },
      "id": "eCgWh7nP286i"
    },
    {
      "cell_type": "markdown",
      "source": [
        "This means that I will now move on to Deep Model"
      ],
      "metadata": {
        "id": "w7NBHZN1CM3n"
      },
      "id": "w7NBHZN1CM3n"
    },
    {
      "cell_type": "code",
      "source": [
        "import tensorflow as tf\n",
        "import tensorflow.keras as keras\n",
        "import matplotlib.pyplot as plt\n",
        "import numpy as np\n",
        "import seaborn as sns\n",
        "\n",
        "# to get reproducible results:\n",
        "np.random.seed(1234)\n",
        "tf.random.set_seed(1234)"
      ],
      "metadata": {
        "id": "Isr9mOiN55vf"
      },
      "id": "Isr9mOiN55vf",
      "execution_count": 232,
      "outputs": []
    },
    {
      "cell_type": "code",
      "source": [
        "X_test = new_test_df.drop(['gender'], axis=1)\n",
        "y_test = new_test_df.gender\n",
        "X_train = new_df.drop(['gender'], axis=1)\n",
        "y_train = new_df.gender"
      ],
      "metadata": {
        "id": "mNsNq1-U5o7m"
      },
      "id": "mNsNq1-U5o7m",
      "execution_count": 233,
      "outputs": []
    },
    {
      "cell_type": "code",
      "source": [
        "from sklearn.model_selection import train_test_split\n",
        "X_train, X_dev, y_train, y_dev = train_test_split(X_train, y_train, test_size=899, stratify=y_train)"
      ],
      "metadata": {
        "id": "bObF8uzE5sx3"
      },
      "id": "bObF8uzE5sx3",
      "execution_count": 234,
      "outputs": []
    },
    {
      "cell_type": "code",
      "source": [
        "y_train = np.asarray(y_train).astype('float32')\n",
        "y_dev = np.asarray(y_dev).astype('float32')\n",
        "y_test = np.asarray(y_test).astype('float32')\n",
        "\n",
        "print(y_train.shape)\n",
        "print(y_dev.shape)\n",
        "print(y_test.shape)\n",
        "\n",
        "print(X_train.shape)\n",
        "print(X_dev.shape)\n",
        "print(X_test.shape)"
      ],
      "metadata": {
        "colab": {
          "base_uri": "https://localhost:8080/"
        },
        "id": "4_hllUOx5tTF",
        "outputId": "777574e8-b779-43a9-f6a1-3add61f4698d"
      },
      "id": "4_hllUOx5tTF",
      "execution_count": 235,
      "outputs": [
        {
          "output_type": "stream",
          "name": "stdout",
          "text": [
            "(40552,)\n",
            "(899,)\n",
            "(899,)\n",
            "(40552, 52)\n",
            "(899, 52)\n",
            "(899, 52)\n"
          ]
        }
      ]
    },
    {
      "cell_type": "code",
      "source": [
        "model = keras.models.Sequential()\n",
        "model.add(keras.layers.Input(shape=(52,)))\n",
        "model.add(keras.layers.Dense(500, activation='relu', name='dense1'))\n",
        "model.add(keras.layers.Dense(1, activation='sigmoid', name='dense2'))\n",
        "model.summary()"
      ],
      "metadata": {
        "colab": {
          "base_uri": "https://localhost:8080/"
        },
        "id": "O85tZ8Sj7LOc",
        "outputId": "9a975397-eea3-4d8d-e1d2-66dd34b566e7"
      },
      "id": "O85tZ8Sj7LOc",
      "execution_count": 236,
      "outputs": [
        {
          "output_type": "stream",
          "name": "stdout",
          "text": [
            "Model: \"sequential_34\"\n",
            "_________________________________________________________________\n",
            " Layer (type)                Output Shape              Param #   \n",
            "=================================================================\n",
            " dense1 (Dense)              (None, 500)               26500     \n",
            "                                                                 \n",
            " dense2 (Dense)              (None, 1)                 501       \n",
            "                                                                 \n",
            "=================================================================\n",
            "Total params: 27,001\n",
            "Trainable params: 27,001\n",
            "Non-trainable params: 0\n",
            "_________________________________________________________________\n"
          ]
        }
      ]
    },
    {
      "cell_type": "code",
      "source": [
        "sgd = keras.optimizers.SGD(learning_rate=0.01)\n",
        "model.compile(optimizer=sgd,\n",
        "              loss='binary_crossentropy',\n",
        "              metrics=['accuracy'])\n",
        "num_epochs = 50\n",
        "history = model.fit(X_train, y_train, epochs=num_epochs,\n",
        "                    validation_data=(X_dev, y_dev), batch_size=100)"
      ],
      "metadata": {
        "colab": {
          "base_uri": "https://localhost:8080/"
        },
        "id": "Zz0pHFuP7YQ7",
        "outputId": "d0eaa589-53bf-4426-c33f-17bdf3beffe1"
      },
      "id": "Zz0pHFuP7YQ7",
      "execution_count": 237,
      "outputs": [
        {
          "output_type": "stream",
          "name": "stdout",
          "text": [
            "Epoch 1/50\n",
            "406/406 [==============================] - 1s 2ms/step - loss: 1113.8302 - accuracy: 0.6656 - val_loss: 0.5999 - val_accuracy: 0.6763\n",
            "Epoch 2/50\n",
            "406/406 [==============================] - 1s 2ms/step - loss: 0.6067 - accuracy: 0.6849 - val_loss: 0.5959 - val_accuracy: 0.6774\n",
            "Epoch 3/50\n",
            "406/406 [==============================] - 1s 2ms/step - loss: 0.5926 - accuracy: 0.6911 - val_loss: 0.6034 - val_accuracy: 0.6763\n",
            "Epoch 4/50\n",
            "406/406 [==============================] - 1s 2ms/step - loss: 0.5886 - accuracy: 0.6993 - val_loss: 0.5955 - val_accuracy: 0.6785\n",
            "Epoch 5/50\n",
            "406/406 [==============================] - 1s 2ms/step - loss: 0.5826 - accuracy: 0.7014 - val_loss: 0.6281 - val_accuracy: 0.6785\n",
            "Epoch 6/50\n",
            "406/406 [==============================] - 1s 2ms/step - loss: 0.5749 - accuracy: 0.7078 - val_loss: 0.5470 - val_accuracy: 0.6885\n",
            "Epoch 7/50\n",
            "406/406 [==============================] - 1s 2ms/step - loss: 0.5711 - accuracy: 0.7118 - val_loss: 0.5440 - val_accuracy: 0.7475\n",
            "Epoch 8/50\n",
            "406/406 [==============================] - 1s 2ms/step - loss: 0.5653 - accuracy: 0.7145 - val_loss: 0.6770 - val_accuracy: 0.6763\n",
            "Epoch 9/50\n",
            "406/406 [==============================] - 1s 2ms/step - loss: 0.5580 - accuracy: 0.7183 - val_loss: 0.6424 - val_accuracy: 0.6774\n",
            "Epoch 10/50\n",
            "406/406 [==============================] - 1s 2ms/step - loss: 0.5567 - accuracy: 0.7195 - val_loss: 0.5228 - val_accuracy: 0.7519\n",
            "Epoch 11/50\n",
            "406/406 [==============================] - 1s 2ms/step - loss: 0.5503 - accuracy: 0.7248 - val_loss: 0.5230 - val_accuracy: 0.7219\n",
            "Epoch 12/50\n",
            "406/406 [==============================] - 1s 2ms/step - loss: 0.5449 - accuracy: 0.7276 - val_loss: 0.5338 - val_accuracy: 0.7397\n",
            "Epoch 13/50\n",
            "406/406 [==============================] - 1s 2ms/step - loss: 0.5421 - accuracy: 0.7310 - val_loss: 0.5215 - val_accuracy: 0.7164\n",
            "Epoch 14/50\n",
            "406/406 [==============================] - 1s 2ms/step - loss: 0.5405 - accuracy: 0.7288 - val_loss: 0.5165 - val_accuracy: 0.7241\n",
            "Epoch 15/50\n",
            "406/406 [==============================] - 1s 2ms/step - loss: 0.5359 - accuracy: 0.7315 - val_loss: 0.5459 - val_accuracy: 0.7241\n",
            "Epoch 16/50\n",
            "406/406 [==============================] - 1s 2ms/step - loss: 0.5358 - accuracy: 0.7328 - val_loss: 0.5153 - val_accuracy: 0.7531\n",
            "Epoch 17/50\n",
            "406/406 [==============================] - 1s 2ms/step - loss: 0.5273 - accuracy: 0.7402 - val_loss: 0.6057 - val_accuracy: 0.6796\n",
            "Epoch 18/50\n",
            "406/406 [==============================] - 1s 2ms/step - loss: 0.5307 - accuracy: 0.7365 - val_loss: 0.4976 - val_accuracy: 0.7597\n",
            "Epoch 19/50\n",
            "406/406 [==============================] - 1s 2ms/step - loss: 0.5238 - accuracy: 0.7416 - val_loss: 0.5060 - val_accuracy: 0.7586\n",
            "Epoch 20/50\n",
            "406/406 [==============================] - 1s 2ms/step - loss: 0.5188 - accuracy: 0.7441 - val_loss: 0.4980 - val_accuracy: 0.7697\n",
            "Epoch 21/50\n",
            "406/406 [==============================] - 1s 2ms/step - loss: 0.5172 - accuracy: 0.7446 - val_loss: 0.5003 - val_accuracy: 0.7419\n",
            "Epoch 22/50\n",
            "406/406 [==============================] - 1s 2ms/step - loss: 0.5144 - accuracy: 0.7469 - val_loss: 0.5476 - val_accuracy: 0.6897\n",
            "Epoch 23/50\n",
            "406/406 [==============================] - 1s 2ms/step - loss: 0.5150 - accuracy: 0.7482 - val_loss: 0.4879 - val_accuracy: 0.7608\n",
            "Epoch 24/50\n",
            "406/406 [==============================] - 1s 2ms/step - loss: 0.5086 - accuracy: 0.7501 - val_loss: 0.4834 - val_accuracy: 0.7764\n",
            "Epoch 25/50\n",
            "406/406 [==============================] - 1s 2ms/step - loss: 0.5117 - accuracy: 0.7484 - val_loss: 0.5008 - val_accuracy: 0.7631\n",
            "Epoch 26/50\n",
            "406/406 [==============================] - 1s 2ms/step - loss: 0.5083 - accuracy: 0.7514 - val_loss: 0.4893 - val_accuracy: 0.7620\n",
            "Epoch 27/50\n",
            "406/406 [==============================] - 1s 2ms/step - loss: 0.5070 - accuracy: 0.7504 - val_loss: 0.4948 - val_accuracy: 0.7475\n",
            "Epoch 28/50\n",
            "406/406 [==============================] - 1s 2ms/step - loss: 0.5052 - accuracy: 0.7530 - val_loss: 0.5084 - val_accuracy: 0.7508\n",
            "Epoch 29/50\n",
            "406/406 [==============================] - 1s 2ms/step - loss: 0.5041 - accuracy: 0.7518 - val_loss: 0.4883 - val_accuracy: 0.7675\n",
            "Epoch 30/50\n",
            "406/406 [==============================] - 1s 2ms/step - loss: 0.5047 - accuracy: 0.7534 - val_loss: 0.4950 - val_accuracy: 0.7575\n",
            "Epoch 31/50\n",
            "406/406 [==============================] - 1s 2ms/step - loss: 0.5023 - accuracy: 0.7547 - val_loss: 0.5028 - val_accuracy: 0.7430\n",
            "Epoch 32/50\n",
            "406/406 [==============================] - 1s 2ms/step - loss: 0.4964 - accuracy: 0.7597 - val_loss: 0.4776 - val_accuracy: 0.7731\n",
            "Epoch 33/50\n",
            "406/406 [==============================] - 1s 2ms/step - loss: 0.4968 - accuracy: 0.7573 - val_loss: 0.4919 - val_accuracy: 0.7497\n",
            "Epoch 34/50\n",
            "406/406 [==============================] - 1s 2ms/step - loss: 0.4954 - accuracy: 0.7611 - val_loss: 0.5160 - val_accuracy: 0.7386\n",
            "Epoch 35/50\n",
            "406/406 [==============================] - 1s 2ms/step - loss: 0.4932 - accuracy: 0.7605 - val_loss: 0.5228 - val_accuracy: 0.7375\n",
            "Epoch 36/50\n",
            "406/406 [==============================] - 1s 2ms/step - loss: 0.4956 - accuracy: 0.7585 - val_loss: 0.5000 - val_accuracy: 0.7519\n",
            "Epoch 37/50\n",
            "406/406 [==============================] - 1s 2ms/step - loss: 0.4872 - accuracy: 0.7652 - val_loss: 0.4992 - val_accuracy: 0.7586\n",
            "Epoch 38/50\n",
            "406/406 [==============================] - 1s 2ms/step - loss: 0.4913 - accuracy: 0.7588 - val_loss: 0.5186 - val_accuracy: 0.7319\n",
            "Epoch 39/50\n",
            "406/406 [==============================] - 1s 2ms/step - loss: 0.4946 - accuracy: 0.7609 - val_loss: 0.4914 - val_accuracy: 0.7575\n",
            "Epoch 40/50\n",
            "406/406 [==============================] - 1s 2ms/step - loss: 0.4867 - accuracy: 0.7656 - val_loss: 0.7241 - val_accuracy: 0.6785\n",
            "Epoch 41/50\n",
            "406/406 [==============================] - 1s 2ms/step - loss: 0.4886 - accuracy: 0.7657 - val_loss: 0.4731 - val_accuracy: 0.7731\n",
            "Epoch 42/50\n",
            "406/406 [==============================] - 1s 2ms/step - loss: 0.4863 - accuracy: 0.7642 - val_loss: 0.4697 - val_accuracy: 0.7753\n",
            "Epoch 43/50\n",
            "406/406 [==============================] - 1s 2ms/step - loss: 0.4894 - accuracy: 0.7640 - val_loss: 0.5977 - val_accuracy: 0.6841\n",
            "Epoch 44/50\n",
            "406/406 [==============================] - 1s 2ms/step - loss: 0.4879 - accuracy: 0.7652 - val_loss: 0.4695 - val_accuracy: 0.7731\n",
            "Epoch 45/50\n",
            "406/406 [==============================] - 1s 2ms/step - loss: 0.4845 - accuracy: 0.7664 - val_loss: 0.4717 - val_accuracy: 0.7775\n",
            "Epoch 46/50\n",
            "406/406 [==============================] - 1s 2ms/step - loss: 0.4834 - accuracy: 0.7661 - val_loss: 0.5472 - val_accuracy: 0.7264\n",
            "Epoch 47/50\n",
            "406/406 [==============================] - 1s 2ms/step - loss: 0.4846 - accuracy: 0.7662 - val_loss: 0.4718 - val_accuracy: 0.7742\n",
            "Epoch 48/50\n",
            "406/406 [==============================] - 1s 2ms/step - loss: 0.4831 - accuracy: 0.7673 - val_loss: 0.4709 - val_accuracy: 0.7742\n",
            "Epoch 49/50\n",
            "406/406 [==============================] - 1s 2ms/step - loss: 0.4847 - accuracy: 0.7665 - val_loss: 0.6024 - val_accuracy: 0.7052\n",
            "Epoch 50/50\n",
            "406/406 [==============================] - 1s 2ms/step - loss: 0.4830 - accuracy: 0.7668 - val_loss: 0.4951 - val_accuracy: 0.7442\n"
          ]
        }
      ]
    },
    {
      "cell_type": "code",
      "source": [
        "epochs = range(1, num_epochs + 1)\n",
        "train_loss = history.history['loss']\n",
        "dev_loss = history.history['val_loss']\n",
        "\n",
        "plt.plot(epochs, train_loss, 'b', label='train')\n",
        "plt.plot(epochs, dev_loss, 'r', label='dev')\n",
        "plt.title('Loss curves')\n",
        "plt.xlabel('Epochs')\n",
        "plt.legend()\n",
        "plt.ylabel('Binary Crossentropy')"
      ],
      "metadata": {
        "colab": {
          "base_uri": "https://localhost:8080/",
          "height": 313
        },
        "id": "l6qlQmovJQ6S",
        "outputId": "7651afcc-3003-44bb-de3c-734181ce7583"
      },
      "id": "l6qlQmovJQ6S",
      "execution_count": 238,
      "outputs": [
        {
          "output_type": "execute_result",
          "data": {
            "text/plain": [
              "Text(0, 0.5, 'Binary Crossentropy')"
            ]
          },
          "metadata": {},
          "execution_count": 238
        },
        {
          "output_type": "display_data",
          "data": {
            "image/png": "[encoded data removed]",
            "text/plain": [
              "<Figure size 432x288 with 1 Axes>"
            ]
          },
          "metadata": {
            "needs_background": "light"
          }
        }
      ]
    },
    {
      "cell_type": "code",
      "source": [
        "plt.plot(epochs, history.history['accuracy'], 'b', label='train')\n",
        "plt.plot(epochs, history.history['val_accuracy'], 'r', label='dev')"
      ],
      "metadata": {
        "colab": {
          "base_uri": "https://localhost:8080/",
          "height": 283
        },
        "id": "nJsyJVHR428J",
        "outputId": "d8d3313b-a05c-422e-aef4-fe6fe60b7d38"
      },
      "id": "nJsyJVHR428J",
      "execution_count": 239,
      "outputs": [
        {
          "output_type": "execute_result",
          "data": {
            "text/plain": [
              "[<matplotlib.lines.Line2D at 0x7fa9b16a1750>]"
            ]
          },
          "metadata": {},
          "execution_count": 239
        },
        {
          "output_type": "display_data",
          "data": {
            "image/png": "[encoded data removed]",
            "text/plain": [
              "<Figure size 432x288 with 1 Axes>"
            ]
          },
          "metadata": {
            "needs_background": "light"
          }
        }
      ]
    },
    {
      "cell_type": "code",
      "source": [
        "from sklearn.metrics import classification_report\n",
        "predictions = [1. if x > 0.5 else 0. for x in model.predict(X_test)]\n",
        "print(classification_report(predictions, y_test))"
      ],
      "metadata": {
        "id": "f_NyK-GDK4YX",
        "colab": {
          "base_uri": "https://localhost:8080/"
        },
        "outputId": "28ee1510-8515-4eaa-c634-372d1dc648c1"
      },
      "id": "f_NyK-GDK4YX",
      "execution_count": 240,
      "outputs": [
        {
          "output_type": "stream",
          "name": "stdout",
          "text": [
            "              precision    recall  f1-score   support\n",
            "\n",
            "         0.0       0.94      0.73      0.83       778\n",
            "         1.0       0.29      0.71      0.42       121\n",
            "\n",
            "    accuracy                           0.73       899\n",
            "   macro avg       0.62      0.72      0.62       899\n",
            "weighted avg       0.85      0.73      0.77       899\n",
            "\n"
          ]
        }
      ]
    },
    {
      "cell_type": "markdown",
      "source": [
        "I will try to use 1d convolutions network"
      ],
      "metadata": {
        "id": "ZS_qaHeWfaMz"
      },
      "id": "ZS_qaHeWfaMz"
    },
    {
      "cell_type": "code",
      "source": [
        "import tensorflow as tf\n",
        "import tensorflow.keras as keras\n",
        "import matplotlib.pyplot as plt\n",
        "import numpy as np\n",
        "import seaborn as sns\n",
        "\n",
        "# to get reproducible results:\n",
        "np.random.seed(1234)\n",
        "tf.random.set_seed(1234)"
      ],
      "metadata": {
        "id": "VMilRfjpfZYO"
      },
      "id": "VMilRfjpfZYO",
      "execution_count": 258,
      "outputs": []
    },
    {
      "cell_type": "code",
      "source": [
        "!pip install pydub"
      ],
      "metadata": {
        "colab": {
          "base_uri": "https://localhost:8080/"
        },
        "id": "hfwY39dKgD7M",
        "outputId": "58fbbc10-2673-46c1-9777-e05b12159768"
      },
      "id": "hfwY39dKgD7M",
      "execution_count": 259,
      "outputs": [
        {
          "output_type": "stream",
          "name": "stdout",
          "text": [
            "Requirement already satisfied: pydub in /usr/local/lib/python3.7/dist-packages (0.25.1)\n"
          ]
        }
      ]
    },
    {
      "cell_type": "code",
      "source": [
        "from keras.layers import *\n",
        "model = keras.models.Sequential()\n",
        "model.add(keras.layers.Input(shape=(52, 1)))"
      ],
      "metadata": {
        "id": "yTRsk2OLgH6O"
      },
      "id": "yTRsk2OLgH6O",
      "execution_count": 260,
      "outputs": []
    },
    {
      "cell_type": "code",
      "source": [
        "X_test = new_test_df.drop(['gender'], axis=1)\n",
        "y_test = new_test_df.gender\n",
        "X_train = new_df.drop(['gender'], axis=1)\n",
        "y_train = new_df.gender"
      ],
      "metadata": {
        "id": "js53lJIaki6m"
      },
      "id": "js53lJIaki6m",
      "execution_count": 261,
      "outputs": []
    },
    {
      "cell_type": "code",
      "source": [
        "X_train = np.float32(X_train)\n",
        "y_train = np.float32(y_train)\n",
        "X_test = np.float32(X_test)\n",
        "y_test = np.float32(y_test)"
      ],
      "metadata": {
        "id": "6hoJP_2Bkmtw"
      },
      "id": "6hoJP_2Bkmtw",
      "execution_count": 262,
      "outputs": []
    },
    {
      "cell_type": "code",
      "source": [
        "from sklearn.model_selection import train_test_split\n",
        "X_train, X_dev, y_train, y_dev = train_test_split(X_train, y_train, test_size=899, stratify=y_train)"
      ],
      "metadata": {
        "id": "F9R-3r17MgFR"
      },
      "id": "F9R-3r17MgFR",
      "execution_count": 263,
      "outputs": []
    },
    {
      "cell_type": "markdown",
      "source": [
        "I was unable to go deeper due to the relative size of the data. The shallow network below however does seem to result to a good result"
      ],
      "metadata": {
        "id": "VeCqtknzxN3P"
      },
      "id": "VeCqtknzxN3P"
    },
    {
      "cell_type": "code",
      "source": [
        "# # block 1\n",
        "model.add(Conv1D(16, 3, activation='relu'))\n",
        "model.add(Conv1D(32, 3, activation='relu'))\n",
        "model.add(MaxPool1D(pool_size=2, strides=2))\n",
        "\n",
        "# block 2\n",
        "model.add(Conv1D(64, 3, activation='relu'))\n",
        "model.add(Conv1D(128, 3, activation='relu'))\n",
        "model.add(MaxPool1D(pool_size=2, strides=2))\n",
        "\n",
        "# dense part\n",
        "model.add(Flatten())\n",
        "model.add(Dense(512, activation='relu'))\n",
        "model.add(Dense(1, activation='sigmoid'))"
      ],
      "metadata": {
        "id": "T0Bd57fChJlx"
      },
      "id": "T0Bd57fChJlx",
      "execution_count": 264,
      "outputs": []
    },
    {
      "cell_type": "code",
      "source": [
        "model.summary()"
      ],
      "metadata": {
        "colab": {
          "base_uri": "https://localhost:8080/"
        },
        "id": "HGRcqlGAivoV",
        "outputId": "51db3a40-ea30-4f9c-dc7e-33477b8303c2"
      },
      "id": "HGRcqlGAivoV",
      "execution_count": 265,
      "outputs": [
        {
          "output_type": "stream",
          "name": "stdout",
          "text": [
            "Model: \"sequential_36\"\n",
            "_________________________________________________________________\n",
            " Layer (type)                Output Shape              Param #   \n",
            "=================================================================\n",
            " conv1d_9 (Conv1D)           (None, 50, 16)            64        \n",
            "                                                                 \n",
            " conv1d_10 (Conv1D)          (None, 48, 32)            1568      \n",
            "                                                                 \n",
            " max_pooling1d_4 (MaxPooling  (None, 24, 32)           0         \n",
            " 1D)                                                             \n",
            "                                                                 \n",
            " conv1d_11 (Conv1D)          (None, 22, 64)            6208      \n",
            "                                                                 \n",
            " conv1d_12 (Conv1D)          (None, 20, 128)           24704     \n",
            "                                                                 \n",
            " max_pooling1d_5 (MaxPooling  (None, 10, 128)          0         \n",
            " 1D)                                                             \n",
            "                                                                 \n",
            " flatten_2 (Flatten)         (None, 1280)              0         \n",
            "                                                                 \n",
            " dense_23 (Dense)            (None, 512)               655872    \n",
            "                                                                 \n",
            " dense_24 (Dense)            (None, 1)                 513       \n",
            "                                                                 \n",
            "=================================================================\n",
            "Total params: 688,929\n",
            "Trainable params: 688,929\n",
            "Non-trainable params: 0\n",
            "_________________________________________________________________\n"
          ]
        }
      ]
    },
    {
      "cell_type": "code",
      "source": [
        "model.compile(optimizer=keras.optimizers.Adam(learning_rate=0.001),\n",
        "              loss='binary_crossentropy',\n",
        "              metrics=['accuracy'])"
      ],
      "metadata": {
        "id": "xvpR0H83jV7E"
      },
      "id": "xvpR0H83jV7E",
      "execution_count": 266,
      "outputs": []
    },
    {
      "cell_type": "code",
      "source": [
        "es = keras.callbacks.EarlyStopping(monitor='val_loss', verbose=1, patience=10)\n",
        "history = model.fit(X_train, y_train, epochs=100,\n",
        "                    validation_data=(X_dev, y_dev),\n",
        "                    callbacks=[es])"
      ],
      "metadata": {
        "colab": {
          "base_uri": "https://localhost:8080/"
        },
        "id": "B6d9ULzXjfik",
        "outputId": "13bd9655-83af-4a3a-c771-862e6e18cf02"
      },
      "id": "B6d9ULzXjfik",
      "execution_count": 267,
      "outputs": [
        {
          "output_type": "stream",
          "name": "stdout",
          "text": [
            "Epoch 1/100\n",
            "1268/1268 [==============================] - 19s 15ms/step - loss: 0.6385 - accuracy: 0.7691 - val_loss: 0.4279 - val_accuracy: 0.7987\n",
            "Epoch 2/100\n",
            "1268/1268 [==============================] - 18s 14ms/step - loss: 0.4348 - accuracy: 0.7890 - val_loss: 0.4274 - val_accuracy: 0.7764\n",
            "Epoch 3/100\n",
            "1268/1268 [==============================] - 18s 14ms/step - loss: 0.4536 - accuracy: 0.7895 - val_loss: 0.4146 - val_accuracy: 0.8076\n",
            "Epoch 4/100\n",
            "1268/1268 [==============================] - 18s 14ms/step - loss: 0.4269 - accuracy: 0.7937 - val_loss: 0.4164 - val_accuracy: 0.7931\n",
            "Epoch 5/100\n",
            "1268/1268 [==============================] - 18s 14ms/step - loss: 0.4228 - accuracy: 0.7969 - val_loss: 0.4291 - val_accuracy: 0.7898\n",
            "Epoch 6/100\n",
            "1268/1268 [==============================] - 18s 14ms/step - loss: 0.4228 - accuracy: 0.7955 - val_loss: 0.4046 - val_accuracy: 0.7964\n",
            "Epoch 7/100\n",
            "1268/1268 [==============================] - 18s 14ms/step - loss: 0.4233 - accuracy: 0.7979 - val_loss: 0.4160 - val_accuracy: 0.7942\n",
            "Epoch 8/100\n",
            "1268/1268 [==============================] - 18s 14ms/step - loss: 0.4180 - accuracy: 0.7998 - val_loss: 0.4176 - val_accuracy: 0.7987\n",
            "Epoch 9/100\n",
            "1268/1268 [==============================] - 18s 14ms/step - loss: 0.4172 - accuracy: 0.7997 - val_loss: 0.4106 - val_accuracy: 0.8065\n",
            "Epoch 10/100\n",
            "1268/1268 [==============================] - 18s 15ms/step - loss: 0.4158 - accuracy: 0.8013 - val_loss: 0.4155 - val_accuracy: 0.7976\n",
            "Epoch 11/100\n",
            "1268/1268 [==============================] - 18s 15ms/step - loss: 0.4132 - accuracy: 0.8026 - val_loss: 0.4145 - val_accuracy: 0.8009\n",
            "Epoch 12/100\n",
            "1268/1268 [==============================] - 19s 15ms/step - loss: 0.4127 - accuracy: 0.8024 - val_loss: 0.4029 - val_accuracy: 0.8009\n",
            "Epoch 13/100\n",
            "1268/1268 [==============================] - 18s 15ms/step - loss: 0.4114 - accuracy: 0.8047 - val_loss: 0.4067 - val_accuracy: 0.8087\n",
            "Epoch 14/100\n",
            "1268/1268 [==============================] - 19s 15ms/step - loss: 0.4084 - accuracy: 0.8033 - val_loss: 0.4160 - val_accuracy: 0.8053\n",
            "Epoch 15/100\n",
            "1268/1268 [==============================] - 18s 15ms/step - loss: 0.4098 - accuracy: 0.8059 - val_loss: 0.4145 - val_accuracy: 0.8009\n",
            "Epoch 16/100\n",
            "1268/1268 [==============================] - 18s 14ms/step - loss: 0.4054 - accuracy: 0.8053 - val_loss: 0.4060 - val_accuracy: 0.8020\n",
            "Epoch 17/100\n",
            "1268/1268 [==============================] - 19s 15ms/step - loss: 0.4085 - accuracy: 0.8067 - val_loss: 0.4056 - val_accuracy: 0.7964\n",
            "Epoch 18/100\n",
            "1268/1268 [==============================] - 18s 15ms/step - loss: 0.4017 - accuracy: 0.8071 - val_loss: 0.4105 - val_accuracy: 0.8076\n",
            "Epoch 19/100\n",
            "1268/1268 [==============================] - 18s 14ms/step - loss: 0.3997 - accuracy: 0.8091 - val_loss: 0.4037 - val_accuracy: 0.8053\n",
            "Epoch 20/100\n",
            "1268/1268 [==============================] - 18s 15ms/step - loss: 0.4002 - accuracy: 0.8074 - val_loss: 0.4105 - val_accuracy: 0.8020\n",
            "Epoch 21/100\n",
            "1268/1268 [==============================] - 18s 14ms/step - loss: 0.3971 - accuracy: 0.8104 - val_loss: 0.4084 - val_accuracy: 0.8076\n",
            "Epoch 22/100\n",
            "1268/1268 [==============================] - 18s 14ms/step - loss: 0.3960 - accuracy: 0.8108 - val_loss: 0.4758 - val_accuracy: 0.7998\n",
            "Epoch 00022: early stopping\n"
          ]
        }
      ]
    },
    {
      "cell_type": "code",
      "source": [
        "plt.plot(history.history['val_loss'],  label='val')\n",
        "plt.plot(history.history['loss'], label='train')\n",
        "plt.title('Loss')\n",
        "plt.xlabel('Epochs')\n",
        "plt.ylabel('Loss')\n",
        "plt.legend()\n",
        "plt.show()"
      ],
      "metadata": {
        "colab": {
          "base_uri": "https://localhost:8080/",
          "height": 295
        },
        "id": "sFK6H78a3-Gc",
        "outputId": "1ccd006d-15b9-4170-bd11-60a9730ce47b"
      },
      "id": "sFK6H78a3-Gc",
      "execution_count": 272,
      "outputs": [
        {
          "output_type": "display_data",
          "data": {
            "image/png": "[encoded data removed]",
            "text/plain": [
              "<Figure size 432x288 with 1 Axes>"
            ]
          },
          "metadata": {
            "needs_background": "light"
          }
        }
      ]
    },
    {
      "cell_type": "code",
      "source": [
        "plt.plot(history.history['val_accuracy'],  label='val')\n",
        "plt.plot(history.history['accuracy'], label='train')\n",
        "plt.title('Accuracy')\n",
        "plt.xlabel('Epochs')\n",
        "plt.ylabel('Accuracy')\n",
        "plt.legend()\n",
        "plt.show()"
      ],
      "metadata": {
        "colab": {
          "base_uri": "https://localhost:8080/",
          "height": 295
        },
        "id": "0nE9aj9l4W4j",
        "outputId": "50973e2d-aacd-4da5-fdc4-2d14a92ef717"
      },
      "id": "0nE9aj9l4W4j",
      "execution_count": 273,
      "outputs": [
        {
          "output_type": "display_data",
          "data": {
            "image/png": "[encoded data removed]",
            "text/plain": [
              "<Figure size 432x288 with 1 Axes>"
            ]
          },
          "metadata": {
            "needs_background": "light"
          }
        }
      ]
    },
    {
      "cell_type": "code",
      "source": [
        "prediction = from_binary(model.predict(X_test))\n",
        "print(\"Accuracy: \",  accuracy_score(y_test, prediction))"
      ],
      "metadata": {
        "id": "Ky67VsN1Bi8r",
        "colab": {
          "base_uri": "https://localhost:8080/"
        },
        "outputId": "3b025aaa-f1d3-4610-da48-2d5aa449c48e"
      },
      "id": "Ky67VsN1Bi8r",
      "execution_count": 274,
      "outputs": [
        {
          "output_type": "stream",
          "name": "stdout",
          "text": [
            "Accuracy:  0.6740823136818688\n"
          ]
        }
      ]
    },
    {
      "cell_type": "code",
      "source": [
        "from sklearn.metrics import classification_report\n",
        "predictions = [1. if x > 0.5 else 0. for x in model.predict(X_test)]\n",
        "print(classification_report(predictions, y_test))"
      ],
      "metadata": {
        "colab": {
          "base_uri": "https://localhost:8080/"
        },
        "id": "gN2aiYOVcDNp",
        "outputId": "81cab8df-a7af-4b39-b1d9-3715e2b13db6"
      },
      "id": "gN2aiYOVcDNp",
      "execution_count": 275,
      "outputs": [
        {
          "output_type": "stream",
          "name": "stdout",
          "text": [
            "              precision    recall  f1-score   support\n",
            "\n",
            "         0.0       0.86      0.83      0.84       627\n",
            "         1.0       0.63      0.68      0.66       272\n",
            "\n",
            "    accuracy                           0.79       899\n",
            "   macro avg       0.75      0.76      0.75       899\n",
            "weighted avg       0.79      0.79      0.79       899\n",
            "\n"
          ]
        }
      ]
    }
  ],
  "metadata": {
    "kernelspec": {
      "display_name": "Python 3",
      "language": "python",
      "name": "python3"
    },
    "language_info": {
      "codemirror_mode": {
        "name": "ipython",
        "version": 3
      },
      "file_extension": ".py",
      "mimetype": "text/x-python",
      "name": "python",
      "nbconvert_exporter": "python",
      "pygments_lexer": "ipython3",
      "version": "3.8.8"
    },
    "colab": {
      "name": "mlprojectfinal.ipynb",
      "provenance": [],
      "collapsed_sections": []
    }
  },
  "nbformat": 4,
  "nbformat_minor": 5
}